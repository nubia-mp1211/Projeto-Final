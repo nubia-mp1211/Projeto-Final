{
 "cells": [
  {
   "cell_type": "code",
   "execution_count": 4,
   "metadata": {},
   "outputs": [],
   "source": [
    "# Importando as bibliotecas necessarias:\n",
    "\n",
    "import requests \n",
    "import pandas as pd\n",
    "import time\n",
    "from datetime import datetime\n",
    "import csv\n",
    "\n",
    "\n",
    "import matplotlib.pyplot as plt\n",
    "import seaborn as sns\n",
    "sns.set()\n",
    "\n",
    "\n",
    "# Leitura do arquivo de VaciNA.csv selecionando alguns\n",
    "# campos para pesquisa:\n",
    "\n",
    "df = pd.read_csv(\"vacinas_2021-04-03-1708.csv\", sep=\";\", \n",
    "                 usecols=['vacina_descricao_dose', 'paciente_idade',\n",
    "                          'vacina_categoria_nome',\n",
    "                          'vacina_fabricante_nome', 'paciente_endereco_uf'])"
   ]
  },
  {
   "cell_type": "code",
   "execution_count": 6,
   "metadata": {},
   "outputs": [
    {
     "name": "stdout",
     "output_type": "stream",
     "text": [
      "5057662\n"
     ]
    }
   ],
   "source": [
    "# Total  de pessoas vacinadas \n",
    "# Regiao SUDESTE\n",
    "\n",
    "# (1) Estado de SAO PAULO - SP\n",
    "\n",
    "Sao_Paulo = df.loc[(df.paciente_endereco_uf == 'SP')]\n",
    "\n",
    "print(len(Sao_Paulo))\n",
    "#df.loc[(df.paciente_endereco_uf == 'SP')].hist(bins=100)"
   ]
  },
  {
   "cell_type": "code",
   "execution_count": 7,
   "metadata": {},
   "outputs": [
    {
     "name": "stdout",
     "output_type": "stream",
     "text": [
      "1408968\n"
     ]
    }
   ],
   "source": [
    "# (2) Estado do RIO DE JANEIRO - RJ\n",
    "\n",
    "Rio = df.loc[(df.paciente_endereco_uf == 'RJ')]\n",
    "\n",
    "print(len(Rio))\n",
    "\n",
    "#df.loc[(df.paciente_endereco_uf == 'RJ')].hist(bins=100)"
   ]
  },
  {
   "cell_type": "code",
   "execution_count": 8,
   "metadata": {},
   "outputs": [
    {
     "name": "stdout",
     "output_type": "stream",
     "text": [
      "1861724\n"
     ]
    }
   ],
   "source": [
    "# (3) Estado de MINAS GERAIS - MG\n",
    "\n",
    "Minas = df.loc[(df.paciente_endereco_uf == 'MG')]\n",
    "\n",
    "print(len(Minas))\n",
    "\n",
    "#df.loc[(df.paciente_endereco_uf == 'MG')].hist(bins=100)"
   ]
  },
  {
   "cell_type": "code",
   "execution_count": 9,
   "metadata": {},
   "outputs": [
    {
     "name": "stdout",
     "output_type": "stream",
     "text": [
      "439347\n"
     ]
    }
   ],
   "source": [
    "# (1) Estado do ESPÍRITO SANTO - ES\n",
    "\n",
    "Esp_Santo = df.loc[(df.paciente_endereco_uf == 'ES')]\n",
    "\n",
    "print(len(Esp_Santo))\n",
    "\n",
    "#df.loc[(df.paciente_endereco_uf == 'ES')].hist(bins=100)"
   ]
  },
  {
   "cell_type": "code",
   "execution_count": 10,
   "metadata": {},
   "outputs": [
    {
     "name": "stdout",
     "output_type": "stream",
     "text": [
      "Somando total de vacinados .......\n",
      "A soma total da Regiao SUDESTE -------->  8767701\n"
     ]
    }
   ],
   "source": [
    "# Calculando o total de vacinados da Região SUDESTE\n",
    "#\n",
    "\n",
    "\n",
    "print (\"Somando total de vacinados .......\")\n",
    "\n",
    "\n",
    "soma_1 = df.loc[df['paciente_endereco_uf'].\n",
    "                isin(['SP', 'RJ', 'MG', 'ES'])]\n",
    "\n",
    "\n",
    "print(\"A soma total da Regiao SUDESTE --------> \", len(soma_1))                             \n",
    "                                     "
   ]
  },
  {
   "cell_type": "code",
   "execution_count": 11,
   "metadata": {},
   "outputs": [
    {
     "name": "stdout",
     "output_type": "stream",
     "text": [
      "A porcentagem brasileiros vacinadas na Regiao SUL é:  41.35708018867925\n"
     ]
    }
   ],
   "source": [
    "Porcentagem = len(soma_1)/(212000)\n",
    "\n",
    "print('A porcentagem brasileiros vacinadas na Regiao SUL é: ', Porcentagem)\n",
    "              "
   ]
  },
  {
   "cell_type": "code",
   "execution_count": 12,
   "metadata": {},
   "outputs": [
    {
     "data": {
      "text/plain": [
       "array([[<AxesSubplot:title={'center':'paciente_idade'}>]], dtype=object)"
      ]
     },
     "execution_count": 12,
     "metadata": {},
     "output_type": "execute_result"
    },
    {
     "data": {
      "image/png": "[encoded data removed]",
      "text/plain": [
       "<Figure size 432x288 with 1 Axes>"
      ]
     },
     "metadata": {},
     "output_type": "display_data"
    }
   ],
   "source": [
    "soma_1.hist(bins=100)"
   ]
  },
  {
   "cell_type": "code",
   "execution_count": null,
   "metadata": {},
   "outputs": [],
   "source": []
  }
 ],
 "metadata": {
  "kernelspec": {
   "display_name": "Python 3",
   "language": "python",
   "name": "python3"
  },
  "language_info": {
   "codemirror_mode": {
    "name": "ipython",
    "version": 3
   },
   "file_extension": ".py",
   "mimetype": "text/x-python",
   "name": "python",
   "nbconvert_exporter": "python",
   "pygments_lexer": "ipython3",
   "version": "3.8.5"
  }
 },
 "nbformat": 4,
 "nbformat_minor": 4
}
