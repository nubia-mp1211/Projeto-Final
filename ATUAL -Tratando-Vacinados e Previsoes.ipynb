{
 "cells": [
  {
   "cell_type": "markdown",
   "metadata": {},
   "source": [
    "# Temos a base de dados Amostra, farei a mineiração dos dados dos campos ('ds', 'y') para executar o Modelo de Previsão de Séries Temporais, o Prophet:\n",
    "1) Campo Data da Aplicação da Vacina ('ds')\n",
    "2) Campo Data Descricao Dose 1. Dose e 2. Dose ('y')"
   ]
  },
  {
   "cell_type": "code",
   "execution_count": 1,
   "metadata": {},
   "outputs": [],
   "source": [
    "# DATA de Atualização; 03/06/2021"
   ]
  },
  {
   "cell_type": "code",
   "execution_count": 1,
   "metadata": {},
   "outputs": [],
   "source": [
    "# Importando as principais Bibliotecas:\n",
    "\n",
    "import csv\n",
    "import time\n",
    "import requests \n",
    "import pandas  as pd\n",
    "import numpy   as np\n",
    "import seaborn as sns\n",
    "from random   import random\n",
    "from datetime import datetime\n",
    "from datetime import date\n",
    "\n",
    "\n",
    "# Importar bibliotecas para construir gráficos:\n",
    "\n",
    "import seaborn as sns\n",
    "import matplotlib.pyplot as plt\n",
    "sns.set()\n",
    "\n",
    "# Bibliotecas de Algoritmos de Regressão:\n",
    "\n",
    "from sklearn.tree            import DecisionTreeClassifier\n",
    "from catboost                import CatBoostClassifier\n",
    "from sklearn.metrics         import accuracy_score\n",
    "from sklearn.neighbors       import KNeighborsClassifier\n",
    "from sklearn.linear_model    import LogisticRegression\n",
    "from sklearn.metrics         import confusion_matrix, classification_report\n",
    "from sklearn.model_selection import train_test_split, GridSearchCV\n",
    "from sklearn.preprocessing   import StandardScaler\n",
    "from sklearn.ensemble        import RandomForestRegressor, ExtraTreesRegressor\n",
    "\n",
    "\n",
    "# Biblioteca do Prophet para Algoritmo de Previsão:\n",
    "\n",
    "from prophet             import Prophet\n",
    "from prophet.plot        import plot_plotly\n",
    "from prophet.plot        import plot_cross_validation_metric\n",
    "from prophet.plot        import plot_components_plotly\n",
    "from prophet.plot        import add_changepoints_to_plot\n",
    "from prophet.diagnostics import performance_metrics\n",
    "from prophet.diagnostics import cross_validation\n",
    "\n",
    "\n",
    "# Leitura Banco Dados da Amostra no dia 26/05/2021:\n",
    "\n",
    "df = pd.read_csv(\"BD_Amostra-Alguns-26-05-2021.csv\", sep=\";\")\n",
    "usecols   = ['vacina_fabricante_nome',\n",
    "             'paciente_idade',\n",
    "             'paciente_id',\n",
    "             'vacina_dataAplicacao',\n",
    "             'paciente_endereco_uf',\n",
    "             'vacina_descricao_dose']"
   ]
  },
  {
   "cell_type": "code",
   "execution_count": 2,
   "metadata": {},
   "outputs": [],
   "source": [
    "# Definindo Variaveis Globais:\n",
    "\n",
    "FATOR_AMOSTRA = 0.001 # É o valor da porcentagem obtida pelo Banco de Dados Amostra: 1/1000"
   ]
  },
  {
   "cell_type": "markdown",
   "metadata": {},
   "source": [
    "# A métrica MAPE (Mean absolute percentage error). \n",
    "Essa métrica nos mostra o quanto do ajuste está errado percentualmente."
   ]
  },
  {
   "cell_type": "code",
   "execution_count": 3,
   "metadata": {},
   "outputs": [],
   "source": [
    "# Função para calcular porcentagem Absoluta de Erro:\n",
    "\n",
    "def mean_absolute_percentage_error(y_true, y_pred): \n",
    "    y_true, y_pred = np.array(y_true), np.array(y_pred)\n",
    "    return np.mean(np.abs((y_true - y_pred) / y_true)) * 100"
   ]
  },
  {
   "cell_type": "markdown",
   "metadata": {},
   "source": [
    "# Primeiro passo: \n",
    "\n",
    "1) Preparando o campo para o datetime: formato = %Y-%m-%dT%H:%M:%S\"\\\n",
    "2) Denifir que o campo 'vacina_dataAplicacao' terá somente a DATA no formato: AAAA/MM/DD\\\n",
    "3) Remover o TimeZone do campo DATA\n"
   ]
  },
  {
   "cell_type": "code",
   "execution_count": 4,
   "metadata": {},
   "outputs": [
    {
     "data": {
      "text/plain": [
       "vacina_fabricante_nome    object\n",
       "paciente_idade             int64\n",
       "paciente_id               object\n",
       "vacina_dataAplicacao      object\n",
       "paciente_endereco_uf      object\n",
       "vacina_descricao_dose     object\n",
       "dtype: object"
      ]
     },
     "execution_count": 4,
     "metadata": {},
     "output_type": "execute_result"
    }
   ],
   "source": [
    "# Converter a coluna \"vacina_dataAplicacao,\" datetime somente em date e tratando TimeZOne:\n",
    "\n",
    "df['vacina_dataAplicacao'] = pd.to_datetime(df['vacina_dataAplicacao']).dt.date\n",
    "\n",
    "df.dtypes"
   ]
  },
  {
   "cell_type": "code",
   "execution_count": 5,
   "metadata": {},
   "outputs": [
    {
     "data": {
      "text/plain": [
       "0        2021-03-19\n",
       "1        2021-03-03\n",
       "2        2021-03-09\n",
       "3        2021-04-01\n",
       "4        2021-03-25\n",
       "            ...    \n",
       "61473    2021-05-25\n",
       "61474    2021-05-07\n",
       "61475    2021-05-25\n",
       "61476    2021-05-25\n",
       "61477    2021-05-25\n",
       "Name: vacina_dataAplicacao, Length: 61478, dtype: object"
      ]
     },
     "execution_count": 5,
     "metadata": {},
     "output_type": "execute_result"
    }
   ],
   "source": [
    "# Deixando a coluna \"vacina_dataAplicacao\" que será utilizada no Algoritmo de Previsão de Séries Temporais:\n",
    "\n",
    "df['vacina_dataAplicacao']"
   ]
  },
  {
   "cell_type": "markdown",
   "metadata": {},
   "source": [
    "# Segundo Passo: \n",
    "## Ordenar a coluna \"vacina_dataAplicacao\".\n",
    "\n",
    "Uma das premissas para se trabalhar com série temporal:\n",
    "devemos manter a ordem correta dos acontecimentos dos eventos.\\\n",
    "Portanto, vamos ordenar a coluna \"vacina_dataAplicacao\"."
   ]
  },
  {
   "cell_type": "code",
   "execution_count": 5,
   "metadata": {},
   "outputs": [
    {
     "data": {
      "text/html": [
       "<div>\n",
       "<style scoped>\n",
       "    .dataframe tbody tr th:only-of-type {\n",
       "        vertical-align: middle;\n",
       "    }\n",
       "\n",
       "    .dataframe tbody tr th {\n",
       "        vertical-align: top;\n",
       "    }\n",
       "\n",
       "    .dataframe thead th {\n",
       "        text-align: right;\n",
       "    }\n",
       "</style>\n",
       "<table border=\"1\" class=\"dataframe\">\n",
       "  <thead>\n",
       "    <tr style=\"text-align: right;\">\n",
       "      <th></th>\n",
       "      <th>index</th>\n",
       "      <th>vacina_dataAplicacao</th>\n",
       "    </tr>\n",
       "  </thead>\n",
       "  <tbody>\n",
       "    <tr>\n",
       "      <th>0</th>\n",
       "      <td>25187</td>\n",
       "      <td>2020-03-23</td>\n",
       "    </tr>\n",
       "    <tr>\n",
       "      <th>1</th>\n",
       "      <td>26044</td>\n",
       "      <td>2020-03-23</td>\n",
       "    </tr>\n",
       "    <tr>\n",
       "      <th>2</th>\n",
       "      <td>51822</td>\n",
       "      <td>2020-03-23</td>\n",
       "    </tr>\n",
       "    <tr>\n",
       "      <th>3</th>\n",
       "      <td>20580</td>\n",
       "      <td>2021-01-18</td>\n",
       "    </tr>\n",
       "    <tr>\n",
       "      <th>4</th>\n",
       "      <td>1569</td>\n",
       "      <td>2021-01-18</td>\n",
       "    </tr>\n",
       "    <tr>\n",
       "      <th>...</th>\n",
       "      <td>...</td>\n",
       "      <td>...</td>\n",
       "    </tr>\n",
       "    <tr>\n",
       "      <th>61473</th>\n",
       "      <td>20311</td>\n",
       "      <td>2021-05-25</td>\n",
       "    </tr>\n",
       "    <tr>\n",
       "      <th>61474</th>\n",
       "      <td>20309</td>\n",
       "      <td>2021-05-25</td>\n",
       "    </tr>\n",
       "    <tr>\n",
       "      <th>61475</th>\n",
       "      <td>20302</td>\n",
       "      <td>2021-05-25</td>\n",
       "    </tr>\n",
       "    <tr>\n",
       "      <th>61476</th>\n",
       "      <td>20213</td>\n",
       "      <td>2021-05-25</td>\n",
       "    </tr>\n",
       "    <tr>\n",
       "      <th>61477</th>\n",
       "      <td>61477</td>\n",
       "      <td>2021-05-25</td>\n",
       "    </tr>\n",
       "  </tbody>\n",
       "</table>\n",
       "<p>61478 rows × 2 columns</p>\n",
       "</div>"
      ],
      "text/plain": [
       "       index vacina_dataAplicacao\n",
       "0      25187           2020-03-23\n",
       "1      26044           2020-03-23\n",
       "2      51822           2020-03-23\n",
       "3      20580           2021-01-18\n",
       "4       1569           2021-01-18\n",
       "...      ...                  ...\n",
       "61473  20311           2021-05-25\n",
       "61474  20309           2021-05-25\n",
       "61475  20302           2021-05-25\n",
       "61476  20213           2021-05-25\n",
       "61477  61477           2021-05-25\n",
       "\n",
       "[61478 rows x 2 columns]"
      ]
     },
     "execution_count": 5,
     "metadata": {},
     "output_type": "execute_result"
    }
   ],
   "source": [
    "# Ordenando a coluna data:\n",
    "\n",
    "df = df.sort_values('vacina_dataAplicacao')\n",
    "df['vacina_dataAplicacao'].reset_index()"
   ]
  },
  {
   "cell_type": "markdown",
   "metadata": {},
   "source": [
    "# Terceiro Passo: \n",
    "Tratando do campo \"vacina_descricao_dose\":\n",
    "\n",
    "   - Primeira Dose \n",
    "   - Segunda Dose após um intervalo definido\n",
    "   - Dose única"
   ]
  },
  {
   "cell_type": "code",
   "execution_count": 6,
   "metadata": {},
   "outputs": [
    {
     "data": {
      "text/plain": [
       "array(['\\xa0\\xa0\\xa0\\xa01ª\\xa0Dose', '\\xa0\\xa0\\xa0\\xa02ª\\xa0Dose',\n",
       "       '1ª Dose', '2ª Dose', 'Única'], dtype=object)"
      ]
     },
     "execution_count": 6,
     "metadata": {},
     "output_type": "execute_result"
    }
   ],
   "source": [
    "\n",
    "df[\"vacina_descricao_dose\"].unique()"
   ]
  },
  {
   "cell_type": "code",
   "execution_count": 7,
   "metadata": {},
   "outputs": [],
   "source": [
    "# Tratando o campo \"vacina_descricao_dose\":\n",
    "\n",
    "# 1) Transformando todos as linhas como Minuúsculas\n",
    "# 2) Quando aparecer Null (NaN) substitui-se por \"-\"\n",
    "# 3) Tratando todos os caracteres ASCII \n",
    "\n",
    "df[\"vacina_descricao_dose\"] = (df[\"vacina_descricao_dose\"]\n",
    "                                 .str.lower()\n",
    "                                 .str.normalize(\"NFKD\")\n",
    "                                 .str.lstrip()\n",
    "                                 .str.replace(\" \",\"_\")\n",
    "                                 .str.encode(\"ascii\", errors=\"ignore\")\n",
    "                                 .str.decode(\"utf-8\"))"
   ]
  },
  {
   "cell_type": "markdown",
   "metadata": {},
   "source": [
    "# Quarto Passo: \n",
    "\n",
    "## Possibilidades do campo 'vacina_descricao_dose':\n",
    "\n",
    "Teremos 3 situações para contabilizar o número de vacinas tomadas:\n",
    "  1) A Primeira Dose ==> 1a_dose\\\n",
    "  2) A Segunda Dose  ==> Totalmente vacinados com a  2a_dose\\\n",
    "  3) Ser Dose Unica!!"
   ]
  },
  {
   "cell_type": "code",
   "execution_count": 10,
   "metadata": {},
   "outputs": [],
   "source": [
    "# A dose unica aparece como valor = 1\n",
    "\n",
    "# OBS: A vacina Jassen da Johnson&Johnson é somente 1 Dose\n",
    "# df.loc[df[\"vacina_descricao_dose\"] == 'unica', \"vacina_descricao_dose\" ] =  '1a_dose'"
   ]
  },
  {
   "cell_type": "code",
   "execution_count": 8,
   "metadata": {},
   "outputs": [
    {
     "data": {
      "text/plain": [
       "1a_dose    42101\n",
       "2a_dose    19376\n",
       "unica          1\n",
       "Name: vacina_descricao_dose, dtype: int64"
      ]
     },
     "execution_count": 8,
     "metadata": {},
     "output_type": "execute_result"
    }
   ],
   "source": [
    "# Verificando o valor acumulado das doses tomadas:\n",
    "\n",
    "df[\"vacina_descricao_dose\"].value_counts()"
   ]
  },
  {
   "cell_type": "markdown",
   "metadata": {},
   "source": [
    "# Quinto Passo: \n",
    "## Função: Get_Dummies no campo 'vacina_descricao_dose':\n",
    "\n",
    "1) se não tomou vacina da 1ª Dose' = 0, se tomou a 1ª Dose' = 1 \\\n",
    "2) se não tomou vacina da 2ª Dose' = 0, se tomou a 2ª Dose' = 1"
   ]
  },
  {
   "cell_type": "code",
   "execution_count": 9,
   "metadata": {},
   "outputs": [
    {
     "data": {
      "text/html": [
       "<div>\n",
       "<style scoped>\n",
       "    .dataframe tbody tr th:only-of-type {\n",
       "        vertical-align: middle;\n",
       "    }\n",
       "\n",
       "    .dataframe tbody tr th {\n",
       "        vertical-align: top;\n",
       "    }\n",
       "\n",
       "    .dataframe thead th {\n",
       "        text-align: right;\n",
       "    }\n",
       "</style>\n",
       "<table border=\"1\" class=\"dataframe\">\n",
       "  <thead>\n",
       "    <tr style=\"text-align: right;\">\n",
       "      <th></th>\n",
       "      <th>1a_dose</th>\n",
       "      <th>2a_dose</th>\n",
       "      <th>unica</th>\n",
       "    </tr>\n",
       "  </thead>\n",
       "  <tbody>\n",
       "    <tr>\n",
       "      <th>25187</th>\n",
       "      <td>1</td>\n",
       "      <td>0</td>\n",
       "      <td>0</td>\n",
       "    </tr>\n",
       "    <tr>\n",
       "      <th>26044</th>\n",
       "      <td>1</td>\n",
       "      <td>0</td>\n",
       "      <td>0</td>\n",
       "    </tr>\n",
       "    <tr>\n",
       "      <th>51822</th>\n",
       "      <td>1</td>\n",
       "      <td>0</td>\n",
       "      <td>0</td>\n",
       "    </tr>\n",
       "    <tr>\n",
       "      <th>20580</th>\n",
       "      <td>1</td>\n",
       "      <td>0</td>\n",
       "      <td>0</td>\n",
       "    </tr>\n",
       "    <tr>\n",
       "      <th>1569</th>\n",
       "      <td>1</td>\n",
       "      <td>0</td>\n",
       "      <td>0</td>\n",
       "    </tr>\n",
       "    <tr>\n",
       "      <th>...</th>\n",
       "      <td>...</td>\n",
       "      <td>...</td>\n",
       "      <td>...</td>\n",
       "    </tr>\n",
       "    <tr>\n",
       "      <th>20311</th>\n",
       "      <td>0</td>\n",
       "      <td>1</td>\n",
       "      <td>0</td>\n",
       "    </tr>\n",
       "    <tr>\n",
       "      <th>20309</th>\n",
       "      <td>1</td>\n",
       "      <td>0</td>\n",
       "      <td>0</td>\n",
       "    </tr>\n",
       "    <tr>\n",
       "      <th>20302</th>\n",
       "      <td>1</td>\n",
       "      <td>0</td>\n",
       "      <td>0</td>\n",
       "    </tr>\n",
       "    <tr>\n",
       "      <th>20213</th>\n",
       "      <td>1</td>\n",
       "      <td>0</td>\n",
       "      <td>0</td>\n",
       "    </tr>\n",
       "    <tr>\n",
       "      <th>61477</th>\n",
       "      <td>0</td>\n",
       "      <td>1</td>\n",
       "      <td>0</td>\n",
       "    </tr>\n",
       "  </tbody>\n",
       "</table>\n",
       "<p>61478 rows × 3 columns</p>\n",
       "</div>"
      ],
      "text/plain": [
       "       1a_dose  2a_dose  unica\n",
       "25187        1        0      0\n",
       "26044        1        0      0\n",
       "51822        1        0      0\n",
       "20580        1        0      0\n",
       "1569         1        0      0\n",
       "...        ...      ...    ...\n",
       "20311        0        1      0\n",
       "20309        1        0      0\n",
       "20302        1        0      0\n",
       "20213        1        0      0\n",
       "61477        0        1      0\n",
       "\n",
       "[61478 rows x 3 columns]"
      ]
     },
     "execution_count": 9,
     "metadata": {},
     "output_type": "execute_result"
    }
   ],
   "source": [
    "\n",
    "dummies = df[\"vacina_descricao_dose\"].str.get_dummies(\"\\n\")\n",
    "dummies"
   ]
  },
  {
   "cell_type": "code",
   "execution_count": 10,
   "metadata": {},
   "outputs": [
    {
     "data": {
      "text/plain": [
       "(61478, 9)"
      ]
     },
     "execution_count": 10,
     "metadata": {},
     "output_type": "execute_result"
    }
   ],
   "source": [
    "# Concatenar com o DataFrame e a coluna Dummies:\n",
    "\n",
    "df = pd.concat([df, dummies], axis = 1)\n",
    "\n",
    "# Após Concat com o Dummies, o Dataframe df acrescenta mais 3 colunas no df:\n",
    "\n",
    "df.shape"
   ]
  },
  {
   "cell_type": "markdown",
   "metadata": {},
   "source": [
    "# Fazendo o cálculo para valores com o FATOR_AMOSTRA"
   ]
  },
  {
   "cell_type": "code",
   "execution_count": 11,
   "metadata": {},
   "outputs": [
    {
     "name": "stdout",
     "output_type": "stream",
     "text": [
      "Total REAL de Vacinados com 1. dose =  42101000.0\n"
     ]
    }
   ],
   "source": [
    "Vacinados_uma_dose = df['1a_dose'].sum()\n",
    "\n",
    "print('Total REAL de Vacinados com 1. dose = ', Vacinados_uma_dose/FATOR_AMOSTRA)"
   ]
  },
  {
   "cell_type": "code",
   "execution_count": 12,
   "metadata": {},
   "outputs": [
    {
     "name": "stdout",
     "output_type": "stream",
     "text": [
      "Total REAL de Vacinados com 2. dose =  19376000.0\n"
     ]
    }
   ],
   "source": [
    "Vacinados_duas_doses = df['2a_dose'].sum()\n",
    "\n",
    "print('Total REAL de Vacinados com 2. dose = ', Vacinados_duas_doses/FATOR_AMOSTRA)"
   ]
  },
  {
   "cell_type": "code",
   "execution_count": 18,
   "metadata": {},
   "outputs": [],
   "source": [
    "# Limpando os campos das Doses, retirando os nulos NaN\n",
    "\n",
    "df['1a_dose'].fillna(0, inplace = True)\n",
    "\n",
    "df['2a_dose'].fillna(0, inplace = True)"
   ]
  },
  {
   "cell_type": "code",
   "execution_count": 13,
   "metadata": {},
   "outputs": [
    {
     "data": {
      "text/plain": [
       "<AxesSubplot:xlabel='count', ylabel='vacina_descricao_dose'>"
      ]
     },
     "execution_count": 13,
     "metadata": {},
     "output_type": "execute_result"
    },
    {
     "data": {
      "image/png": "[encoded data removed]",
      "text/plain": [
       "<Figure size 720x432 with 1 Axes>"
      ]
     },
     "metadata": {},
     "output_type": "display_data"
    }
   ],
   "source": [
    "# Plotting das Doses tomadas:\n",
    "\n",
    "plt.figure(figsize = (10,6))\n",
    "sns.countplot(data = df, y = \"vacina_descricao_dose\")"
   ]
  },
  {
   "cell_type": "markdown",
   "metadata": {},
   "source": [
    "# Sexto Passo: \n",
    "\n",
    "# Trabalhando com informações da '1a_dose' \n",
    "para executar o algoritmo de PREVISAO:\n",
    "Neste ponto, vou definir o DataFrame df1 para '1a_dose'"
   ]
  },
  {
   "cell_type": "code",
   "execution_count": 14,
   "metadata": {},
   "outputs": [
    {
     "data": {
      "text/plain": [
       "2021-02-22    1\n",
       "2021-05-11    1\n",
       "2021-04-20    1\n",
       "2021-05-18    1\n",
       "2021-05-04    1\n",
       "             ..\n",
       "2021-05-08    1\n",
       "2021-04-19    1\n",
       "2021-03-04    1\n",
       "2021-04-13    1\n",
       "2021-01-19    1\n",
       "Name: vacina_dataAplicacao, Length: 129, dtype: int64"
      ]
     },
     "execution_count": 14,
     "metadata": {},
     "output_type": "execute_result"
    }
   ],
   "source": [
    "# Agrupando as colunas da Data da Aplicacao com os vacinados da '1a_dose'\n",
    "\n",
    "df1 = df.groupby('vacina_dataAplicacao').agg({'1a_dose':'sum'}).reset_index()\n",
    "\n",
    "df1['vacina_dataAplicacao'].value_counts()"
   ]
  },
  {
   "cell_type": "markdown",
   "metadata": {},
   "source": [
    "# Sétimo Passo:\n",
    "Definindo os Dataframes de Train e Teste:"
   ]
  },
  {
   "cell_type": "code",
   "execution_count": 15,
   "metadata": {},
   "outputs": [],
   "source": [
    "df_train = df1.loc[df1['vacina_dataAplicacao']<= pd.to_datetime( '2021-04-26')]\n",
    "\n",
    "# Pegando as datas após data 26/Abril/2021 até 26/Maio/2021:\n",
    "\n",
    "df_teste = df1.loc[df1['vacina_dataAplicacao']> pd.to_datetime( '2021-04-26')]\n",
    "\n",
    "# Preparando as colunas dos DataFrames de Train e Test para verificacao Erros:\n",
    "\n",
    "df_train.columns =  ['ds', 'y']\n",
    "df_teste.columns =  ['ds', 'y']"
   ]
  },
  {
   "cell_type": "code",
   "execution_count": 16,
   "metadata": {},
   "outputs": [],
   "source": [
    "# A base de dados Vacina e a Amostra foram gerados dia 26/05/2021:\n",
    "# Pegando as datas dos meses anteriomente ao dia 26/Abril/2021\n",
    "\n",
    "end_date = pd.to_datetime('2021-04-26')\n",
    "df_train = (df1.loc[df1['vacina_dataAplicacao'] <= end_date])\n",
    "df_teste = (df1.loc[df1['vacina_dataAplicacao'] > end_date])\n",
    "\n",
    "\n",
    "df_train.columns =  ['ds', 'y']\n",
    "df_teste.columns =  ['ds', 'y']\n",
    "\n",
    "\n"
   ]
  },
  {
   "cell_type": "markdown",
   "metadata": {},
   "source": [
    "# Oitavo Passo: \n",
    "\n",
    "O Algoritmo do Prophet para Previsao Séries Temporais: \n",
    "\n",
    "dois campos importantes 'ds' e 'y', onde:\\\n",
    "ds       => é a coluna DATA e já está no formato de AAAA-MM-DD\\\n",
    "coluna y => deve ser numérica e representa a medida que desejamos prever:\n",
    "\n",
    "Aqui vou separar em duas etapas as previsões: \n",
    " y = 1.dose total da para dataframe ==> df1 \\\n",
    " y = 2.dose para dataframe          ==> df2"
   ]
  },
  {
   "cell_type": "code",
   "execution_count": 22,
   "metadata": {},
   "outputs": [
    {
     "data": {
      "text/html": [
       "<div>\n",
       "<style scoped>\n",
       "    .dataframe tbody tr th:only-of-type {\n",
       "        vertical-align: middle;\n",
       "    }\n",
       "\n",
       "    .dataframe tbody tr th {\n",
       "        vertical-align: top;\n",
       "    }\n",
       "\n",
       "    .dataframe thead th {\n",
       "        text-align: right;\n",
       "    }\n",
       "</style>\n",
       "<table border=\"1\" class=\"dataframe\">\n",
       "  <thead>\n",
       "    <tr style=\"text-align: right;\">\n",
       "      <th></th>\n",
       "      <th>vacina_dataAplicacao</th>\n",
       "      <th>1a_dose</th>\n",
       "    </tr>\n",
       "  </thead>\n",
       "  <tbody>\n",
       "    <tr>\n",
       "      <th>124</th>\n",
       "      <td>2021-05-21</td>\n",
       "      <td>342</td>\n",
       "    </tr>\n",
       "    <tr>\n",
       "      <th>125</th>\n",
       "      <td>2021-05-22</td>\n",
       "      <td>231</td>\n",
       "    </tr>\n",
       "    <tr>\n",
       "      <th>126</th>\n",
       "      <td>2021-05-23</td>\n",
       "      <td>26</td>\n",
       "    </tr>\n",
       "    <tr>\n",
       "      <th>127</th>\n",
       "      <td>2021-05-24</td>\n",
       "      <td>294</td>\n",
       "    </tr>\n",
       "    <tr>\n",
       "      <th>128</th>\n",
       "      <td>2021-05-25</td>\n",
       "      <td>235</td>\n",
       "    </tr>\n",
       "  </tbody>\n",
       "</table>\n",
       "</div>"
      ],
      "text/plain": [
       "    vacina_dataAplicacao  1a_dose\n",
       "124           2021-05-21      342\n",
       "125           2021-05-22      231\n",
       "126           2021-05-23       26\n",
       "127           2021-05-24      294\n",
       "128           2021-05-25      235"
      ]
     },
     "execution_count": 22,
     "metadata": {},
     "output_type": "execute_result"
    }
   ],
   "source": [
    "# A primeira etapa será previsão da 1.dose:\n",
    "\n",
    "df1.tail(5)"
   ]
  },
  {
   "cell_type": "code",
   "execution_count": 18,
   "metadata": {},
   "outputs": [],
   "source": [
    "# Renomeando as colunas para preparar para rodar o Modelo Prophet:\n",
    "\n",
    "\n",
    "df1.columns = ['ds', 'y']\n"
   ]
  },
  {
   "cell_type": "code",
   "execution_count": 19,
   "metadata": {},
   "outputs": [
    {
     "data": {
      "text/plain": [
       "<AxesSubplot:title={'center':'Tempo Data Series'}, xlabel='ds'>"
      ]
     },
     "execution_count": 19,
     "metadata": {},
     "output_type": "execute_result"
    },
    {
     "data": {
      "image/png": "[encoded data removed]",
      "text/plain": [
       "<Figure size 720x576 with 1 Axes>"
      ]
     },
     "metadata": {},
     "output_type": "display_data"
    }
   ],
   "source": [
    "# Plotting the TIme Series Data:\n",
    "\n",
    "df1.plot(x ='ds', y ='y', figsize = (10,8), title = 'Tempo Data Series' , color = 'red')"
   ]
  },
  {
   "cell_type": "code",
   "execution_count": null,
   "metadata": {},
   "outputs": [],
   "source": []
  },
  {
   "cell_type": "code",
   "execution_count": 20,
   "metadata": {},
   "outputs": [
    {
     "name": "stderr",
     "output_type": "stream",
     "text": [
      "No handles with labels found to put in legend.\n"
     ]
    },
    {
     "data": {
      "image/png": "[encoded data removed]",
      "text/plain": [
       "<Figure size 1008x360 with 1 Axes>"
      ]
     },
     "metadata": {},
     "output_type": "display_data"
    }
   ],
   "source": [
    "# Plotting Doses Vacinas:\n",
    "\n",
    "fig, ax = plt.subplots(figsize=(14,5))\n",
    "palette = sns.color_palette(\"mako_r\", 4)\n",
    "a = sns.barplot(x=\"ds\", y=\"y\", data= df1)\n",
    "\n",
    "a.set_title(\"Doses das Vacinas\",fontsize=15)\n",
    "\n",
    "# Somente tirando a legenda para fora do gráfico:\n",
    "plt.legend(loc='upper right')\n",
    "plt.xticks(rotation=45)\n",
    "plt.show()\n",
    "\n"
   ]
  },
  {
   "cell_type": "markdown",
   "metadata": {},
   "source": [
    "# Nono Passo: \n",
    "Definifindo a sazonalidade dos períodos: diario, mensal, anual ou quinzenal:"
   ]
  },
  {
   "cell_type": "code",
   "execution_count": 21,
   "metadata": {},
   "outputs": [],
   "source": [
    "# Definindo a sazonalidade diaria, semanal e mensal terá mais controle sobre a sazonalidade. \n",
    "\n",
    "model = Prophet(daily_seasonality      = False,\n",
    "               weekly_seasonality      = False,\n",
    "               yearly_seasonality      = False,\n",
    "               ).add_seasonality(name= 'mounthly',\n",
    "                                 period = 30,\n",
    "                                 fourier_order = 12\n",
    "                ).add_seasonality(name = 'dayly',\n",
    "                                 period = 1,\n",
    "                                 fourier_order = 15\n",
    "                                 ).add_seasonality(name = 'weekly',\n",
    "                                 period = 7,\n",
    "                                 fourier_order = 20,\n",
    "                ).add_seasonality(name= 'yearly',\n",
    "                                 period = 365.25,\n",
    "                                 fourier_order = 20\n",
    "                ).add_seasonality(name= 'quartely',\n",
    "                                 period = 365.25/4,\n",
    "                                 fourier_order = 5,\n",
    "                                 prior_scale = 15)\n",
    "                "
   ]
  },
  {
   "cell_type": "markdown",
   "metadata": {},
   "source": [
    "# Décimo Passo: \n",
    "Executando o Modelo de Prophet()\n",
    "\n",
    "Definindo parâmetros do Prophet(), assegurando que teremos a previsão positiva:\n"
   ]
  },
  {
   "cell_type": "code",
   "execution_count": 22,
   "metadata": {},
   "outputs": [
    {
     "name": "stderr",
     "output_type": "stream",
     "text": [
      "INFO:prophet:Disabling yearly seasonality. Run prophet with yearly_seasonality=True to override this.\n",
      "INFO:prophet:Disabling daily seasonality. Run prophet with daily_seasonality=True to override this.\n"
     ]
    },
    {
     "data": {
      "text/html": [
       "<div>\n",
       "<style scoped>\n",
       "    .dataframe tbody tr th:only-of-type {\n",
       "        vertical-align: middle;\n",
       "    }\n",
       "\n",
       "    .dataframe tbody tr th {\n",
       "        vertical-align: top;\n",
       "    }\n",
       "\n",
       "    .dataframe thead th {\n",
       "        text-align: right;\n",
       "    }\n",
       "</style>\n",
       "<table border=\"1\" class=\"dataframe\">\n",
       "  <thead>\n",
       "    <tr style=\"text-align: right;\">\n",
       "      <th></th>\n",
       "      <th>ds</th>\n",
       "      <th>yhat</th>\n",
       "      <th>yhat_lower</th>\n",
       "      <th>yhat_upper</th>\n",
       "    </tr>\n",
       "  </thead>\n",
       "  <tbody>\n",
       "    <tr>\n",
       "      <th>489</th>\n",
       "      <td>2022-05-21</td>\n",
       "      <td>840.911142</td>\n",
       "      <td>613.299442</td>\n",
       "      <td>1056.726981</td>\n",
       "    </tr>\n",
       "    <tr>\n",
       "      <th>490</th>\n",
       "      <td>2022-05-22</td>\n",
       "      <td>643.027603</td>\n",
       "      <td>412.583194</td>\n",
       "      <td>863.775931</td>\n",
       "    </tr>\n",
       "    <tr>\n",
       "      <th>491</th>\n",
       "      <td>2022-05-23</td>\n",
       "      <td>993.534785</td>\n",
       "      <td>759.584373</td>\n",
       "      <td>1221.165993</td>\n",
       "    </tr>\n",
       "    <tr>\n",
       "      <th>492</th>\n",
       "      <td>2022-05-24</td>\n",
       "      <td>990.130664</td>\n",
       "      <td>769.238977</td>\n",
       "      <td>1202.828295</td>\n",
       "    </tr>\n",
       "    <tr>\n",
       "      <th>493</th>\n",
       "      <td>2022-05-25</td>\n",
       "      <td>1020.635811</td>\n",
       "      <td>796.378971</td>\n",
       "      <td>1233.248080</td>\n",
       "    </tr>\n",
       "  </tbody>\n",
       "</table>\n",
       "</div>"
      ],
      "text/plain": [
       "            ds         yhat  yhat_lower   yhat_upper\n",
       "489 2022-05-21   840.911142  613.299442  1056.726981\n",
       "490 2022-05-22   643.027603  412.583194   863.775931\n",
       "491 2022-05-23   993.534785  759.584373  1221.165993\n",
       "492 2022-05-24   990.130664  769.238977  1202.828295\n",
       "493 2022-05-25  1020.635811  796.378971  1233.248080"
      ]
     },
     "execution_count": 22,
     "metadata": {},
     "output_type": "execute_result"
    }
   ],
   "source": [
    "# Fazendo Saturações Previsões de Crescimento:\n",
    "\n",
    "model = Prophet()\n",
    "\n",
    "# Faremos o treinamento:\n",
    "model.fit(df1)\n",
    "\n",
    "\n",
    "# O Prophet disponibiliza um dataframe adequado que se estenda para o futuro \n",
    "# por um número especificado de dias (que escolhemos para prever) \n",
    "# usando o método auxiliar `make_future_dataframe.\n",
    "\n",
    "future   = model.make_future_dataframe(periods = 365) # previsão de 1 ano \n",
    "\n",
    "\n",
    "# O método PREDICT, atribuirá cada linha em future um valor previsto que ele nomeia \"yhat\". \n",
    "# Se você passar datas históricas, isso fornecerá um ajuste na amostra. \n",
    "# O objeto FORECAST é um novo dataframe que inclui uma coluna yhatcom a previsão, \n",
    "# bem como colunas para componentes e intervalos de incerteza.\n",
    "\n",
    "forecast = model.predict(future)\n",
    "\n",
    "# A coluna yhat representa as previsões, \n",
    "# o yhat_lower e yhat_upper são as componentes do intervalo de incertezas\n",
    "# Quanto mais distante o tempo à frente, mais incerto fica a previsão.\n",
    "\n",
    "\n",
    "forecast[['ds', 'yhat', 'yhat_lower', 'yhat_upper']].tail()"
   ]
  },
  {
   "cell_type": "code",
   "execution_count": 28,
   "metadata": {},
   "outputs": [
    {
     "data": {
      "image/png": "[encoded data removed]",
      "text/plain": [
       "<Figure size 720x432 with 1 Axes>"
      ]
     },
     "metadata": {},
     "output_type": "display_data"
    }
   ],
   "source": [
    "# Plotting, as previsões do modelo treinado:\n",
    "\n",
    "fig1 = model.plot(forecast, xlabel = 'Data', ylabel = 'Previsão do Vacinados 1.Dose')\n",
    "a = add_changepoints_to_plot(fig1.gca(), model, forecast)\n"
   ]
  },
  {
   "cell_type": "code",
   "execution_count": 23,
   "metadata": {},
   "outputs": [
    {
     "data": {
      "text/plain": [
       "<AxesSubplot:title={'center':'Data Atual x Previsão'}, xlabel='ds'>"
      ]
     },
     "execution_count": 23,
     "metadata": {},
     "output_type": "execute_result"
    },
    {
     "data": {
      "image/png": "[encoded data removed]",
      "text/plain": [
       "<Figure size 720x720 with 1 Axes>"
      ]
     },
     "metadata": {},
     "output_type": "display_data"
    }
   ],
   "source": [
    "# Plotting o atual e os valores obtidos do Forecast:\n",
    "\n",
    "ax = (df1.plot(x = 'ds', y = 'y',  figsize =(12,8), label='Atual', title = \"Data Atual x Previsão\"))\n",
    "forecast.plot( x = 'ds', y ='yhat',figsize =(10,10), label ='Previsão' ,title = \"Data Atual x Previsão\", ax =ax )"
   ]
  },
  {
   "cell_type": "markdown",
   "metadata": {},
   "source": [
    "# Definindo os Dataframes de Train e Teste"
   ]
  },
  {
   "cell_type": "code",
   "execution_count": 25,
   "metadata": {},
   "outputs": [
    {
     "ename": "KeyError",
     "evalue": "'ds'",
     "output_type": "error",
     "traceback": [
      "\u001b[0;31m---------------------------------------------------------------------------\u001b[0m",
      "\u001b[0;31mKeyError\u001b[0m                                  Traceback (most recent call last)",
      "\u001b[0;32m~/opt/anaconda3/lib/python3.8/site-packages/pandas/core/indexes/base.py\u001b[0m in \u001b[0;36mget_loc\u001b[0;34m(self, key, method, tolerance)\u001b[0m\n\u001b[1;32m   2894\u001b[0m             \u001b[0;32mtry\u001b[0m\u001b[0;34m:\u001b[0m\u001b[0;34m\u001b[0m\u001b[0;34m\u001b[0m\u001b[0m\n\u001b[0;32m-> 2895\u001b[0;31m                 \u001b[0;32mreturn\u001b[0m \u001b[0mself\u001b[0m\u001b[0;34m.\u001b[0m\u001b[0m_engine\u001b[0m\u001b[0;34m.\u001b[0m\u001b[0mget_loc\u001b[0m\u001b[0;34m(\u001b[0m\u001b[0mcasted_key\u001b[0m\u001b[0;34m)\u001b[0m\u001b[0;34m\u001b[0m\u001b[0;34m\u001b[0m\u001b[0m\n\u001b[0m\u001b[1;32m   2896\u001b[0m             \u001b[0;32mexcept\u001b[0m \u001b[0mKeyError\u001b[0m \u001b[0;32mas\u001b[0m \u001b[0merr\u001b[0m\u001b[0;34m:\u001b[0m\u001b[0;34m\u001b[0m\u001b[0;34m\u001b[0m\u001b[0m\n",
      "\u001b[0;32mpandas/_libs/index.pyx\u001b[0m in \u001b[0;36mpandas._libs.index.IndexEngine.get_loc\u001b[0;34m()\u001b[0m\n",
      "\u001b[0;32mpandas/_libs/index.pyx\u001b[0m in \u001b[0;36mpandas._libs.index.IndexEngine.get_loc\u001b[0;34m()\u001b[0m\n",
      "\u001b[0;32mpandas/_libs/index_class_helper.pxi\u001b[0m in \u001b[0;36mpandas._libs.index.Int64Engine._check_type\u001b[0;34m()\u001b[0m\n",
      "\u001b[0;31mKeyError\u001b[0m: 'ds'",
      "\nThe above exception was the direct cause of the following exception:\n",
      "\u001b[0;31mKeyError\u001b[0m                                  Traceback (most recent call last)",
      "\u001b[0;32m<ipython-input-25-b966499ff414>\u001b[0m in \u001b[0;36m<module>\u001b[0;34m\u001b[0m\n\u001b[1;32m      3\u001b[0m \u001b[0;34m\u001b[0m\u001b[0m\n\u001b[1;32m      4\u001b[0m \u001b[0my_true\u001b[0m \u001b[0;34m=\u001b[0m \u001b[0mdf_teste\u001b[0m\u001b[0;34m[\u001b[0m\u001b[0;34m'y'\u001b[0m\u001b[0;34m]\u001b[0m\u001b[0;34m\u001b[0m\u001b[0;34m\u001b[0m\u001b[0m\n\u001b[0;32m----> 5\u001b[0;31m \u001b[0my_pred\u001b[0m \u001b[0;34m=\u001b[0m \u001b[0mmodel\u001b[0m\u001b[0;34m.\u001b[0m\u001b[0mpredict\u001b[0m\u001b[0;34m(\u001b[0m\u001b[0mdf_teste\u001b[0m\u001b[0;34m[\u001b[0m\u001b[0;34m'ds'\u001b[0m\u001b[0;34m]\u001b[0m\u001b[0;34m)\u001b[0m\u001b[0;34m\u001b[0m\u001b[0;34m\u001b[0m\u001b[0m\n\u001b[0m\u001b[1;32m      6\u001b[0m \u001b[0;34m\u001b[0m\u001b[0m\n\u001b[1;32m      7\u001b[0m \u001b[0mprint\u001b[0m\u001b[0;34m(\u001b[0m\u001b[0;34m\"Train shape\"\u001b[0m\u001b[0;34m,\u001b[0m \u001b[0my_true\u001b[0m\u001b[0;34m.\u001b[0m\u001b[0mshape\u001b[0m\u001b[0;34m)\u001b[0m\u001b[0;34m\u001b[0m\u001b[0;34m\u001b[0m\u001b[0m\n",
      "\u001b[0;32m~/opt/anaconda3/lib/python3.8/site-packages/prophet/forecaster.py\u001b[0m in \u001b[0;36mpredict\u001b[0;34m(self, df)\u001b[0m\n\u001b[1;32m   1203\u001b[0m             \u001b[0;32mif\u001b[0m \u001b[0mdf\u001b[0m\u001b[0;34m.\u001b[0m\u001b[0mshape\u001b[0m\u001b[0;34m[\u001b[0m\u001b[0;36m0\u001b[0m\u001b[0;34m]\u001b[0m \u001b[0;34m==\u001b[0m \u001b[0;36m0\u001b[0m\u001b[0;34m:\u001b[0m\u001b[0;34m\u001b[0m\u001b[0;34m\u001b[0m\u001b[0m\n\u001b[1;32m   1204\u001b[0m                 \u001b[0;32mraise\u001b[0m \u001b[0mValueError\u001b[0m\u001b[0;34m(\u001b[0m\u001b[0;34m'Dataframe has no rows.'\u001b[0m\u001b[0;34m)\u001b[0m\u001b[0;34m\u001b[0m\u001b[0;34m\u001b[0m\u001b[0m\n\u001b[0;32m-> 1205\u001b[0;31m             \u001b[0mdf\u001b[0m \u001b[0;34m=\u001b[0m \u001b[0mself\u001b[0m\u001b[0;34m.\u001b[0m\u001b[0msetup_dataframe\u001b[0m\u001b[0;34m(\u001b[0m\u001b[0mdf\u001b[0m\u001b[0;34m.\u001b[0m\u001b[0mcopy\u001b[0m\u001b[0;34m(\u001b[0m\u001b[0;34m)\u001b[0m\u001b[0;34m)\u001b[0m\u001b[0;34m\u001b[0m\u001b[0;34m\u001b[0m\u001b[0m\n\u001b[0m\u001b[1;32m   1206\u001b[0m \u001b[0;34m\u001b[0m\u001b[0m\n\u001b[1;32m   1207\u001b[0m         \u001b[0mdf\u001b[0m\u001b[0;34m[\u001b[0m\u001b[0;34m'trend'\u001b[0m\u001b[0;34m]\u001b[0m \u001b[0;34m=\u001b[0m \u001b[0mself\u001b[0m\u001b[0;34m.\u001b[0m\u001b[0mpredict_trend\u001b[0m\u001b[0;34m(\u001b[0m\u001b[0mdf\u001b[0m\u001b[0;34m)\u001b[0m\u001b[0;34m\u001b[0m\u001b[0;34m\u001b[0m\u001b[0m\n",
      "\u001b[0;32m~/opt/anaconda3/lib/python3.8/site-packages/prophet/forecaster.py\u001b[0m in \u001b[0;36msetup_dataframe\u001b[0;34m(self, df, initialize_scales)\u001b[0m\n\u001b[1;32m    263\u001b[0m             \u001b[0;32mif\u001b[0m \u001b[0mnp\u001b[0m\u001b[0;34m.\u001b[0m\u001b[0misinf\u001b[0m\u001b[0;34m(\u001b[0m\u001b[0mdf\u001b[0m\u001b[0;34m[\u001b[0m\u001b[0;34m'y'\u001b[0m\u001b[0;34m]\u001b[0m\u001b[0;34m.\u001b[0m\u001b[0mvalues\u001b[0m\u001b[0;34m)\u001b[0m\u001b[0;34m.\u001b[0m\u001b[0many\u001b[0m\u001b[0;34m(\u001b[0m\u001b[0;34m)\u001b[0m\u001b[0;34m:\u001b[0m\u001b[0;34m\u001b[0m\u001b[0;34m\u001b[0m\u001b[0m\n\u001b[1;32m    264\u001b[0m                 \u001b[0;32mraise\u001b[0m \u001b[0mValueError\u001b[0m\u001b[0;34m(\u001b[0m\u001b[0;34m'Found infinity in column y.'\u001b[0m\u001b[0;34m)\u001b[0m\u001b[0;34m\u001b[0m\u001b[0;34m\u001b[0m\u001b[0m\n\u001b[0;32m--> 265\u001b[0;31m         \u001b[0;32mif\u001b[0m \u001b[0mdf\u001b[0m\u001b[0;34m[\u001b[0m\u001b[0;34m'ds'\u001b[0m\u001b[0;34m]\u001b[0m\u001b[0;34m.\u001b[0m\u001b[0mdtype\u001b[0m \u001b[0;34m==\u001b[0m \u001b[0mnp\u001b[0m\u001b[0;34m.\u001b[0m\u001b[0mint64\u001b[0m\u001b[0;34m:\u001b[0m\u001b[0;34m\u001b[0m\u001b[0;34m\u001b[0m\u001b[0m\n\u001b[0m\u001b[1;32m    266\u001b[0m             \u001b[0mdf\u001b[0m\u001b[0;34m[\u001b[0m\u001b[0;34m'ds'\u001b[0m\u001b[0;34m]\u001b[0m \u001b[0;34m=\u001b[0m \u001b[0mdf\u001b[0m\u001b[0;34m[\u001b[0m\u001b[0;34m'ds'\u001b[0m\u001b[0;34m]\u001b[0m\u001b[0;34m.\u001b[0m\u001b[0mastype\u001b[0m\u001b[0;34m(\u001b[0m\u001b[0mstr\u001b[0m\u001b[0;34m)\u001b[0m\u001b[0;34m\u001b[0m\u001b[0;34m\u001b[0m\u001b[0m\n\u001b[1;32m    267\u001b[0m         \u001b[0mdf\u001b[0m\u001b[0;34m[\u001b[0m\u001b[0;34m'ds'\u001b[0m\u001b[0;34m]\u001b[0m \u001b[0;34m=\u001b[0m \u001b[0mpd\u001b[0m\u001b[0;34m.\u001b[0m\u001b[0mto_datetime\u001b[0m\u001b[0;34m(\u001b[0m\u001b[0mdf\u001b[0m\u001b[0;34m[\u001b[0m\u001b[0;34m'ds'\u001b[0m\u001b[0;34m]\u001b[0m\u001b[0;34m)\u001b[0m\u001b[0;34m\u001b[0m\u001b[0;34m\u001b[0m\u001b[0m\n",
      "\u001b[0;32m~/opt/anaconda3/lib/python3.8/site-packages/pandas/core/series.py\u001b[0m in \u001b[0;36m__getitem__\u001b[0;34m(self, key)\u001b[0m\n\u001b[1;32m    880\u001b[0m \u001b[0;34m\u001b[0m\u001b[0m\n\u001b[1;32m    881\u001b[0m         \u001b[0;32melif\u001b[0m \u001b[0mkey_is_scalar\u001b[0m\u001b[0;34m:\u001b[0m\u001b[0;34m\u001b[0m\u001b[0;34m\u001b[0m\u001b[0m\n\u001b[0;32m--> 882\u001b[0;31m             \u001b[0;32mreturn\u001b[0m \u001b[0mself\u001b[0m\u001b[0;34m.\u001b[0m\u001b[0m_get_value\u001b[0m\u001b[0;34m(\u001b[0m\u001b[0mkey\u001b[0m\u001b[0;34m)\u001b[0m\u001b[0;34m\u001b[0m\u001b[0;34m\u001b[0m\u001b[0m\n\u001b[0m\u001b[1;32m    883\u001b[0m \u001b[0;34m\u001b[0m\u001b[0m\n\u001b[1;32m    884\u001b[0m         \u001b[0;32mif\u001b[0m \u001b[0mis_hashable\u001b[0m\u001b[0;34m(\u001b[0m\u001b[0mkey\u001b[0m\u001b[0;34m)\u001b[0m\u001b[0;34m:\u001b[0m\u001b[0;34m\u001b[0m\u001b[0;34m\u001b[0m\u001b[0m\n",
      "\u001b[0;32m~/opt/anaconda3/lib/python3.8/site-packages/pandas/core/series.py\u001b[0m in \u001b[0;36m_get_value\u001b[0;34m(self, label, takeable)\u001b[0m\n\u001b[1;32m    987\u001b[0m \u001b[0;34m\u001b[0m\u001b[0m\n\u001b[1;32m    988\u001b[0m         \u001b[0;31m# Similar to Index.get_value, but we do not fall back to positional\u001b[0m\u001b[0;34m\u001b[0m\u001b[0;34m\u001b[0m\u001b[0;34m\u001b[0m\u001b[0m\n\u001b[0;32m--> 989\u001b[0;31m         \u001b[0mloc\u001b[0m \u001b[0;34m=\u001b[0m \u001b[0mself\u001b[0m\u001b[0;34m.\u001b[0m\u001b[0mindex\u001b[0m\u001b[0;34m.\u001b[0m\u001b[0mget_loc\u001b[0m\u001b[0;34m(\u001b[0m\u001b[0mlabel\u001b[0m\u001b[0;34m)\u001b[0m\u001b[0;34m\u001b[0m\u001b[0;34m\u001b[0m\u001b[0m\n\u001b[0m\u001b[1;32m    990\u001b[0m         \u001b[0;32mreturn\u001b[0m \u001b[0mself\u001b[0m\u001b[0;34m.\u001b[0m\u001b[0mindex\u001b[0m\u001b[0;34m.\u001b[0m\u001b[0m_get_values_for_loc\u001b[0m\u001b[0;34m(\u001b[0m\u001b[0mself\u001b[0m\u001b[0;34m,\u001b[0m \u001b[0mloc\u001b[0m\u001b[0;34m,\u001b[0m \u001b[0mlabel\u001b[0m\u001b[0;34m)\u001b[0m\u001b[0;34m\u001b[0m\u001b[0;34m\u001b[0m\u001b[0m\n\u001b[1;32m    991\u001b[0m \u001b[0;34m\u001b[0m\u001b[0m\n",
      "\u001b[0;32m~/opt/anaconda3/lib/python3.8/site-packages/pandas/core/indexes/base.py\u001b[0m in \u001b[0;36mget_loc\u001b[0;34m(self, key, method, tolerance)\u001b[0m\n\u001b[1;32m   2895\u001b[0m                 \u001b[0;32mreturn\u001b[0m \u001b[0mself\u001b[0m\u001b[0;34m.\u001b[0m\u001b[0m_engine\u001b[0m\u001b[0;34m.\u001b[0m\u001b[0mget_loc\u001b[0m\u001b[0;34m(\u001b[0m\u001b[0mcasted_key\u001b[0m\u001b[0;34m)\u001b[0m\u001b[0;34m\u001b[0m\u001b[0;34m\u001b[0m\u001b[0m\n\u001b[1;32m   2896\u001b[0m             \u001b[0;32mexcept\u001b[0m \u001b[0mKeyError\u001b[0m \u001b[0;32mas\u001b[0m \u001b[0merr\u001b[0m\u001b[0;34m:\u001b[0m\u001b[0;34m\u001b[0m\u001b[0;34m\u001b[0m\u001b[0m\n\u001b[0;32m-> 2897\u001b[0;31m                 \u001b[0;32mraise\u001b[0m \u001b[0mKeyError\u001b[0m\u001b[0;34m(\u001b[0m\u001b[0mkey\u001b[0m\u001b[0;34m)\u001b[0m \u001b[0;32mfrom\u001b[0m \u001b[0merr\u001b[0m\u001b[0;34m\u001b[0m\u001b[0;34m\u001b[0m\u001b[0m\n\u001b[0m\u001b[1;32m   2898\u001b[0m \u001b[0;34m\u001b[0m\u001b[0m\n\u001b[1;32m   2899\u001b[0m         \u001b[0;32mif\u001b[0m \u001b[0mtolerance\u001b[0m \u001b[0;32mis\u001b[0m \u001b[0;32mnot\u001b[0m \u001b[0;32mNone\u001b[0m\u001b[0;34m:\u001b[0m\u001b[0;34m\u001b[0m\u001b[0;34m\u001b[0m\u001b[0m\n",
      "\u001b[0;31mKeyError\u001b[0m: 'ds'"
     ]
    }
   ],
   "source": [
    "# Definindo os campos de y_true e y_pred para calcular erro,\n",
    "# chamando a Função Mean_Absolute_Percentage_ERROR\n",
    "\n",
    "y_true = df_teste['y']\n",
    "y_pred = model.predict(df_teste['ds'])\n",
    "\n",
    "print(\"Train shape\", y_true.shape)\n",
    "print(\"Test shape\",  y_pred.shape)\n",
    "\n",
    "\n",
    "mape = mean_absolute_percentage_error(y_true, y_pred)\n",
    "\n",
    "print(\"MAPE\", round(mape,4))\n"
   ]
  },
  {
   "cell_type": "markdown",
   "metadata": {},
   "source": [
    "# Calculando as métricas:\n",
    "Esse procedimento de validação cruzada pode ser feito automaticamente para uma faixa de cortes históricos usando a cross_validationfunção. \n",
    "\n",
    "Especificamos:\n",
    "1) o horizonte de previsão ( horizon) \n",
    "2) opcionalmente, o tamanho do período de treinamento inicial ( initial) \n",
    "3) o espaçamento entre as datas de corte ( period), o período de treinamento inicial é definido como três vezes o horizonte e os cortes são feitos a cada meio horizonte.\n",
    "\n",
    "A saída de cross_validation é um dataframe com os valores reais 'y' e os valores de previsão fora da amostra 'yhat', em cada data de previsão simulada e para cada data de corte.\n",
    "Em particular, uma previsão é feita para cada ponto observado entre cutoffe cutoff + horizon. Esses dados podem então ser usados para medidas de erro de computação de 'yhat' e 'y'.\n",
    "\n",
    "Aqui, fazemos validação cruzada para avaliar o desempenho da previsão em um horizonte de 365 dias, começando com 730 dias de dados de treinamento no primeiro corte e, em seguida, fazendo previsões a cada 180 dias."
   ]
  },
  {
   "cell_type": "code",
   "execution_count": 64,
   "metadata": {},
   "outputs": [
    {
     "name": "stderr",
     "output_type": "stream",
     "text": [
      "INFO:prophet:Making 4 forecasts with cutoffs between 2021-03-26 00:00:00 and 2021-04-25 00:00:00\n"
     ]
    },
    {
     "data": {
      "application/vnd.jupyter.widget-view+json": {
       "model_id": "642deec06aa442a1a9df375b65445931",
       "version_major": 2,
       "version_minor": 0
      },
      "text/plain": [
       "HBox(children=(HTML(value=''), FloatProgress(value=0.0, max=4.0), HTML(value='')))"
      ]
     },
     "metadata": {},
     "output_type": "display_data"
    },
    {
     "name": "stdout",
     "output_type": "stream",
     "text": [
      "\n",
      "\n"
     ]
    }
   ],
   "source": [
    "# Utilizando a Função Cross-Validation\n",
    "\n",
    "df_cross = cross_validation(model, initial = '365 days', period = '10 days', horizon = '30 days') "
   ]
  },
  {
   "cell_type": "code",
   "execution_count": 65,
   "metadata": {},
   "outputs": [
    {
     "data": {
      "text/html": [
       "<div>\n",
       "<style scoped>\n",
       "    .dataframe tbody tr th:only-of-type {\n",
       "        vertical-align: middle;\n",
       "    }\n",
       "\n",
       "    .dataframe tbody tr th {\n",
       "        vertical-align: top;\n",
       "    }\n",
       "\n",
       "    .dataframe thead th {\n",
       "        text-align: right;\n",
       "    }\n",
       "</style>\n",
       "<table border=\"1\" class=\"dataframe\">\n",
       "  <thead>\n",
       "    <tr style=\"text-align: right;\">\n",
       "      <th></th>\n",
       "      <th>ds</th>\n",
       "      <th>yhat</th>\n",
       "      <th>yhat_lower</th>\n",
       "      <th>yhat_upper</th>\n",
       "      <th>y</th>\n",
       "      <th>cutoff</th>\n",
       "    </tr>\n",
       "  </thead>\n",
       "  <tbody>\n",
       "    <tr>\n",
       "      <th>0</th>\n",
       "      <td>2021-03-27</td>\n",
       "      <td>217.770954</td>\n",
       "      <td>10.946796</td>\n",
       "      <td>415.530942</td>\n",
       "      <td>664</td>\n",
       "      <td>2021-03-26</td>\n",
       "    </tr>\n",
       "    <tr>\n",
       "      <th>1</th>\n",
       "      <td>2021-03-28</td>\n",
       "      <td>95.437556</td>\n",
       "      <td>-99.123512</td>\n",
       "      <td>292.217688</td>\n",
       "      <td>218</td>\n",
       "      <td>2021-03-26</td>\n",
       "    </tr>\n",
       "    <tr>\n",
       "      <th>2</th>\n",
       "      <td>2021-03-29</td>\n",
       "      <td>374.193278</td>\n",
       "      <td>175.215842</td>\n",
       "      <td>578.544778</td>\n",
       "      <td>932</td>\n",
       "      <td>2021-03-26</td>\n",
       "    </tr>\n",
       "    <tr>\n",
       "      <th>3</th>\n",
       "      <td>2021-03-30</td>\n",
       "      <td>347.439926</td>\n",
       "      <td>155.772395</td>\n",
       "      <td>523.868365</td>\n",
       "      <td>1076</td>\n",
       "      <td>2021-03-26</td>\n",
       "    </tr>\n",
       "    <tr>\n",
       "      <th>4</th>\n",
       "      <td>2021-03-31</td>\n",
       "      <td>401.342066</td>\n",
       "      <td>206.327809</td>\n",
       "      <td>600.369988</td>\n",
       "      <td>880</td>\n",
       "      <td>2021-03-26</td>\n",
       "    </tr>\n",
       "  </tbody>\n",
       "</table>\n",
       "</div>"
      ],
      "text/plain": [
       "          ds        yhat  yhat_lower  yhat_upper     y     cutoff\n",
       "0 2021-03-27  217.770954   10.946796  415.530942   664 2021-03-26\n",
       "1 2021-03-28   95.437556  -99.123512  292.217688   218 2021-03-26\n",
       "2 2021-03-29  374.193278  175.215842  578.544778   932 2021-03-26\n",
       "3 2021-03-30  347.439926  155.772395  523.868365  1076 2021-03-26\n",
       "4 2021-03-31  401.342066  206.327809  600.369988   880 2021-03-26"
      ]
     },
     "execution_count": 65,
     "metadata": {},
     "output_type": "execute_result"
    }
   ],
   "source": [
    "df_cross.head()"
   ]
  },
  {
   "cell_type": "code",
   "execution_count": 66,
   "metadata": {},
   "outputs": [
    {
     "data": {
      "text/html": [
       "<div>\n",
       "<style scoped>\n",
       "    .dataframe tbody tr th:only-of-type {\n",
       "        vertical-align: middle;\n",
       "    }\n",
       "\n",
       "    .dataframe tbody tr th {\n",
       "        vertical-align: top;\n",
       "    }\n",
       "\n",
       "    .dataframe thead th {\n",
       "        text-align: right;\n",
       "    }\n",
       "</style>\n",
       "<table border=\"1\" class=\"dataframe\">\n",
       "  <thead>\n",
       "    <tr style=\"text-align: right;\">\n",
       "      <th></th>\n",
       "      <th>horizon</th>\n",
       "      <th>mse</th>\n",
       "      <th>rmse</th>\n",
       "      <th>mae</th>\n",
       "      <th>mape</th>\n",
       "      <th>mdape</th>\n",
       "      <th>smape</th>\n",
       "      <th>coverage</th>\n",
       "    </tr>\n",
       "  </thead>\n",
       "  <tbody>\n",
       "    <tr>\n",
       "      <th>0</th>\n",
       "      <td>3 days</td>\n",
       "      <td>55413.198890</td>\n",
       "      <td>235.400083</td>\n",
       "      <td>174.804529</td>\n",
       "      <td>0.435551</td>\n",
       "      <td>0.431214</td>\n",
       "      <td>0.446463</td>\n",
       "      <td>0.833333</td>\n",
       "    </tr>\n",
       "    <tr>\n",
       "      <th>1</th>\n",
       "      <td>4 days</td>\n",
       "      <td>79388.158407</td>\n",
       "      <td>281.759043</td>\n",
       "      <td>181.076638</td>\n",
       "      <td>0.382542</td>\n",
       "      <td>0.383579</td>\n",
       "      <td>0.406624</td>\n",
       "      <td>0.833333</td>\n",
       "    </tr>\n",
       "    <tr>\n",
       "      <th>2</th>\n",
       "      <td>5 days</td>\n",
       "      <td>99616.722685</td>\n",
       "      <td>315.621170</td>\n",
       "      <td>226.866075</td>\n",
       "      <td>0.419973</td>\n",
       "      <td>0.438740</td>\n",
       "      <td>0.440680</td>\n",
       "      <td>0.750000</td>\n",
       "    </tr>\n",
       "    <tr>\n",
       "      <th>3</th>\n",
       "      <td>6 days</td>\n",
       "      <td>74629.965341</td>\n",
       "      <td>273.184856</td>\n",
       "      <td>186.657667</td>\n",
       "      <td>0.441455</td>\n",
       "      <td>0.330680</td>\n",
       "      <td>0.410693</td>\n",
       "      <td>0.833333</td>\n",
       "    </tr>\n",
       "    <tr>\n",
       "      <th>4</th>\n",
       "      <td>7 days</td>\n",
       "      <td>34342.031905</td>\n",
       "      <td>185.316033</td>\n",
       "      <td>141.064354</td>\n",
       "      <td>0.560631</td>\n",
       "      <td>0.398658</td>\n",
       "      <td>0.421930</td>\n",
       "      <td>0.833333</td>\n",
       "    </tr>\n",
       "  </tbody>\n",
       "</table>\n",
       "</div>"
      ],
      "text/plain": [
       "  horizon           mse        rmse         mae      mape     mdape     smape  \\\n",
       "0  3 days  55413.198890  235.400083  174.804529  0.435551  0.431214  0.446463   \n",
       "1  4 days  79388.158407  281.759043  181.076638  0.382542  0.383579  0.406624   \n",
       "2  5 days  99616.722685  315.621170  226.866075  0.419973  0.438740  0.440680   \n",
       "3  6 days  74629.965341  273.184856  186.657667  0.441455  0.330680  0.410693   \n",
       "4  7 days  34342.031905  185.316033  141.064354  0.560631  0.398658  0.421930   \n",
       "\n",
       "   coverage  \n",
       "0  0.833333  \n",
       "1  0.833333  \n",
       "2  0.750000  \n",
       "3  0.833333  \n",
       "4  0.833333  "
      ]
     },
     "execution_count": 66,
     "metadata": {},
     "output_type": "execute_result"
    }
   ],
   "source": [
    "df_perform = performance_metrics(df_cross)\n",
    "df_perform.head()"
   ]
  },
  {
   "cell_type": "code",
   "execution_count": 67,
   "metadata": {},
   "outputs": [
    {
     "data": {
      "image/png": "[encoded data removed]",
      "text/plain": [
       "<Figure size 720x432 with 1 Axes>"
      ]
     },
     "metadata": {},
     "output_type": "display_data"
    }
   ],
   "source": [
    "# Plotting a Performance:\n",
    "\n",
    "fig = plot_cross_validation_metric(df_cross, metric='mape')"
   ]
  },
  {
   "cell_type": "code",
   "execution_count": 62,
   "metadata": {},
   "outputs": [
    {
     "name": "stdout",
     "output_type": "stream",
     "text": [
      "\n",
      "\n",
      "\n",
      "\n",
      "\n",
      "\n",
      "\n",
      "\n"
     ]
    },
    {
     "data": {
      "image/png": "[encoded data removed]",
      "text/plain": [
       "<Figure size 1080x360 with 1 Axes>"
      ]
     },
     "metadata": {},
     "output_type": "display_data"
    }
   ],
   "source": [
    "# Plotting Forecast:\n",
    "\n",
    "f, ax = plt.subplots(1)\n",
    "f.set_figheight(5)\n",
    "f.set_figwidth(15)\n",
    "\n",
    "# Inicio da Vacinação no Brasil 18/12/2020\n",
    "\n",
    "ax.scatter(df1.ds, df1['y'], color='r')\n",
    "fig = model.plot(forecast, ax=ax)\n",
    "ax.set_xbound(lower ='2020-12-18', upper ='2021-01-05')\n",
    "# ax.set_ylim(0, 50000)\n",
    "plot = plt.suptitle('Final de 2020 X Atual')"
   ]
  },
  {
   "cell_type": "code",
   "execution_count": null,
   "metadata": {},
   "outputs": [],
   "source": []
  },
  {
   "cell_type": "markdown",
   "metadata": {},
   "source": [
    "# Ajustando Parâmetros: ajustes para melhorar a nossa previsão:\n",
    "\n",
    "Definindo o parâmetro \"grown = logistic\", crescimento logístico, você precisa fornecer \n",
    "    - o limite (valor máximo que seus dados alcançarão) \n",
    "    - o piso (valor mínimo que seus dados alcançarão) de suas previsões\n",
    "Dica: O limite máximo da população vacinada é de 211.755.692 de brasileiros, pois muito provavelmente\n",
    "não atingirá esse limite dentro do tempo que está prevendo. \n",
    "Em vez disso, vou definir algo mais razoável, como 500.000, e deixar o limite aumentar lentamente com o tempo."
   ]
  },
  {
   "cell_type": "code",
   "execution_count": null,
   "metadata": {},
   "outputs": [],
   "source": [
    "# Prophet usa um modelo linear para sua previsão, e podemos usar um modelo de\n",
    "# 1) A tendência de crescimento logística, \"growth = logistic\"\n",
    "\n",
    "# 2) Dois parâmetros são importantes no modelo:\n",
    "# o parâmetro FLOOR = 1     ==> mínimo de saturação \n",
    "# o parâmetro CAP   = 7000  ==> especifica o valor máximo, CAP = populacao brasileira\n",
    "\n",
    "# 3) Parâmetro Trend, podemos ajustar a flexibilizar a tendência:\n",
    "\n",
    "# Se as mudanças de tendência estão sendo super ajustadas (flexibilidade demais) ou insuficientes (flexibilidade insuficiente), você pode ajustar a força da dispersão antes de usar o argumento de entrada changepoint_prior_scale. \n",
    "# Por padrão, este parâmetro é definido como 0,05. \n",
    "# Aumentá-lo tornará a tendência mais flexível\n",
    "\n",
    "# ---\n",
    "# Perde a desaceleração: O Profeta não foi capaz de incorporar a desaceleração em novos casos COVID após o ano novo. Isso ocorre porque a configuração padrão para o intervalo de pontos de dados considerados ao identificar pontos de mudança é os primeiros 80% dos dados na série temporal. Podemos corrigir isso definindo changepoint_range = 1ao instanciar o modelo que irá incorporar 100% dos dados. Em outras situações, pode ser bom manter o intervalo do ponto de mudança em 80% ou menos para garantir que o modelo não se ajuste demais aos seus dados e possa entender os últimos 20% por conta própria. Mas, neste caso, porque \n",
    "# estamos apenas tentando modelar com precisão o que aconteceu até agora, vamos permitir o ajuste para 100%.\n",
    "\n",
    "# -----\n",
    "\n",
    "\n",
    "\n",
    "# OBS: FLOOR e CAP devem ser especificados para CADA colunas do DataFrame, com\n",
    "# valores Mínimo e Máximo\n",
    "\n",
    "df1['cap']  = 7000   # media vacinados por dia\n",
    "df1['floor'] = 1      # valor do piso\n",
    "\n",
    "model = Prophet(growth = 'logistic', changepoint_range = 1, changepoint_prior_scale = 0.5)  # define crescimento logistico\n",
    " \n",
    "# Calculando treinamento:\n",
    "model.fit(df1)\n",
    "\n",
    "# Fazendo a previsão:\n",
    "\n",
    "future        = model.make_future_dataframe(periods = 365)\n",
    "\n",
    "\n",
    "future['cap']   =   500000                # 211755692  total da população brasileira\n",
    "future['floor'] = 1\n",
    "forecast = model.predict(future)\n",
    "\n",
    "fig3 = model.plot(forecast, xlabel = 'Data', ylabel = 'Previsão do Vacinados 1.Dose')"
   ]
  },
  {
   "cell_type": "code",
   "execution_count": null,
   "metadata": {},
   "outputs": [],
   "source": [
    "# Fazendo o Plotagem da Previsão:\n",
    "\n",
    "fig4 = model.plot(forecast, uncertainty = True)\n",
    "\n",
    "fig5 = model.plot_components(forecast)"
   ]
  },
  {
   "cell_type": "code",
   "execution_count": null,
   "metadata": {},
   "outputs": [],
   "source": [
    "# Explicando as métricas:\n",
    "\n",
    "# yhat: o valor previsto de nossa métrica (em Estatísticas, \n",
    "#       yhat é uma notação tradicionalmente usada para representar os valores previstos de um valor y)\n",
    "\n",
    "# yhat_lower: o limite inferior de nossas previsões\n",
    "# yhat_upper: o limite superior de nossas previsões\n",
    "\n",
    "\n",
    "forecast[['ds', 'yhat', 'yhat_lower', 'yhat_upper']].tail()"
   ]
  },
  {
   "cell_type": "code",
   "execution_count": null,
   "metadata": {},
   "outputs": [],
   "source": [
    "fig = model.plot(forecast)"
   ]
  },
  {
   "cell_type": "code",
   "execution_count": null,
   "metadata": {},
   "outputs": [],
   "source": [
    "# Plotting comparando valores: Atual x Futuro: \n",
    "\n",
    "ax = (df1.plot(x= 'ds', y = 'y',   legend = True, label = 'Data', figsize= (10,30), color = 'red')) \n",
    "forecast.plot(x= 'ds',  y ='yhat', legend = True, label = 'Previsao', figsize=(10,10),title='DADOS ATUAIS X FUTURO', color ='blue',ax=ax)"
   ]
  },
  {
   "cell_type": "code",
   "execution_count": null,
   "metadata": {},
   "outputs": [],
   "source": [
    "# Plotting o forecast:\n",
    "f, ax = plt.subplots(1)\n",
    "\n",
    "f.set_figheight(5)\n",
    "f.set_figwidth(15)\n",
    "fig = model.plot(forecast, ax=ax)\n",
    "plt.show()"
   ]
  },
  {
   "cell_type": "code",
   "execution_count": null,
   "metadata": {},
   "outputs": [],
   "source": []
  },
  {
   "cell_type": "code",
   "execution_count": null,
   "metadata": {},
   "outputs": [],
   "source": [
    "# Explicando o gráfico abaixo:\n",
    "\n",
    "# Usando a add_changepoints_to_plotfunção, adicionamos as linhas vermelhas; \n",
    "# as linhas tracejadas verticais são pontos de mudança que o Prophet identificou onde a tendência mudou, \n",
    "# e a linha vermelha contínua, é a tendência com toda a sazonalidade removida."
   ]
  },
  {
   "cell_type": "code",
   "execution_count": null,
   "metadata": {},
   "outputs": [],
   "source": [
    "# Plotting dados Atual x Futuro\n",
    "\n",
    "fig = model.plot(forecast)\n",
    "a   = add_changepoints_to_plot(fig.gca(), model, forecast)"
   ]
  },
  {
   "cell_type": "code",
   "execution_count": null,
   "metadata": {},
   "outputs": [],
   "source": []
  },
  {
   "cell_type": "code",
   "execution_count": null,
   "metadata": {},
   "outputs": [],
   "source": [
    "# Recalculando a Função Croos-Validation\n",
    "\n",
    "df_cross = cross_validation(model, initial='100 days', period='180 days', horizon = '100 days')\n",
    "\n",
    "df_cross.head()\n",
    "df_perform = performance_metrics(df_cross)\n",
    "df_perform.head()"
   ]
  },
  {
   "cell_type": "code",
   "execution_count": null,
   "metadata": {},
   "outputs": [],
   "source": [
    "# Plotting a Performance: Mean absolute percentage error\n",
    "# \n",
    "fig = plot_cross_validation_metric(df_cross, metric='mape')"
   ]
  },
  {
   "cell_type": "code",
   "execution_count": null,
   "metadata": {},
   "outputs": [],
   "source": [
    "# Plotting Median Absolute Percentage Error: MDAPE\n",
    "figura = plot_cross_validation_metric(df_cross,metric = 'mdape')"
   ]
  },
  {
   "cell_type": "code",
   "execution_count": null,
   "metadata": {},
   "outputs": [],
   "source": []
  },
  {
   "cell_type": "code",
   "execution_count": null,
   "metadata": {},
   "outputs": [],
   "source": []
  },
  {
   "cell_type": "code",
   "execution_count": null,
   "metadata": {},
   "outputs": [],
   "source": []
  },
  {
   "cell_type": "code",
   "execution_count": null,
   "metadata": {},
   "outputs": [],
   "source": [
    "Next we will see if adding holiday indicators will help the accuracy of the model. \n",
    "Prophet comes with a Holiday Effects parameter that can be provided to the model prior to training."
   ]
  },
  {
   "cell_type": "code",
   "execution_count": null,
   "metadata": {},
   "outputs": [],
   "source": [
    "# Adicionando os Feriados do Brasil para melhorar a acurária da Previsão da Serie Temporal:\n",
    "\n",
    "import holidays\n",
    "    \n",
    "feriado = holidays.Brazil()\n",
    "\n",
    "# Feriados no Brasil:\n",
    "for feriado in feriado['2021-01-01': '2021-12-31'] :\n",
    "    print(feriado)"
   ]
  },
  {
   "cell_type": "code",
   "execution_count": null,
   "metadata": {},
   "outputs": [],
   "source": []
  },
  {
   "cell_type": "code",
   "execution_count": null,
   "metadata": {},
   "outputs": [],
   "source": [
    "playoffs = pd.DataFrame ({\n",
    "  'holiday': 'playoff', \n",
    "  'ds': pd.to_datetime (['2021-01-01', '2021-02-16', '2021-02-17', '2021-04-02', '2021-04-04', \n",
    "                          '2021-04-21', '2021-05-01', '2021-06-03', '2021-09-07', '2021-10-12',\n",
    "                          '2021-11-02', '2021-11-15', '2021-12-25']), \n",
    "  ' lower_window ': 0, \n",
    "  ' upper_window ': 1, \n",
    "})\n",
    "\n",
    "others = pd.DataFrame({  \n",
    "  'holiday': 'others',\n",
    "  'ds': pd.to_datetime(['2021-07-09', '2021-11-20']),\n",
    "  'lower_window': 0,\n",
    "  'upper_window': 1,\n",
    "})\n",
    "\n",
    "holidays = pd.concat((playoffs, others))"
   ]
  },
  {
   "cell_type": "code",
   "execution_count": null,
   "metadata": {},
   "outputs": [],
   "source": [
    "# Criando um Dataframe que contém as datas dos feriados:\n",
    "\n",
    "# Fazendo a Previsao:\n",
    "\n",
    "model    = Prophet(holidays=holidays)\n",
    "\n",
    "# Treinando:\n",
    "\n",
    "forecast = model.fit(df1).predict(future)  \n",
    "model.plot_components(forecast);\n"
   ]
  },
  {
   "cell_type": "code",
   "execution_count": null,
   "metadata": {},
   "outputs": [],
   "source": []
  },
  {
   "cell_type": "markdown",
   "metadata": {},
   "source": [
    "# Após os ajustes nos parâmetros da Prophet,\n",
    "refazendo a função de Erro Absoluto: \n"
   ]
  },
  {
   "cell_type": "code",
   "execution_count": null,
   "metadata": {},
   "outputs": [],
   "source": [
    "# Definindo os campos de y_true e y_pred para calcular erro,\n",
    "# chamando a Função Mean_Absolute_Percentage_ERROR\n",
    "# Após alterando parâmetros no Prophet:\n",
    "\n",
    "y_true = df1['y']\n",
    "y_pred = forecast['yhat'].loc[0:128]\n",
    "\n",
    "mape = mean_absolute_percentage_error(y_true, y_pred)\n",
    "\n",
    "print(\"MAPE\", round(mape,4))\n"
   ]
  },
  {
   "cell_type": "code",
   "execution_count": null,
   "metadata": {},
   "outputs": [],
   "source": []
  },
  {
   "cell_type": "code",
   "execution_count": null,
   "metadata": {},
   "outputs": [],
   "source": []
  },
  {
   "cell_type": "code",
   "execution_count": null,
   "metadata": {},
   "outputs": [],
   "source": []
  },
  {
   "cell_type": "code",
   "execution_count": null,
   "metadata": {},
   "outputs": [],
   "source": []
  },
  {
   "cell_type": "code",
   "execution_count": null,
   "metadata": {},
   "outputs": [],
   "source": []
  },
  {
   "cell_type": "markdown",
   "metadata": {},
   "source": [
    "# Aqui estarei fazendo as Previsões da Segunda Dose da Vacina:"
   ]
  },
  {
   "cell_type": "code",
   "execution_count": null,
   "metadata": {},
   "outputs": [],
   "source": [
    "df2 = df\n",
    "df2.shape"
   ]
  },
  {
   "cell_type": "code",
   "execution_count": null,
   "metadata": {},
   "outputs": [],
   "source": [
    "df2 = df.groupby('vacina_dataAplicacao').agg({'2a_dose':'sum'}).reset_index()\n",
    "\n",
    "df2['vacina_dataAplicacao'].value_counts()"
   ]
  },
  {
   "cell_type": "code",
   "execution_count": null,
   "metadata": {},
   "outputs": [],
   "source": [
    "# Renomeando as colunas para preparar para rodar o Modelo Prophet:\n",
    "\n",
    "df2.columns = ['ds', 'y']"
   ]
  },
  {
   "cell_type": "code",
   "execution_count": null,
   "metadata": {},
   "outputs": [],
   "source": [
    "df2"
   ]
  },
  {
   "cell_type": "code",
   "execution_count": null,
   "metadata": {},
   "outputs": [],
   "source": [
    "# Plotting Data Atual\n",
    "\n",
    "df2.plot(x ='ds', y ='y', figsize = (10,8), title = 'Datas Vacinação da 2. Dose' , color = 'red')"
   ]
  },
  {
   "cell_type": "code",
   "execution_count": null,
   "metadata": {},
   "outputs": [],
   "source": [
    "# Fazendo Saturações Previsões de Crescimento com Prophet sem nenhum parâmetros:\n",
    "\n",
    "model = Prophet()\n",
    "\n",
    "model.fit(df2)\n",
    "\n",
    "future   = model.make_future_dataframe(periods = 365)\n",
    "\n",
    "forecast = model.predict(future)\n",
    "\n",
    "fig1 = model.plot(forecast)\n"
   ]
  },
  {
   "cell_type": "code",
   "execution_count": null,
   "metadata": {},
   "outputs": [],
   "source": [
    "# Definindo os campos de y_true e y_pred para calcular erro,\n",
    "# chamando a Função Mean_Absolute_Percentage_ERROR\n",
    "# Após alterando parâmetros no Prophet:\n",
    "\n",
    "y_true = df2['y']\n",
    "y_pred = forecast['yhat'].loc[0:128]\n",
    "\n",
    "mape = mean_absolute_percentage_error(y_true, y_pred)\n",
    "\n",
    "print(\"MAPE\", round(mape,4))\n"
   ]
  },
  {
   "cell_type": "code",
   "execution_count": null,
   "metadata": {},
   "outputs": [],
   "source": [
    "# Definindo a sazonalidade diaria, semanal e mensal terá mais controle sobre a sazonalidade. \n",
    "\n",
    "model = Prophet(daily_seasonality      = False,\n",
    "               weekly_seasonality      = False,\n",
    "               yearly_seasonality      = False,\n",
    "               ).add_seasonality(name= 'mounthly',\n",
    "                                 period = 30,\n",
    "                                 fourier_order = 12\n",
    "                ).add_seasonality(name = 'dayly',\n",
    "                                 period = 1,\n",
    "                                 fourier_order = 15\n",
    "                                 ).add_seasonality(name = 'weekly',\n",
    "                                 period = 7,\n",
    "                                 fourier_order = 20,\n",
    "                ).add_seasonality(name= 'yearly',\n",
    "                                 period = 365.25,\n",
    "                                 fourier_order = 20\n",
    "                ).add_seasonality(name= 'quartely',\n",
    "                                 period = 365.25/4,\n",
    "                                 fourier_order = 5,\n",
    "                                 prior_scale = 15)\n",
    "                "
   ]
  },
  {
   "cell_type": "markdown",
   "metadata": {},
   "source": [
    "# Tratando Parâmetros: ajustes dos parâmetros do PROPHETS para '2a_dose':"
   ]
  },
  {
   "cell_type": "code",
   "execution_count": null,
   "metadata": {},
   "outputs": [],
   "source": [
    "# Aqui faremos os ajustes para melhorar a nossa previsão:\n",
    "\n",
    "# Prophet usa um modelo linear para sua previsão, e podemos usar um modelo de\n",
    "# 1) A tendência de crescimento logística, 'growth = logistic'\n",
    "\n",
    "# 2) Dois parâmetros são importantes no modelo:\n",
    "# o parâmetro FLOOR = 0 ==> mínimo de saturação \n",
    "# o parâmetro CAP   =   ==> especifica o valor máximo, CAP = populacao brasileira\n",
    "\n",
    "# 3) Parâmetro Trend, podemos ajustar a flexibilizar a tendência:\n",
    "\n",
    "# Se as mudanças de tendência estão sendo super ajustadas (flexibilidade demais) ou insuficientes (flexibilidade insuficiente), você pode ajustar a força da dispersão antes de usar o argumento de entrada changepoint_prior_scale. \n",
    "# Por padrão, este parâmetro é definido como 0,05. \n",
    "# Aumentá-lo tornará a tendência mais flexível\n",
    "\n",
    "\n",
    "# OBS: FLOOR e CAP devem ser especificados para CADA colunas do DataFrame, com\n",
    "# valores mínimo e Máximo\n",
    "\n",
    "df2['cap']  = 7000    # media vacinados por dia\n",
    "df2['floor'] = 1      # valor do piso\n",
    "\n",
    "model = Prophet(growth = 'logistic', changepoint_prior_scale = 0.5)  # define crescimento logistico\n",
    " \n",
    "# Calculando fit:\n",
    "model.fit(df2)\n",
    "\n",
    "# Fazendo a previsão:\n",
    "\n",
    "future          = model.make_future_dataframe(periods = 365)\n",
    "future['cap']   = 211755692   # total da população brasileira\n",
    "future['floor'] = 1\n",
    "forecast = model.predict(future)\n",
    "\n",
    "fig3 = model.plot(forecast)"
   ]
  },
  {
   "cell_type": "code",
   "execution_count": null,
   "metadata": {},
   "outputs": [],
   "source": [
    "# Explicando as métricas:\n",
    "\n",
    "# yhat: o valor previsto de nossa métrica (em Estatísticas, \n",
    "#       yhat é uma notação tradicionalmente usada para representar os valores previstos de um valor y)\n",
    "\n",
    "# yhat_lower: o limite inferior de nossas previsões\n",
    "# yhat_upper: o limite superior de nossas previsões\n",
    "\n",
    "\n",
    "forecast[['ds', 'yhat', 'yhat_lower', 'yhat_upper']].tail()"
   ]
  },
  {
   "cell_type": "code",
   "execution_count": null,
   "metadata": {},
   "outputs": [],
   "source": [
    "# Fazendo o Plotagem:\n",
    "\n",
    "fig = model.plot(forecast)\n",
    "\n",
    "fig = model.plot_components(forecast)"
   ]
  },
  {
   "cell_type": "code",
   "execution_count": null,
   "metadata": {},
   "outputs": [],
   "source": []
  },
  {
   "cell_type": "code",
   "execution_count": null,
   "metadata": {},
   "outputs": [],
   "source": [
    "# Definindo os campos de y_true e y_pred para calcular erro,\n",
    "# chamando a Função Mean_Absolute_Percentage_ERROR\n",
    "# Após alteração parâmetros no Prophet:\n",
    "\n",
    "y_true = df2['y']\n",
    "y_pred = forecast['yhat'].loc[0:128]\n",
    "\n",
    "mape = mean_absolute_percentage_error(y_true, y_pred)\n",
    "\n",
    "print(\"MAPE\", round(mape,4))\n"
   ]
  },
  {
   "cell_type": "code",
   "execution_count": null,
   "metadata": {},
   "outputs": [],
   "source": []
  }
 ],
 "metadata": {
  "kernelspec": {
   "display_name": "Python 3",
   "language": "python",
   "name": "python3"
  },
  "language_info": {
   "codemirror_mode": {
    "name": "ipython",
    "version": 3
   },
   "file_extension": ".py",
   "mimetype": "text/x-python",
   "name": "python",
   "nbconvert_exporter": "python",
   "pygments_lexer": "ipython3",
   "version": "3.8.5"
  }
 },
 "nbformat": 4,
 "nbformat_minor": 4
}
