{
 "cells": [
  {
   "cell_type": "markdown",
   "metadata": {},
   "source": [
    "# Este programa faz a preparacao dos dados para executar a previsão \n",
    "# de vacinados no Banco Dados coletado da APIs Vacina do site gov.br:\n",
    "\n",
    "## Desse Banco de Dados, foi gerado uma Amostra randomicamente,\n",
    "## definindo uma porcentage de 0.001 ==> 1 em cada 1.000"
   ]
  },
  {
   "cell_type": "code",
   "execution_count": null,
   "metadata": {},
   "outputs": [],
   "source": [
    "# DATA ; 17/5/2021"
   ]
  },
  {
   "cell_type": "code",
   "execution_count": 1,
   "metadata": {},
   "outputs": [],
   "source": [
    "import csv\n",
    "import time\n",
    "import requests \n",
    "import pandas  as pd\n",
    "import seaborn as sns\n",
    "from random   import random\n",
    "from prophet  import Prophet\n",
    "from datetime import datetime\n",
    "from datetime import date\n",
    "\n",
    "\n",
    "# Importar bibliotecas para construir gráficos:\n",
    "\n",
    "import seaborn as sns\n",
    "import matplotlib.pyplot as plt\n",
    "sns.set()\n",
    "\n",
    "# Bibliotecas de Algoritmos de Regressão:\n",
    "from sklearn.tree            import DecisionTreeClassifier\n",
    "from catboost                import CatBoostClassifier\n",
    "from sklearn.metrics         import accuracy_score\n",
    "from sklearn.neighbors       import KNeighborsClassifier\n",
    "from sklearn.linear_model    import LogisticRegression\n",
    "from sklearn.metrics         import confusion_matrix, classification_report\n",
    "from sklearn.model_selection import train_test_split, GridSearchCV\n",
    "from sklearn.preprocessing   import StandardScaler\n",
    "from sklearn.ensemble        import RandomForestRegressor, ExtraTreesRegressor\n",
    "\n",
    "\n",
    "# Biblioteca do Prophet para Algoritmo de Previsão:\n",
    "\n",
    "from prophet import Prophet\n",
    "\n",
    "\n",
    "df = pd.read_csv(\"BD_Amostra-Alguns-12-05-2021.csv\", sep=\";\")\n",
    "usecols   = ['vacina_fabricante_nome',\n",
    "             'paciente_idade',\n",
    "             'paciente_id',\n",
    "             'vacina_dataAplicacao',\n",
    "             'paciente_endereco_uf',\n",
    "             'vacina_descricao_dose']\n",
    "\n",
    "# Leitura do mesmo Banco Dados da Amostra no dia 12/05/2021:\n",
    "\n"
   ]
  },
  {
   "cell_type": "code",
   "execution_count": 2,
   "metadata": {},
   "outputs": [],
   "source": [
    "# Denindo as Variaveis Globais:\n",
    "\n",
    "FATOR_AMOSTRA = 0.001 # 1/1000"
   ]
  },
  {
   "cell_type": "code",
   "execution_count": null,
   "metadata": {},
   "outputs": [],
   "source": [
    "# Trabalhando com arquivo de Amostra, usarei algumas colunas\n",
    "# relevantes para tratar com a Previsao Vacinados.\n",
    "\n",
    "## Leitura BD_Amostra do dia 12/05/2021:\n",
    "## DataFrame conterá as colunas dos vacinados 1.Dose e 2. Dose"
   ]
  },
  {
   "cell_type": "markdown",
   "metadata": {},
   "source": []
  },
  {
   "cell_type": "code",
   "execution_count": null,
   "metadata": {},
   "outputs": [],
   "source": [
    "# Primeiro passo: cuidar do campo 'vacina_dataAplicacao' para ter somente a DATA"
   ]
  },
  {
   "cell_type": "code",
   "execution_count": 5,
   "metadata": {},
   "outputs": [],
   "source": [
    "# Preparando o campo para o datetime: formato = %Y-%m-%dT%H:%M:%S\"\n"
   ]
  },
  {
   "cell_type": "code",
   "execution_count": 3,
   "metadata": {},
   "outputs": [
    {
     "data": {
      "text/plain": [
       "0        2021-02-06T00:00:00.000Z\n",
       "1        2021-03-06T00:00:00.000Z\n",
       "2        2021-04-13T00:00:00.000Z\n",
       "3        2021-03-30T00:00:00.000Z\n",
       "4        2021-03-17T00:00:00.000Z\n",
       "                   ...           \n",
       "50934    2021-05-12T00:00:00.000Z\n",
       "50935    2021-05-11T00:00:00.000Z\n",
       "50936    2021-05-03T00:00:00.000Z\n",
       "50937    2021-04-01T00:00:00.000Z\n",
       "50938    2021-05-11T00:00:00.000Z\n",
       "Name: vacina_dataAplicacao, Length: 50939, dtype: object"
      ]
     },
     "execution_count": 3,
     "metadata": {},
     "output_type": "execute_result"
    }
   ],
   "source": [
    "df['vacina_dataAplicacao']"
   ]
  },
  {
   "cell_type": "code",
   "execution_count": null,
   "metadata": {},
   "outputs": [],
   "source": [
    "# Preciso tratar o campo 'vacina_dataAplicacao' :\n",
    "# 1) aparecer o DD/MM/YY\n",
    "# 2) remover o timezone"
   ]
  },
  {
   "cell_type": "code",
   "execution_count": 4,
   "metadata": {},
   "outputs": [
    {
     "data": {
      "text/plain": [
       "vacina_fabricante_nome    object\n",
       "paciente_idade             int64\n",
       "paciente_id               object\n",
       "vacina_dataAplicacao      object\n",
       "paciente_endereco_uf      object\n",
       "vacina_descricao_dose     object\n",
       "dtype: object"
      ]
     },
     "execution_count": 4,
     "metadata": {},
     "output_type": "execute_result"
    }
   ],
   "source": [
    "# converter a coluna datetime  somente em date\n",
    "\n",
    "df['vacina_dataAplicacao'] = pd.to_datetime(df['vacina_dataAplicacao']).dt.date\n",
    "\n",
    "\n",
    "df.dtypes\n"
   ]
  },
  {
   "cell_type": "code",
   "execution_count": 11,
   "metadata": {},
   "outputs": [
    {
     "data": {
      "text/plain": [
       "vacina_fabricante_nome            object\n",
       "paciente_idade                     int64\n",
       "paciente_id                       object\n",
       "vacina_dataAplicacao              object\n",
       "paciente_endereco_uf              object\n",
       "vacina_descricao_dose             object\n",
       "vacina_dataAplicao        datetime64[ns]\n",
       "dtype: object"
      ]
     },
     "execution_count": 11,
     "metadata": {},
     "output_type": "execute_result"
    }
   ],
   "source": [
    "# Note que o cmpo 'vacina_dataAplicao' é tipo = object\n",
    "# Preciso usar a função: normalize()  que será mostrado no campo date:\n",
    "#  'vacina_dataAplicacao' tem que ser ==> datetime64 \n",
    "# \n",
    "\n",
    "df['vacina_dataAplicao'] = pd.to_datetime(df['vacina_dataAplicacao']).dt.normalize()\n",
    "\n",
    "# Vericando os tipos do DataFrame:\n",
    "df.dtypes"
   ]
  },
  {
   "cell_type": "code",
   "execution_count": 5,
   "metadata": {},
   "outputs": [
    {
     "data": {
      "text/plain": [
       "0        2021-02-06\n",
       "1        2021-03-06\n",
       "2        2021-04-13\n",
       "3        2021-03-30\n",
       "4        2021-03-17\n",
       "            ...    \n",
       "50934    2021-05-12\n",
       "50935    2021-05-11\n",
       "50936    2021-05-03\n",
       "50937    2021-04-01\n",
       "50938    2021-05-11\n",
       "Name: vacina_dataAplicacao, Length: 50939, dtype: object"
      ]
     },
     "execution_count": 5,
     "metadata": {},
     "output_type": "execute_result"
    }
   ],
   "source": [
    "df['vacina_dataAplicacao']"
   ]
  },
  {
   "cell_type": "code",
   "execution_count": null,
   "metadata": {},
   "outputs": [],
   "source": []
  },
  {
   "cell_type": "code",
   "execution_count": 2,
   "metadata": {},
   "outputs": [],
   "source": [
    "# Segundo Passo: tratando do campo \"vacina_descricao_dose\""
   ]
  },
  {
   "cell_type": "code",
   "execution_count": null,
   "metadata": {},
   "outputs": [],
   "source": [
    "# Para a aplicação da Vacina se:\n",
    "#   Primeira Dose \n",
    "#   Segunda Dose após um intervalo definido"
   ]
  },
  {
   "cell_type": "code",
   "execution_count": 6,
   "metadata": {},
   "outputs": [
    {
     "data": {
      "text/plain": [
       "array(['\\xa0\\xa0\\xa0\\xa01ª\\xa0Dose', '\\xa0\\xa0\\xa0\\xa02ª\\xa0Dose',\n",
       "       '1ª Dose', '2ª Dose', 'Única'], dtype=object)"
      ]
     },
     "execution_count": 6,
     "metadata": {},
     "output_type": "execute_result"
    }
   ],
   "source": [
    "df[\"vacina_descricao_dose\"].unique()\n"
   ]
  },
  {
   "cell_type": "code",
   "execution_count": 65,
   "metadata": {},
   "outputs": [],
   "source": [
    "# Note que no campo contém a seguinte descrição:\n",
    "\n",
    "# array(['\\xa0\\xa0\\xa0\\xa01ª\\xa0Dose', \n",
    "#        '\\xa0\\xa0\\xa0\\xa02ª\\xa0Dose']\n",
    "#        '1ª Dose', '2ª Dose', 'Única'\n",
    "\n"
   ]
  },
  {
   "cell_type": "code",
   "execution_count": 7,
   "metadata": {},
   "outputs": [],
   "source": [
    "# Fazendo uma limpeza do campo \"vacina_descricao_dose\" \n",
    "# nos dois DataFrames:\n",
    "\n",
    "# 1) Transformando todos as linhas como Minuúsculas\n",
    "# 2) Quando aparecer Null (NaN) substitui-se por \"-\"\n",
    "# 3) Tratando todos os caracteres ASCII \n",
    "\n",
    "df[\"vacina_descricao_dose\"] = (df[\"vacina_descricao_dose\"]\n",
    "                                 .str.lower()\n",
    "                                 .str.normalize(\"NFKD\")\n",
    "                                 .str.lstrip()\n",
    "                                 .str.replace(\" \",\"_\")\n",
    "                                 .str.encode(\"ascii\", errors=\"ignore\")\n",
    "                                 .str.decode(\"utf-8\"))"
   ]
  },
  {
   "cell_type": "markdown",
   "metadata": {},
   "source": [
    "# Mineirando os Dados:\n",
    "\n",
    "# Vou tratar o campo 'vacina_descricao_dose':\n",
    "\n",
    "## Teremos 3 situações para contabilizar o número de vacinas tomadas:\n",
    "##  (1) A Primeira Dose ==> 1a_dose\n",
    "##  (2) A Segunda Dose  ==> Totalmente vacinados com a  2a_dose\n",
    "##  (3) Ser Dose Unica!!"
   ]
  },
  {
   "cell_type": "code",
   "execution_count": 8,
   "metadata": {},
   "outputs": [
    {
     "data": {
      "text/plain": [
       "<bound method IndexOpsMixin.value_counts of 0        1a_dose\n",
       "1        2a_dose\n",
       "2        1a_dose\n",
       "3        1a_dose\n",
       "4        2a_dose\n",
       "          ...   \n",
       "50934    1a_dose\n",
       "50935    2a_dose\n",
       "50936    2a_dose\n",
       "50937    1a_dose\n",
       "50938    1a_dose\n",
       "Name: vacina_descricao_dose, Length: 50939, dtype: object>"
      ]
     },
     "execution_count": 8,
     "metadata": {},
     "output_type": "execute_result"
    }
   ],
   "source": [
    "df[\"vacina_descricao_dose\"].value_counts\n",
    "\n"
   ]
  },
  {
   "cell_type": "markdown",
   "metadata": {},
   "source": [
    "# Usando Get_Dummies para descrever as \n"
   ]
  },
  {
   "cell_type": "code",
   "execution_count": 9,
   "metadata": {},
   "outputs": [],
   "source": [
    "\n",
    "dummies = df[\"vacina_descricao_dose\"].str.get_dummies(\"\\n\")\n"
   ]
  },
  {
   "cell_type": "code",
   "execution_count": 10,
   "metadata": {},
   "outputs": [],
   "source": [
    "# Concatenar com o DataFrame e a coluna já tratada como 1. Dose :\n",
    "\n",
    "df = pd.concat([df, dummies], axis = 1)"
   ]
  },
  {
   "cell_type": "code",
   "execution_count": 11,
   "metadata": {},
   "outputs": [
    {
     "data": {
      "text/html": [
       "<div>\n",
       "<style scoped>\n",
       "    .dataframe tbody tr th:only-of-type {\n",
       "        vertical-align: middle;\n",
       "    }\n",
       "\n",
       "    .dataframe tbody tr th {\n",
       "        vertical-align: top;\n",
       "    }\n",
       "\n",
       "    .dataframe thead th {\n",
       "        text-align: right;\n",
       "    }\n",
       "</style>\n",
       "<table border=\"1\" class=\"dataframe\">\n",
       "  <thead>\n",
       "    <tr style=\"text-align: right;\">\n",
       "      <th></th>\n",
       "      <th>1a_dose</th>\n",
       "      <th>2a_dose</th>\n",
       "      <th>unica</th>\n",
       "    </tr>\n",
       "  </thead>\n",
       "  <tbody>\n",
       "    <tr>\n",
       "      <th>0</th>\n",
       "      <td>1</td>\n",
       "      <td>0</td>\n",
       "      <td>0</td>\n",
       "    </tr>\n",
       "    <tr>\n",
       "      <th>1</th>\n",
       "      <td>0</td>\n",
       "      <td>1</td>\n",
       "      <td>0</td>\n",
       "    </tr>\n",
       "    <tr>\n",
       "      <th>2</th>\n",
       "      <td>1</td>\n",
       "      <td>0</td>\n",
       "      <td>0</td>\n",
       "    </tr>\n",
       "    <tr>\n",
       "      <th>3</th>\n",
       "      <td>1</td>\n",
       "      <td>0</td>\n",
       "      <td>0</td>\n",
       "    </tr>\n",
       "    <tr>\n",
       "      <th>4</th>\n",
       "      <td>0</td>\n",
       "      <td>1</td>\n",
       "      <td>0</td>\n",
       "    </tr>\n",
       "  </tbody>\n",
       "</table>\n",
       "</div>"
      ],
      "text/plain": [
       "   1a_dose  2a_dose  unica\n",
       "0        1        0      0\n",
       "1        0        1      0\n",
       "2        1        0      0\n",
       "3        1        0      0\n",
       "4        0        1      0"
      ]
     },
     "execution_count": 11,
     "metadata": {},
     "output_type": "execute_result"
    }
   ],
   "source": [
    "dummies.head(5)"
   ]
  },
  {
   "cell_type": "code",
   "execution_count": 12,
   "metadata": {},
   "outputs": [
    {
     "name": "stdout",
     "output_type": "stream",
     "text": [
      "Vacinados com 1. dose =  34874000.0\n"
     ]
    }
   ],
   "source": [
    "Vacinados_uma_dose = df['1a_dose'].sum()\n",
    "\n",
    "\n",
    "print('Vacinados com 1. dose = ', Vacinados_uma_dose/FATOR_AMOSTRA)"
   ]
  },
  {
   "cell_type": "code",
   "execution_count": 13,
   "metadata": {},
   "outputs": [
    {
     "name": "stdout",
     "output_type": "stream",
     "text": [
      "Vacinados com 2. dose =  16064000.0\n"
     ]
    }
   ],
   "source": [
    "Vacinados_duas_doses = df['2a_dose'].sum()\n",
    "\n",
    "\n",
    "print('Vacinados com 2. dose = ', Vacinados_duas_doses/FATOR_AMOSTRA)"
   ]
  },
  {
   "cell_type": "code",
   "execution_count": null,
   "metadata": {},
   "outputs": [],
   "source": []
  },
  {
   "cell_type": "code",
   "execution_count": 23,
   "metadata": {},
   "outputs": [],
   "source": [
    "# Limpando os campos das Doses, retirando os nulos NaN\n",
    "\n",
    "df['1a_dose'].fillna(0, inplace = True)\n",
    "\n",
    "df['2a_dose'].fillna(0, inplace = True)\n",
    "\n",
    "df['unica'].fillna(0, inplace = True)\n"
   ]
  },
  {
   "cell_type": "code",
   "execution_count": 24,
   "metadata": {},
   "outputs": [
    {
     "data": {
      "text/plain": [
       "<AxesSubplot:xlabel='count', ylabel='vacina_descricao_dose'>"
      ]
     },
     "execution_count": 24,
     "metadata": {},
     "output_type": "execute_result"
    },
    {
     "data": {
      "image/png": "[encoded data removed]",
      "text/plain": [
       "<Figure size 720x432 with 1 Axes>"
      ]
     },
     "metadata": {},
     "output_type": "display_data"
    }
   ],
   "source": [
    "plt.figure(figsize = (10,6))\n",
    "sns.countplot(data = df, y = \"vacina_descricao_dose\")"
   ]
  },
  {
   "cell_type": "code",
   "execution_count": 25,
   "metadata": {},
   "outputs": [
    {
     "data": {
      "text/plain": [
       "0        2021-02-06\n",
       "1        2021-03-06\n",
       "2        2021-04-13\n",
       "3        2021-03-30\n",
       "4        2021-03-17\n",
       "            ...    \n",
       "50934    2021-05-12\n",
       "50935    2021-05-11\n",
       "50936    2021-05-03\n",
       "50937    2021-04-01\n",
       "50938    2021-05-11\n",
       "Name: vacina_dataAplicacao, Length: 50939, dtype: object"
      ]
     },
     "execution_count": 25,
     "metadata": {},
     "output_type": "execute_result"
    }
   ],
   "source": [
    "df['vacina_dataAplicacao']"
   ]
  },
  {
   "cell_type": "markdown",
   "metadata": {},
   "source": [
    "# Trabalhando com informações da 1a_dose para rodar a PREVISAO:"
   ]
  },
  {
   "cell_type": "code",
   "execution_count": 26,
   "metadata": {},
   "outputs": [
    {
     "data": {
      "text/plain": [
       "2021-02-08    1\n",
       "2021-03-02    1\n",
       "2021-01-20    1\n",
       "2021-04-28    1\n",
       "2021-01-23    1\n",
       "             ..\n",
       "2021-03-11    1\n",
       "2021-05-09    1\n",
       "2021-01-29    1\n",
       "2021-04-11    1\n",
       "2021-04-06    1\n",
       "Name: vacina_dataAplicacao, Length: 115, dtype: int64"
      ]
     },
     "execution_count": 26,
     "metadata": {},
     "output_type": "execute_result"
    }
   ],
   "source": [
    "df1 = df.groupby('vacina_dataAplicacao').agg({'1a_dose':'sum'}).reset_index()\n",
    "\n",
    "df1['vacina_dataAplicacao'].value_counts()\n"
   ]
  },
  {
   "cell_type": "code",
   "execution_count": 29,
   "metadata": {},
   "outputs": [
    {
     "data": {
      "text/html": [
       "<div>\n",
       "<style scoped>\n",
       "    .dataframe tbody tr th:only-of-type {\n",
       "        vertical-align: middle;\n",
       "    }\n",
       "\n",
       "    .dataframe tbody tr th {\n",
       "        vertical-align: top;\n",
       "    }\n",
       "\n",
       "    .dataframe thead th {\n",
       "        text-align: right;\n",
       "    }\n",
       "</style>\n",
       "<table border=\"1\" class=\"dataframe\">\n",
       "  <thead>\n",
       "    <tr style=\"text-align: right;\">\n",
       "      <th></th>\n",
       "      <th>vacina_dataAplicacao</th>\n",
       "      <th>1a_dose</th>\n",
       "    </tr>\n",
       "  </thead>\n",
       "  <tbody>\n",
       "    <tr>\n",
       "      <th>0</th>\n",
       "      <td>2021-01-18</td>\n",
       "      <td>2</td>\n",
       "    </tr>\n",
       "    <tr>\n",
       "      <th>1</th>\n",
       "      <td>2021-01-19</td>\n",
       "      <td>64</td>\n",
       "    </tr>\n",
       "    <tr>\n",
       "      <th>2</th>\n",
       "      <td>2021-01-20</td>\n",
       "      <td>297</td>\n",
       "    </tr>\n",
       "  </tbody>\n",
       "</table>\n",
       "</div>"
      ],
      "text/plain": [
       "  vacina_dataAplicacao  1a_dose\n",
       "0           2021-01-18        2\n",
       "1           2021-01-19       64\n",
       "2           2021-01-20      297"
      ]
     },
     "execution_count": 29,
     "metadata": {},
     "output_type": "execute_result"
    }
   ],
   "source": [
    "df1.head(3)"
   ]
  },
  {
   "cell_type": "markdown",
   "metadata": {},
   "source": [
    "# Terceiro Passo: \n",
    "# Usar o Algoritmo do Prophets do Facebook para Previsao:\n",
    "\n",
    "## ds = 'vacina_dataAplicacao' \n",
    "## ds é a coluna de carimbo de data e deve ser conforme o formato de \n",
    "## data / hora do pandas , AAAA-MM-DD\n",
    "\n",
    "\n",
    "## A coluna y = deve ser numérica e representa a medida que desejamos prever\n",
    "## y = total da 1. dose para dataframe == df1 ou 2.dose para dataframe == df2"
   ]
  },
  {
   "cell_type": "code",
   "execution_count": null,
   "metadata": {},
   "outputs": [],
   "source": []
  },
  {
   "cell_type": "code",
   "execution_count": 31,
   "metadata": {},
   "outputs": [],
   "source": [
    "df1.columns = ['ds', 'y']"
   ]
  },
  {
   "cell_type": "code",
   "execution_count": 32,
   "metadata": {},
   "outputs": [
    {
     "data": {
      "text/html": [
       "<div>\n",
       "<style scoped>\n",
       "    .dataframe tbody tr th:only-of-type {\n",
       "        vertical-align: middle;\n",
       "    }\n",
       "\n",
       "    .dataframe tbody tr th {\n",
       "        vertical-align: top;\n",
       "    }\n",
       "\n",
       "    .dataframe thead th {\n",
       "        text-align: right;\n",
       "    }\n",
       "</style>\n",
       "<table border=\"1\" class=\"dataframe\">\n",
       "  <thead>\n",
       "    <tr style=\"text-align: right;\">\n",
       "      <th></th>\n",
       "      <th>ds</th>\n",
       "      <th>y</th>\n",
       "    </tr>\n",
       "  </thead>\n",
       "  <tbody>\n",
       "    <tr>\n",
       "      <th>0</th>\n",
       "      <td>2021-01-18</td>\n",
       "      <td>2</td>\n",
       "    </tr>\n",
       "    <tr>\n",
       "      <th>1</th>\n",
       "      <td>2021-01-19</td>\n",
       "      <td>64</td>\n",
       "    </tr>\n",
       "    <tr>\n",
       "      <th>2</th>\n",
       "      <td>2021-01-20</td>\n",
       "      <td>297</td>\n",
       "    </tr>\n",
       "  </tbody>\n",
       "</table>\n",
       "</div>"
      ],
      "text/plain": [
       "           ds    y\n",
       "0  2021-01-18    2\n",
       "1  2021-01-19   64\n",
       "2  2021-01-20  297"
      ]
     },
     "execution_count": 32,
     "metadata": {},
     "output_type": "execute_result"
    }
   ],
   "source": [
    "df1.head(3)"
   ]
  },
  {
   "cell_type": "code",
   "execution_count": 33,
   "metadata": {},
   "outputs": [
    {
     "data": {
      "text/plain": [
       "datetime.date(2021, 5, 12)"
      ]
     },
     "execution_count": 33,
     "metadata": {},
     "output_type": "execute_result"
    }
   ],
   "source": [
    "df1.ds.max()"
   ]
  },
  {
   "cell_type": "markdown",
   "metadata": {},
   "source": [
    "# Rodando o Algorítmo de Previsao PROPHETS para '1a_dose'"
   ]
  },
  {
   "cell_type": "code",
   "execution_count": 37,
   "metadata": {},
   "outputs": [
    {
     "name": "stderr",
     "output_type": "stream",
     "text": [
      "INFO:prophet:Disabling yearly seasonality. Run prophet with yearly_seasonality=True to override this.\n",
      "INFO:prophet:Disabling daily seasonality. Run prophet with daily_seasonality=True to override this.\n"
     ]
    }
   ],
   "source": [
    "m = Prophet()\n",
    "\n",
    "m.fit(df1)\n",
    "future = m.make_future_dataframe(periods = 180, include_history=False)"
   ]
  },
  {
   "cell_type": "code",
   "execution_count": 44,
   "metadata": {},
   "outputs": [
    {
     "data": {
      "text/html": [
       "<div>\n",
       "<style scoped>\n",
       "    .dataframe tbody tr th:only-of-type {\n",
       "        vertical-align: middle;\n",
       "    }\n",
       "\n",
       "    .dataframe tbody tr th {\n",
       "        vertical-align: top;\n",
       "    }\n",
       "\n",
       "    .dataframe thead th {\n",
       "        text-align: right;\n",
       "    }\n",
       "</style>\n",
       "<table border=\"1\" class=\"dataframe\">\n",
       "  <thead>\n",
       "    <tr style=\"text-align: right;\">\n",
       "      <th></th>\n",
       "      <th>ds</th>\n",
       "    </tr>\n",
       "  </thead>\n",
       "  <tbody>\n",
       "    <tr>\n",
       "      <th>0</th>\n",
       "      <td>2021-05-13</td>\n",
       "    </tr>\n",
       "    <tr>\n",
       "      <th>1</th>\n",
       "      <td>2021-05-14</td>\n",
       "    </tr>\n",
       "    <tr>\n",
       "      <th>2</th>\n",
       "      <td>2021-05-15</td>\n",
       "    </tr>\n",
       "    <tr>\n",
       "      <th>3</th>\n",
       "      <td>2021-05-16</td>\n",
       "    </tr>\n",
       "    <tr>\n",
       "      <th>4</th>\n",
       "      <td>2021-05-17</td>\n",
       "    </tr>\n",
       "    <tr>\n",
       "      <th>...</th>\n",
       "      <td>...</td>\n",
       "    </tr>\n",
       "    <tr>\n",
       "      <th>175</th>\n",
       "      <td>2021-11-04</td>\n",
       "    </tr>\n",
       "    <tr>\n",
       "      <th>176</th>\n",
       "      <td>2021-11-05</td>\n",
       "    </tr>\n",
       "    <tr>\n",
       "      <th>177</th>\n",
       "      <td>2021-11-06</td>\n",
       "    </tr>\n",
       "    <tr>\n",
       "      <th>178</th>\n",
       "      <td>2021-11-07</td>\n",
       "    </tr>\n",
       "    <tr>\n",
       "      <th>179</th>\n",
       "      <td>2021-11-08</td>\n",
       "    </tr>\n",
       "  </tbody>\n",
       "</table>\n",
       "<p>180 rows × 1 columns</p>\n",
       "</div>"
      ],
      "text/plain": [
       "            ds\n",
       "0   2021-05-13\n",
       "1   2021-05-14\n",
       "2   2021-05-15\n",
       "3   2021-05-16\n",
       "4   2021-05-17\n",
       "..         ...\n",
       "175 2021-11-04\n",
       "176 2021-11-05\n",
       "177 2021-11-06\n",
       "178 2021-11-07\n",
       "179 2021-11-08\n",
       "\n",
       "[180 rows x 1 columns]"
      ]
     },
     "execution_count": 44,
     "metadata": {},
     "output_type": "execute_result"
    }
   ],
   "source": [
    "future"
   ]
  },
  {
   "cell_type": "code",
   "execution_count": 39,
   "metadata": {},
   "outputs": [
    {
     "data": {
      "text/plain": [
       "ds   2021-05-13\n",
       "dtype: datetime64[ns]"
      ]
     },
     "execution_count": 39,
     "metadata": {},
     "output_type": "execute_result"
    }
   ],
   "source": [
    "future.min()"
   ]
  },
  {
   "cell_type": "code",
   "execution_count": 40,
   "metadata": {},
   "outputs": [
    {
     "data": {
      "text/plain": [
       "ds   2021-11-08\n",
       "dtype: datetime64[ns]"
      ]
     },
     "execution_count": 40,
     "metadata": {},
     "output_type": "execute_result"
    }
   ],
   "source": [
    "future.max()"
   ]
  },
  {
   "cell_type": "code",
   "execution_count": 41,
   "metadata": {},
   "outputs": [
    {
     "data": {
      "text/html": [
       "<div>\n",
       "<style scoped>\n",
       "    .dataframe tbody tr th:only-of-type {\n",
       "        vertical-align: middle;\n",
       "    }\n",
       "\n",
       "    .dataframe tbody tr th {\n",
       "        vertical-align: top;\n",
       "    }\n",
       "\n",
       "    .dataframe thead th {\n",
       "        text-align: right;\n",
       "    }\n",
       "</style>\n",
       "<table border=\"1\" class=\"dataframe\">\n",
       "  <thead>\n",
       "    <tr style=\"text-align: right;\">\n",
       "      <th></th>\n",
       "      <th>ds</th>\n",
       "      <th>trend</th>\n",
       "      <th>yhat_lower</th>\n",
       "      <th>yhat_upper</th>\n",
       "      <th>trend_lower</th>\n",
       "      <th>trend_upper</th>\n",
       "      <th>additive_terms</th>\n",
       "      <th>additive_terms_lower</th>\n",
       "      <th>additive_terms_upper</th>\n",
       "      <th>weekly</th>\n",
       "      <th>weekly_lower</th>\n",
       "      <th>weekly_upper</th>\n",
       "      <th>multiplicative_terms</th>\n",
       "      <th>multiplicative_terms_lower</th>\n",
       "      <th>multiplicative_terms_upper</th>\n",
       "      <th>yhat</th>\n",
       "    </tr>\n",
       "  </thead>\n",
       "  <tbody>\n",
       "    <tr>\n",
       "      <th>0</th>\n",
       "      <td>2021-05-13</td>\n",
       "      <td>372.836488</td>\n",
       "      <td>238.444934</td>\n",
       "      <td>666.771933</td>\n",
       "      <td>372.836488</td>\n",
       "      <td>372.836488</td>\n",
       "      <td>73.057084</td>\n",
       "      <td>73.057084</td>\n",
       "      <td>73.057084</td>\n",
       "      <td>73.057084</td>\n",
       "      <td>73.057084</td>\n",
       "      <td>73.057084</td>\n",
       "      <td>0.0</td>\n",
       "      <td>0.0</td>\n",
       "      <td>0.0</td>\n",
       "      <td>445.893572</td>\n",
       "    </tr>\n",
       "    <tr>\n",
       "      <th>1</th>\n",
       "      <td>2021-05-14</td>\n",
       "      <td>373.737850</td>\n",
       "      <td>203.379848</td>\n",
       "      <td>644.540049</td>\n",
       "      <td>373.718694</td>\n",
       "      <td>373.758955</td>\n",
       "      <td>58.281519</td>\n",
       "      <td>58.281519</td>\n",
       "      <td>58.281519</td>\n",
       "      <td>58.281519</td>\n",
       "      <td>58.281519</td>\n",
       "      <td>58.281519</td>\n",
       "      <td>0.0</td>\n",
       "      <td>0.0</td>\n",
       "      <td>0.0</td>\n",
       "      <td>432.019369</td>\n",
       "    </tr>\n",
       "    <tr>\n",
       "      <th>2</th>\n",
       "      <td>2021-05-15</td>\n",
       "      <td>374.639212</td>\n",
       "      <td>96.185103</td>\n",
       "      <td>516.938424</td>\n",
       "      <td>374.592065</td>\n",
       "      <td>374.693950</td>\n",
       "      <td>-72.006968</td>\n",
       "      <td>-72.006968</td>\n",
       "      <td>-72.006968</td>\n",
       "      <td>-72.006968</td>\n",
       "      <td>-72.006968</td>\n",
       "      <td>-72.006968</td>\n",
       "      <td>0.0</td>\n",
       "      <td>0.0</td>\n",
       "      <td>0.0</td>\n",
       "      <td>302.632244</td>\n",
       "    </tr>\n",
       "    <tr>\n",
       "      <th>3</th>\n",
       "      <td>2021-05-16</td>\n",
       "      <td>375.540574</td>\n",
       "      <td>-93.575012</td>\n",
       "      <td>346.767275</td>\n",
       "      <td>375.450295</td>\n",
       "      <td>375.637833</td>\n",
       "      <td>-249.085806</td>\n",
       "      <td>-249.085806</td>\n",
       "      <td>-249.085806</td>\n",
       "      <td>-249.085806</td>\n",
       "      <td>-249.085806</td>\n",
       "      <td>-249.085806</td>\n",
       "      <td>0.0</td>\n",
       "      <td>0.0</td>\n",
       "      <td>0.0</td>\n",
       "      <td>126.454768</td>\n",
       "    </tr>\n",
       "    <tr>\n",
       "      <th>4</th>\n",
       "      <td>2021-05-17</td>\n",
       "      <td>376.441936</td>\n",
       "      <td>233.069806</td>\n",
       "      <td>671.673265</td>\n",
       "      <td>376.301177</td>\n",
       "      <td>376.590802</td>\n",
       "      <td>66.991175</td>\n",
       "      <td>66.991175</td>\n",
       "      <td>66.991175</td>\n",
       "      <td>66.991175</td>\n",
       "      <td>66.991175</td>\n",
       "      <td>66.991175</td>\n",
       "      <td>0.0</td>\n",
       "      <td>0.0</td>\n",
       "      <td>0.0</td>\n",
       "      <td>443.433111</td>\n",
       "    </tr>\n",
       "    <tr>\n",
       "      <th>...</th>\n",
       "      <td>...</td>\n",
       "      <td>...</td>\n",
       "      <td>...</td>\n",
       "      <td>...</td>\n",
       "      <td>...</td>\n",
       "      <td>...</td>\n",
       "      <td>...</td>\n",
       "      <td>...</td>\n",
       "      <td>...</td>\n",
       "      <td>...</td>\n",
       "      <td>...</td>\n",
       "      <td>...</td>\n",
       "      <td>...</td>\n",
       "      <td>...</td>\n",
       "      <td>...</td>\n",
       "      <td>...</td>\n",
       "    </tr>\n",
       "    <tr>\n",
       "      <th>175</th>\n",
       "      <td>2021-11-04</td>\n",
       "      <td>530.574840</td>\n",
       "      <td>386.774078</td>\n",
       "      <td>829.779522</td>\n",
       "      <td>491.625673</td>\n",
       "      <td>570.714358</td>\n",
       "      <td>73.057084</td>\n",
       "      <td>73.057084</td>\n",
       "      <td>73.057084</td>\n",
       "      <td>73.057084</td>\n",
       "      <td>73.057084</td>\n",
       "      <td>73.057084</td>\n",
       "      <td>0.0</td>\n",
       "      <td>0.0</td>\n",
       "      <td>0.0</td>\n",
       "      <td>603.631924</td>\n",
       "    </tr>\n",
       "    <tr>\n",
       "      <th>176</th>\n",
       "      <td>2021-11-05</td>\n",
       "      <td>531.476202</td>\n",
       "      <td>375.174521</td>\n",
       "      <td>820.982303</td>\n",
       "      <td>492.182059</td>\n",
       "      <td>572.022902</td>\n",
       "      <td>58.281519</td>\n",
       "      <td>58.281519</td>\n",
       "      <td>58.281519</td>\n",
       "      <td>58.281519</td>\n",
       "      <td>58.281519</td>\n",
       "      <td>58.281519</td>\n",
       "      <td>0.0</td>\n",
       "      <td>0.0</td>\n",
       "      <td>0.0</td>\n",
       "      <td>589.757721</td>\n",
       "    </tr>\n",
       "    <tr>\n",
       "      <th>177</th>\n",
       "      <td>2021-11-06</td>\n",
       "      <td>532.377564</td>\n",
       "      <td>253.343783</td>\n",
       "      <td>678.470310</td>\n",
       "      <td>492.655225</td>\n",
       "      <td>573.219960</td>\n",
       "      <td>-72.006968</td>\n",
       "      <td>-72.006968</td>\n",
       "      <td>-72.006968</td>\n",
       "      <td>-72.006968</td>\n",
       "      <td>-72.006968</td>\n",
       "      <td>-72.006968</td>\n",
       "      <td>0.0</td>\n",
       "      <td>0.0</td>\n",
       "      <td>0.0</td>\n",
       "      <td>460.370596</td>\n",
       "    </tr>\n",
       "    <tr>\n",
       "      <th>178</th>\n",
       "      <td>2021-11-07</td>\n",
       "      <td>533.278926</td>\n",
       "      <td>62.414501</td>\n",
       "      <td>499.269637</td>\n",
       "      <td>493.187189</td>\n",
       "      <td>574.397331</td>\n",
       "      <td>-249.085806</td>\n",
       "      <td>-249.085806</td>\n",
       "      <td>-249.085806</td>\n",
       "      <td>-249.085806</td>\n",
       "      <td>-249.085806</td>\n",
       "      <td>-249.085806</td>\n",
       "      <td>0.0</td>\n",
       "      <td>0.0</td>\n",
       "      <td>0.0</td>\n",
       "      <td>284.193120</td>\n",
       "    </tr>\n",
       "    <tr>\n",
       "      <th>179</th>\n",
       "      <td>2021-11-08</td>\n",
       "      <td>534.180288</td>\n",
       "      <td>388.823628</td>\n",
       "      <td>823.440518</td>\n",
       "      <td>493.675986</td>\n",
       "      <td>575.658779</td>\n",
       "      <td>66.991175</td>\n",
       "      <td>66.991175</td>\n",
       "      <td>66.991175</td>\n",
       "      <td>66.991175</td>\n",
       "      <td>66.991175</td>\n",
       "      <td>66.991175</td>\n",
       "      <td>0.0</td>\n",
       "      <td>0.0</td>\n",
       "      <td>0.0</td>\n",
       "      <td>601.171463</td>\n",
       "    </tr>\n",
       "  </tbody>\n",
       "</table>\n",
       "<p>180 rows × 16 columns</p>\n",
       "</div>"
      ],
      "text/plain": [
       "            ds       trend  yhat_lower  yhat_upper  trend_lower  trend_upper  \\\n",
       "0   2021-05-13  372.836488  238.444934  666.771933   372.836488   372.836488   \n",
       "1   2021-05-14  373.737850  203.379848  644.540049   373.718694   373.758955   \n",
       "2   2021-05-15  374.639212   96.185103  516.938424   374.592065   374.693950   \n",
       "3   2021-05-16  375.540574  -93.575012  346.767275   375.450295   375.637833   \n",
       "4   2021-05-17  376.441936  233.069806  671.673265   376.301177   376.590802   \n",
       "..         ...         ...         ...         ...          ...          ...   \n",
       "175 2021-11-04  530.574840  386.774078  829.779522   491.625673   570.714358   \n",
       "176 2021-11-05  531.476202  375.174521  820.982303   492.182059   572.022902   \n",
       "177 2021-11-06  532.377564  253.343783  678.470310   492.655225   573.219960   \n",
       "178 2021-11-07  533.278926   62.414501  499.269637   493.187189   574.397331   \n",
       "179 2021-11-08  534.180288  388.823628  823.440518   493.675986   575.658779   \n",
       "\n",
       "     additive_terms  additive_terms_lower  additive_terms_upper      weekly  \\\n",
       "0         73.057084             73.057084             73.057084   73.057084   \n",
       "1         58.281519             58.281519             58.281519   58.281519   \n",
       "2        -72.006968            -72.006968            -72.006968  -72.006968   \n",
       "3       -249.085806           -249.085806           -249.085806 -249.085806   \n",
       "4         66.991175             66.991175             66.991175   66.991175   \n",
       "..              ...                   ...                   ...         ...   \n",
       "175       73.057084             73.057084             73.057084   73.057084   \n",
       "176       58.281519             58.281519             58.281519   58.281519   \n",
       "177      -72.006968            -72.006968            -72.006968  -72.006968   \n",
       "178     -249.085806           -249.085806           -249.085806 -249.085806   \n",
       "179       66.991175             66.991175             66.991175   66.991175   \n",
       "\n",
       "     weekly_lower  weekly_upper  multiplicative_terms  \\\n",
       "0       73.057084     73.057084                   0.0   \n",
       "1       58.281519     58.281519                   0.0   \n",
       "2      -72.006968    -72.006968                   0.0   \n",
       "3     -249.085806   -249.085806                   0.0   \n",
       "4       66.991175     66.991175                   0.0   \n",
       "..            ...           ...                   ...   \n",
       "175     73.057084     73.057084                   0.0   \n",
       "176     58.281519     58.281519                   0.0   \n",
       "177    -72.006968    -72.006968                   0.0   \n",
       "178   -249.085806   -249.085806                   0.0   \n",
       "179     66.991175     66.991175                   0.0   \n",
       "\n",
       "     multiplicative_terms_lower  multiplicative_terms_upper        yhat  \n",
       "0                           0.0                         0.0  445.893572  \n",
       "1                           0.0                         0.0  432.019369  \n",
       "2                           0.0                         0.0  302.632244  \n",
       "3                           0.0                         0.0  126.454768  \n",
       "4                           0.0                         0.0  443.433111  \n",
       "..                          ...                         ...         ...  \n",
       "175                         0.0                         0.0  603.631924  \n",
       "176                         0.0                         0.0  589.757721  \n",
       "177                         0.0                         0.0  460.370596  \n",
       "178                         0.0                         0.0  284.193120  \n",
       "179                         0.0                         0.0  601.171463  \n",
       "\n",
       "[180 rows x 16 columns]"
      ]
     },
     "execution_count": 41,
     "metadata": {},
     "output_type": "execute_result"
    }
   ],
   "source": [
    "valores_futuro = m.predict(future)\n",
    "\n",
    "valores_futuro"
   ]
  },
  {
   "cell_type": "code",
   "execution_count": null,
   "metadata": {},
   "outputs": [],
   "source": []
  },
  {
   "cell_type": "markdown",
   "metadata": {},
   "source": [
    "# Rodando o Algorítmo de Previsao PROPHETS para '2a_dose'"
   ]
  },
  {
   "cell_type": "code",
   "execution_count": null,
   "metadata": {},
   "outputs": [],
   "source": [
    "df2 = df.groupby('vacina_dataAplicacao').agg({'2a_dose':'sum'}).reset_index()\n",
    "\n",
    "df2['vacina_dataAplicacao'].value_counts()\n"
   ]
  },
  {
   "cell_type": "code",
   "execution_count": 42,
   "metadata": {},
   "outputs": [
    {
     "data": {
      "text/html": [
       "<div>\n",
       "<style scoped>\n",
       "    .dataframe tbody tr th:only-of-type {\n",
       "        vertical-align: middle;\n",
       "    }\n",
       "\n",
       "    .dataframe tbody tr th {\n",
       "        vertical-align: top;\n",
       "    }\n",
       "\n",
       "    .dataframe thead th {\n",
       "        text-align: right;\n",
       "    }\n",
       "</style>\n",
       "<table border=\"1\" class=\"dataframe\">\n",
       "  <thead>\n",
       "    <tr style=\"text-align: right;\">\n",
       "      <th></th>\n",
       "      <th>vacina_dataAplicacao</th>\n",
       "      <th>2a_dose</th>\n",
       "    </tr>\n",
       "  </thead>\n",
       "  <tbody>\n",
       "    <tr>\n",
       "      <th>0</th>\n",
       "      <td>2021-01-18</td>\n",
       "      <td>0</td>\n",
       "    </tr>\n",
       "    <tr>\n",
       "      <th>1</th>\n",
       "      <td>2021-01-19</td>\n",
       "      <td>0</td>\n",
       "    </tr>\n",
       "    <tr>\n",
       "      <th>2</th>\n",
       "      <td>2021-01-20</td>\n",
       "      <td>0</td>\n",
       "    </tr>\n",
       "    <tr>\n",
       "      <th>3</th>\n",
       "      <td>2021-01-21</td>\n",
       "      <td>1</td>\n",
       "    </tr>\n",
       "    <tr>\n",
       "      <th>4</th>\n",
       "      <td>2021-01-22</td>\n",
       "      <td>2</td>\n",
       "    </tr>\n",
       "  </tbody>\n",
       "</table>\n",
       "</div>"
      ],
      "text/plain": [
       "  vacina_dataAplicacao  2a_dose\n",
       "0           2021-01-18        0\n",
       "1           2021-01-19        0\n",
       "2           2021-01-20        0\n",
       "3           2021-01-21        1\n",
       "4           2021-01-22        2"
      ]
     },
     "execution_count": 42,
     "metadata": {},
     "output_type": "execute_result"
    }
   ],
   "source": [
    "df2.head()"
   ]
  },
  {
   "cell_type": "code",
   "execution_count": null,
   "metadata": {},
   "outputs": [],
   "source": [
    "# Neste ponto é NECESARIO reset no codigo para executar o PROPHETS"
   ]
  },
  {
   "cell_type": "code",
   "execution_count": null,
   "metadata": {},
   "outputs": [],
   "source": [
    "m = Prophet()\n",
    "\n",
    "m.fit(df2)\n",
    "\n",
    "future = m.make_future_dataframe(periods = 180, include_history=False)"
   ]
  },
  {
   "cell_type": "code",
   "execution_count": null,
   "metadata": {},
   "outputs": [],
   "source": []
  },
  {
   "cell_type": "code",
   "execution_count": null,
   "metadata": {},
   "outputs": [],
   "source": []
  }
 ],
 "metadata": {
  "kernelspec": {
   "display_name": "Python 3",
   "language": "python",
   "name": "python3"
  },
  "language_info": {
   "codemirror_mode": {
    "name": "ipython",
    "version": 3
   },
   "file_extension": ".py",
   "mimetype": "text/x-python",
   "name": "python",
   "nbconvert_exporter": "python",
   "pygments_lexer": "ipython3",
   "version": "3.8.5"
  }
 },
 "nbformat": 4,
 "nbformat_minor": 4
}
