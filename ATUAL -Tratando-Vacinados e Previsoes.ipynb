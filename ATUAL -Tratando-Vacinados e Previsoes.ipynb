{
 "cells": [
  {
   "cell_type": "markdown",
   "metadata": {},
   "source": [
    "# Este programa faz a preparacao dos dados para executar a previsão \n",
    "# de vacinados no Banco Dados coletado da APIs Vacina do site gov.br:\n",
    "\n",
    "## Desse Banco de Dados, foi gerado uma Amostra randomicamente,\n",
    "## definindo uma porcentage de 0.001 ==> 1 em cada 1.000"
   ]
  },
  {
   "cell_type": "code",
   "execution_count": null,
   "metadata": {},
   "outputs": [],
   "source": [
    "# DATA ; 17/5/2021"
   ]
  },
  {
   "cell_type": "code",
   "execution_count": 1,
   "metadata": {},
   "outputs": [],
   "source": [
    "import csv\n",
    "import time\n",
    "import requests \n",
    "import pandas  as pd\n",
    "import seaborn as sns\n",
    "from random   import random\n",
    "from prophet  import Prophet\n",
    "from datetime import datetime\n",
    "\n",
    "# Importar bibliotecas para construir gráficos:\n",
    "\n",
    "import seaborn as sns\n",
    "import matplotlib.pyplot as plt\n",
    "sns.set()\n",
    "\n",
    "# Bibliotecas de Algoritmos de Regressão:\n",
    "from sklearn.tree            import DecisionTreeClassifier\n",
    "from catboost                import CatBoostClassifier\n",
    "from sklearn.metrics         import accuracy_score\n",
    "from sklearn.neighbors       import KNeighborsClassifier\n",
    "from sklearn.linear_model    import LogisticRegression\n",
    "from sklearn.metrics         import confusion_matrix, classification_report\n",
    "from sklearn.model_selection import train_test_split, GridSearchCV\n",
    "from sklearn.preprocessing   import StandardScaler\n",
    "from sklearn.ensemble        import RandomForestRegressor, ExtraTreesRegressor\n",
    "\n",
    "sns.set()\n",
    "\n",
    "# Biblioteca do Prophet para Algoritmo de Previsão:\n",
    "\n",
    "from prophet import Prophet\n",
    "\n",
    "\n",
    "df = pd.read_csv(\"BD_Amostra-Alguns-12-05-2021.csv\", sep=\";\")\n",
    "usecols   = ['vacina_fabricante_nome',\n",
    "             'paciente_idade',\n",
    "             'paciente_id',\n",
    "             'vacina_dataAplicacao',\n",
    "             'paciente_endereco_uf',\n",
    "             'vacina_descricao_dose']\n",
    "\n",
    "# Leitura do mesmo Banco Dados da Amostra no dia 12/05/2021:\n",
    "\n"
   ]
  },
  {
   "cell_type": "markdown",
   "metadata": {},
   "source": [
    "# Trabalhando com arquivo de Amostra, usarei algumas colunas\n",
    "# relevantes para tratar com a Previsao Vacinados.\n",
    "\n",
    "## Leitura BD_Amostra do dia 12/05/2021:\n",
    "## DataFrame conterá as colunas dos vacinados 1.Dose e 2. Dose"
   ]
  },
  {
   "cell_type": "code",
   "execution_count": 5,
   "metadata": {},
   "outputs": [],
   "source": [
    "# Preparando o campo \"vacina_dataAplicacao com Data anterior:\n",
    "# para o datetime: formato = \"%Y/%m/%d\"\n"
   ]
  },
  {
   "cell_type": "code",
   "execution_count": 2,
   "metadata": {},
   "outputs": [],
   "source": [
    "df['vacina_dataAplicacao'] = pd.to_datetime(df['vacina_dataAplicacao'], \n",
    "format = \"%Y-%m-%dT%H:%M:%S\") "
   ]
  },
  {
   "cell_type": "code",
   "execution_count": null,
   "metadata": {},
   "outputs": [],
   "source": [
    "# Tratando o campo \"vacina_descricao_dose\"  \n",
    "# para aplicação da Vacina se:\n",
    "# Primeira Dose e se após um tempo \n",
    "# tomou a Segunda Dose:"
   ]
  },
  {
   "cell_type": "code",
   "execution_count": 3,
   "metadata": {},
   "outputs": [
    {
     "data": {
      "text/plain": [
       "array(['\\xa0\\xa0\\xa0\\xa01ª\\xa0Dose', '\\xa0\\xa0\\xa0\\xa02ª\\xa0Dose',\n",
       "       '1ª Dose', '2ª Dose', 'Única'], dtype=object)"
      ]
     },
     "execution_count": 3,
     "metadata": {},
     "output_type": "execute_result"
    }
   ],
   "source": [
    "df[\"vacina_descricao_dose\"].unique()\n"
   ]
  },
  {
   "cell_type": "code",
   "execution_count": 65,
   "metadata": {},
   "outputs": [],
   "source": [
    "# Note que no campo contém a seguinte descrição:\n",
    "\n",
    "# array(['\\xa0\\xa0\\xa0\\xa01ª\\xa0Dose', \n",
    "#        '\\xa0\\xa0\\xa0\\xa02ª\\xa0Dose']\n",
    "#        '1ª Dose', '2ª Dose', 'Única'\n",
    "\n"
   ]
  },
  {
   "cell_type": "code",
   "execution_count": 4,
   "metadata": {},
   "outputs": [
    {
     "data": {
      "text/plain": [
       "0       2021-02-06 00:00:00+00:00\n",
       "1       2021-03-06 00:00:00+00:00\n",
       "2       2021-04-13 00:00:00+00:00\n",
       "3       2021-03-30 00:00:00+00:00\n",
       "4       2021-03-17 00:00:00+00:00\n",
       "                   ...           \n",
       "50934   2021-05-12 00:00:00+00:00\n",
       "50935   2021-05-11 00:00:00+00:00\n",
       "50936   2021-05-03 00:00:00+00:00\n",
       "50937   2021-04-01 00:00:00+00:00\n",
       "50938   2021-05-11 00:00:00+00:00\n",
       "Name: vacina_dataAplicacao, Length: 50939, dtype: datetime64[ns, UTC]"
      ]
     },
     "execution_count": 4,
     "metadata": {},
     "output_type": "execute_result"
    }
   ],
   "source": [
    "df['vacina_dataAplicacao']"
   ]
  },
  {
   "cell_type": "code",
   "execution_count": 5,
   "metadata": {},
   "outputs": [],
   "source": [
    "# Fazendo uma limpeza do campo \"vacina_descricao_dose\" \n",
    "# nos dois DataFrames:\n",
    "\n",
    "# 1) Transformando todos as linhas como Minuúsculas\n",
    "# 2) Quando aparecer Null (NaN) substitui-se por \"-\"\n",
    "# 3) Tratando todos os caracteres ASCII \n",
    "\n",
    "df[\"vacina_descricao_dose\"] = (df[\"vacina_descricao_dose\"]\n",
    "                                 .str.lower()\n",
    "                                 .str.normalize(\"NFKD\")\n",
    "                                 .str.lstrip()\n",
    "                                 .str.replace(\" \",\"_\")\n",
    "                                 .str.encode(\"ascii\", errors=\"ignore\")\n",
    "                                 .str.decode(\"utf-8\"))"
   ]
  },
  {
   "cell_type": "markdown",
   "metadata": {},
   "source": [
    "# Mineirando os Dados:\n",
    "\n",
    "# Vou tratar o campo 'vacina_descricao_dose':\n",
    "\n",
    "## Teremos 3 situações para contabilizar o número de vacinas tomadas:\n",
    "##  (1) A Primeira Dose ==> 1a_dose\n",
    "##  (2) A Segunda Dose  ==> Totalmente vacinados com a  2a_dose\n",
    "##  (3) Ser Dose Unica!!"
   ]
  },
  {
   "cell_type": "code",
   "execution_count": 6,
   "metadata": {},
   "outputs": [
    {
     "data": {
      "text/plain": [
       "<bound method IndexOpsMixin.value_counts of 0        1a_dose\n",
       "1        2a_dose\n",
       "2        1a_dose\n",
       "3        1a_dose\n",
       "4        2a_dose\n",
       "          ...   \n",
       "50934    1a_dose\n",
       "50935    2a_dose\n",
       "50936    2a_dose\n",
       "50937    1a_dose\n",
       "50938    1a_dose\n",
       "Name: vacina_descricao_dose, Length: 50939, dtype: object>"
      ]
     },
     "execution_count": 6,
     "metadata": {},
     "output_type": "execute_result"
    }
   ],
   "source": [
    "df[\"vacina_descricao_dose\"].value_counts\n",
    "\n"
   ]
  },
  {
   "cell_type": "markdown",
   "metadata": {},
   "source": [
    "# Usando Get_Dummies para descrever as \n"
   ]
  },
  {
   "cell_type": "code",
   "execution_count": 7,
   "metadata": {},
   "outputs": [],
   "source": [
    "\n",
    "dummies = df[\"vacina_descricao_dose\"].str.get_dummies(\"\\n\")\n"
   ]
  },
  {
   "cell_type": "code",
   "execution_count": 8,
   "metadata": {},
   "outputs": [],
   "source": [
    "# Concatenar com o DataFrame e a coluna já tratada como 1. Dose :\n",
    "\n",
    "df = pd.concat([df, dummies], axis = 1)"
   ]
  },
  {
   "cell_type": "code",
   "execution_count": 13,
   "metadata": {},
   "outputs": [
    {
     "data": {
      "text/html": [
       "<div>\n",
       "<style scoped>\n",
       "    .dataframe tbody tr th:only-of-type {\n",
       "        vertical-align: middle;\n",
       "    }\n",
       "\n",
       "    .dataframe tbody tr th {\n",
       "        vertical-align: top;\n",
       "    }\n",
       "\n",
       "    .dataframe thead th {\n",
       "        text-align: right;\n",
       "    }\n",
       "</style>\n",
       "<table border=\"1\" class=\"dataframe\">\n",
       "  <thead>\n",
       "    <tr style=\"text-align: right;\">\n",
       "      <th></th>\n",
       "      <th>1ª Dose</th>\n",
       "      <th>2ª Dose</th>\n",
       "      <th>1ª Dose</th>\n",
       "      <th>2ª Dose</th>\n",
       "      <th>Única</th>\n",
       "    </tr>\n",
       "  </thead>\n",
       "  <tbody>\n",
       "    <tr>\n",
       "      <th>0</th>\n",
       "      <td>0</td>\n",
       "      <td>0</td>\n",
       "      <td>1</td>\n",
       "      <td>0</td>\n",
       "      <td>0</td>\n",
       "    </tr>\n",
       "    <tr>\n",
       "      <th>1</th>\n",
       "      <td>0</td>\n",
       "      <td>0</td>\n",
       "      <td>0</td>\n",
       "      <td>1</td>\n",
       "      <td>0</td>\n",
       "    </tr>\n",
       "    <tr>\n",
       "      <th>2</th>\n",
       "      <td>0</td>\n",
       "      <td>0</td>\n",
       "      <td>1</td>\n",
       "      <td>0</td>\n",
       "      <td>0</td>\n",
       "    </tr>\n",
       "    <tr>\n",
       "      <th>3</th>\n",
       "      <td>0</td>\n",
       "      <td>0</td>\n",
       "      <td>1</td>\n",
       "      <td>0</td>\n",
       "      <td>0</td>\n",
       "    </tr>\n",
       "    <tr>\n",
       "      <th>4</th>\n",
       "      <td>0</td>\n",
       "      <td>0</td>\n",
       "      <td>0</td>\n",
       "      <td>1</td>\n",
       "      <td>0</td>\n",
       "    </tr>\n",
       "    <tr>\n",
       "      <th>...</th>\n",
       "      <td>...</td>\n",
       "      <td>...</td>\n",
       "      <td>...</td>\n",
       "      <td>...</td>\n",
       "      <td>...</td>\n",
       "    </tr>\n",
       "    <tr>\n",
       "      <th>50934</th>\n",
       "      <td>1</td>\n",
       "      <td>0</td>\n",
       "      <td>0</td>\n",
       "      <td>0</td>\n",
       "      <td>0</td>\n",
       "    </tr>\n",
       "    <tr>\n",
       "      <th>50935</th>\n",
       "      <td>0</td>\n",
       "      <td>1</td>\n",
       "      <td>0</td>\n",
       "      <td>0</td>\n",
       "      <td>0</td>\n",
       "    </tr>\n",
       "    <tr>\n",
       "      <th>50936</th>\n",
       "      <td>0</td>\n",
       "      <td>1</td>\n",
       "      <td>0</td>\n",
       "      <td>0</td>\n",
       "      <td>0</td>\n",
       "    </tr>\n",
       "    <tr>\n",
       "      <th>50937</th>\n",
       "      <td>1</td>\n",
       "      <td>0</td>\n",
       "      <td>0</td>\n",
       "      <td>0</td>\n",
       "      <td>0</td>\n",
       "    </tr>\n",
       "    <tr>\n",
       "      <th>50938</th>\n",
       "      <td>1</td>\n",
       "      <td>0</td>\n",
       "      <td>0</td>\n",
       "      <td>0</td>\n",
       "      <td>0</td>\n",
       "    </tr>\n",
       "  </tbody>\n",
       "</table>\n",
       "<p>50939 rows × 5 columns</p>\n",
       "</div>"
      ],
      "text/plain": [
       "       1ª Dose  2ª Dose      1ª Dose      2ª Dose  Única\n",
       "0            0        0            1            0      0\n",
       "1            0        0            0            1      0\n",
       "2            0        0            1            0      0\n",
       "3            0        0            1            0      0\n",
       "4            0        0            0            1      0\n",
       "...        ...      ...          ...          ...    ...\n",
       "50934        1        0            0            0      0\n",
       "50935        0        1            0            0      0\n",
       "50936        0        1            0            0      0\n",
       "50937        1        0            0            0      0\n",
       "50938        1        0            0            0      0\n",
       "\n",
       "[50939 rows x 5 columns]"
      ]
     },
     "execution_count": 13,
     "metadata": {},
     "output_type": "execute_result"
    }
   ],
   "source": [
    "dummies"
   ]
  },
  {
   "cell_type": "code",
   "execution_count": 9,
   "metadata": {},
   "outputs": [
    {
     "name": "stdout",
     "output_type": "stream",
     "text": [
      "Vacinados com 1. dose =  <bound method DataFrame.sum of       vacina_fabricante_nome  paciente_idade  \\\n",
      "0          FUNDACAO BUTANTAN              42   \n",
      "2      FUNDACAO OSWALDO CRUZ              61   \n",
      "3      FUNDACAO OSWALDO CRUZ              65   \n",
      "5      FUNDACAO OSWALDO CRUZ              71   \n",
      "9          FUNDACAO BUTANTAN              46   \n",
      "...                      ...             ...   \n",
      "50931      FUNDACAO BUTANTAN              61   \n",
      "50932  FUNDACAO OSWALDO CRUZ              80   \n",
      "50934  FUNDACAO OSWALDO CRUZ              47   \n",
      "50937      FUNDACAO BUTANTAN              56   \n",
      "50938  FUNDACAO OSWALDO CRUZ              50   \n",
      "\n",
      "                                             paciente_id  \\\n",
      "0      9f1f5fceb5e933b97afd0e8bdc6006b8fb9179a3cbc48e...   \n",
      "2      07a6e404e1acdfcf609b92e52ac0728720ad424e57e32f...   \n",
      "3      ea41ef99d308167dbf1f092c7f47934a829bb48dc13640...   \n",
      "5      52e9b8f8eb322248b3ad53897f23de26b91e30fe4c52fc...   \n",
      "9      700f854c607fa3ed92b099e2ed566d61fbca76dda52d8b...   \n",
      "...                                                  ...   \n",
      "50931  088dfd57a404b95814d0caf3881eb91d6df6364de45cd9...   \n",
      "50932  369022490457bdfd40d0e5b03dccca229ae452aee3a874...   \n",
      "50934  fc61fad936eaf230eed16017574660327befbfc3726efe...   \n",
      "50937  b34f6d52ff40d740e7acf17cad3d62c876cd4bca06f521...   \n",
      "50938  8d83f29ddda46f39777f224e3aeeddfb2e7268519c92e3...   \n",
      "\n",
      "           vacina_dataAplicacao paciente_endereco_uf vacina_descricao_dose  \\\n",
      "0     2021-02-06 00:00:00+00:00                   SE               1a_dose   \n",
      "2     2021-04-13 00:00:00+00:00                   SE               1a_dose   \n",
      "3     2021-03-30 00:00:00+00:00                   BA               1a_dose   \n",
      "5     2021-03-30 00:00:00+00:00                   SE               1a_dose   \n",
      "9     2021-01-25 00:00:00+00:00                   SE               1a_dose   \n",
      "...                         ...                  ...                   ...   \n",
      "50931 2021-04-11 00:00:00+00:00                   RJ               1a_dose   \n",
      "50932 2021-05-04 00:00:00+00:00                   PE               1a_dose   \n",
      "50934 2021-05-12 00:00:00+00:00                   BA               1a_dose   \n",
      "50937 2021-04-01 00:00:00+00:00                   PE               1a_dose   \n",
      "50938 2021-05-11 00:00:00+00:00                   ES               1a_dose   \n",
      "\n",
      "       1a_dose  2a_dose  unica  \n",
      "0            1        0      0  \n",
      "2            1        0      0  \n",
      "3            1        0      0  \n",
      "5            1        0      0  \n",
      "9            1        0      0  \n",
      "...        ...      ...    ...  \n",
      "50931        1        0      0  \n",
      "50932        1        0      0  \n",
      "50934        1        0      0  \n",
      "50937        1        0      0  \n",
      "50938        1        0      0  \n",
      "\n",
      "[34874 rows x 9 columns]>\n"
     ]
    }
   ],
   "source": [
    "Vacinados_uma_dose = df.loc[df['1a_dose'] == 1].sum\n",
    "print('Vacinados com 1. dose = ', Vacinados_uma_dose)"
   ]
  },
  {
   "cell_type": "code",
   "execution_count": 9,
   "metadata": {},
   "outputs": [
    {
     "name": "stdout",
     "output_type": "stream",
     "text": [
      "Vacinados com 2. dose =  <bound method DataFrame.sum of       vacina_fabricante_nome  paciente_idade  \\\n",
      "1          FUNDACAO BUTANTAN              29   \n",
      "4          FUNDACAO BUTANTAN              80   \n",
      "6           SINOVAC/BUTANTAN              78   \n",
      "7          FUNDACAO BUTANTAN              87   \n",
      "8          FUNDACAO BUTANTAN              74   \n",
      "...                      ...             ...   \n",
      "50927      FUNDACAO BUTANTAN              60   \n",
      "50930      FUNDACAO BUTANTAN              77   \n",
      "50933      FUNDACAO BUTANTAN              66   \n",
      "50935      FUNDACAO BUTANTAN              65   \n",
      "50936  FUNDACAO OSWALDO CRUZ              83   \n",
      "\n",
      "                                             paciente_id  \\\n",
      "1      b90fc3d4ba1281a36cae1327bdd74344d68c51bb5e8d39...   \n",
      "4      a4ba488f645733d3800d8e4106eb651c4126a3128ff8b1...   \n",
      "6      3d3a3fa1094ed7139082388b1852c77bae5543951d5831...   \n",
      "7      c03690499834c6e4d7a3d09f61aea1e9f719d8b579fea4...   \n",
      "8      0d39944b5c4e8813b656a0a190b28b246751dbd663bc68...   \n",
      "...                                                  ...   \n",
      "50927  664378ead136c8ca11292763a6439b37e61d94bd1f3ec0...   \n",
      "50930  05e873a545d983e012ae9b2a22e0e9348a6d940ffc8e60...   \n",
      "50933  d8d17a95e0efd5bb80744c922407af10392af2fe45b1f5...   \n",
      "50935  f92fe278a582b188cb7eaec03fc052b0286ef9d0882120...   \n",
      "50936  055b5266b05f085374b84f26df98a31b469685a21fa1fe...   \n",
      "\n",
      "           vacina_dataAplicacao paciente_endereco_uf vacina_descricao_dose  \\\n",
      "1     2021-03-06 00:00:00+00:00                   SE               2a_dose   \n",
      "4     2021-03-17 00:00:00+00:00                   PB               2a_dose   \n",
      "6     2021-04-07 00:00:00+00:00                   PR               2a_dose   \n",
      "7     2021-03-12 00:00:00+00:00                   PR               2a_dose   \n",
      "8     2021-04-16 00:00:00+00:00                   SE               2a_dose   \n",
      "...                         ...                  ...                   ...   \n",
      "50927 2021-04-26 00:00:00+00:00                   MA               2a_dose   \n",
      "50930 2021-04-09 00:00:00+00:00                   PE               2a_dose   \n",
      "50933 2021-04-26 00:00:00+00:00                   AC               2a_dose   \n",
      "50935 2021-05-11 00:00:00+00:00                   MA               2a_dose   \n",
      "50936 2021-05-03 00:00:00+00:00                   PA               2a_dose   \n",
      "\n",
      "       1a_dose  2a_dose  unica  \n",
      "1            0        1      0  \n",
      "4            0        1      0  \n",
      "6            0        1      0  \n",
      "7            0        1      0  \n",
      "8            0        1      0  \n",
      "...        ...      ...    ...  \n",
      "50927        0        1      0  \n",
      "50930        0        1      0  \n",
      "50933        0        1      0  \n",
      "50935        0        1      0  \n",
      "50936        0        1      0  \n",
      "\n",
      "[16064 rows x 9 columns]>\n"
     ]
    }
   ],
   "source": [
    "Vacinados_duas_doses = df.loc[df['2a_dose'] == 1].sum\n",
    "print('Vacinados com 2. dose = ', Vacinados_duas_doses)"
   ]
  },
  {
   "cell_type": "code",
   "execution_count": 10,
   "metadata": {},
   "outputs": [
    {
     "name": "stdout",
     "output_type": "stream",
     "text": [
      "Vacinados com dose unica =  <bound method DataFrame.sum of       vacina_fabricante_nome  paciente_idade  \\\n",
      "45799               BUTANTAN              44   \n",
      "\n",
      "                                             paciente_id  \\\n",
      "45799  52a1678b71a158530d98bcdf3fae86fbb88f8f2aac2713...   \n",
      "\n",
      "           vacina_dataAplicacao paciente_endereco_uf vacina_descricao_dose  \\\n",
      "45799 2021-05-11 00:00:00+00:00                   PR                 unica   \n",
      "\n",
      "       1a_dose  2a_dose  unica  \n",
      "45799        0        0      1  >\n"
     ]
    }
   ],
   "source": [
    "Vacinados_dose_unica = df.loc[df['unica'] == 1].sum\n",
    "print('Vacinados com dose unica = ', Vacinados_dose_unica)"
   ]
  },
  {
   "cell_type": "code",
   "execution_count": 11,
   "metadata": {},
   "outputs": [
    {
     "name": "stdout",
     "output_type": "stream",
     "text": [
      "<class 'pandas.core.frame.DataFrame'>\n",
      "RangeIndex: 50939 entries, 0 to 50938\n",
      "Data columns (total 9 columns):\n",
      " #   Column                  Non-Null Count  Dtype              \n",
      "---  ------                  --------------  -----              \n",
      " 0   vacina_fabricante_nome  49632 non-null  object             \n",
      " 1   paciente_idade          50939 non-null  int64              \n",
      " 2   paciente_id             50939 non-null  object             \n",
      " 3   vacina_dataAplicacao    50939 non-null  datetime64[ns, UTC]\n",
      " 4   paciente_endereco_uf    50670 non-null  object             \n",
      " 5   vacina_descricao_dose   50939 non-null  object             \n",
      " 6   1a_dose                 50939 non-null  int64              \n",
      " 7   2a_dose                 50939 non-null  int64              \n",
      " 8   unica                   50939 non-null  int64              \n",
      "dtypes: datetime64[ns, UTC](1), int64(4), object(4)\n",
      "memory usage: 3.5+ MB\n"
     ]
    }
   ],
   "source": [
    "df.info()\n"
   ]
  },
  {
   "cell_type": "code",
   "execution_count": 12,
   "metadata": {},
   "outputs": [
    {
     "data": {
      "text/plain": [
       "<AxesSubplot:xlabel='count', ylabel='vacina_descricao_dose'>"
      ]
     },
     "execution_count": 12,
     "metadata": {},
     "output_type": "execute_result"
    },
    {
     "data": {
      "image/png": "[encoded data removed]",
      "text/plain": [
       "<Figure size 720x432 with 1 Axes>"
      ]
     },
     "metadata": {},
     "output_type": "display_data"
    }
   ],
   "source": [
    "plt.figure(figsize = (10,6))\n",
    "sns.countplot(data = df, y = \"vacina_descricao_dose\")"
   ]
  },
  {
   "cell_type": "code",
   "execution_count": 13,
   "metadata": {},
   "outputs": [
    {
     "data": {
      "text/plain": [
       "array([[<AxesSubplot:title={'center':'1a_dose'}>,\n",
       "        <AxesSubplot:title={'center':'2a_dose'}>],\n",
       "       [<AxesSubplot:title={'center':'unica'}>, <AxesSubplot:>]],\n",
       "      dtype=object)"
      ]
     },
     "execution_count": 13,
     "metadata": {},
     "output_type": "execute_result"
    },
    {
     "data": {
      "image/png": "[encoded data removed]",
      "text/plain": [
       "<Figure size 432x288 with 4 Axes>"
      ]
     },
     "metadata": {},
     "output_type": "display_data"
    }
   ],
   "source": [
    "dummies.hist(bins=5)"
   ]
  },
  {
   "cell_type": "code",
   "execution_count": 14,
   "metadata": {},
   "outputs": [],
   "source": [
    "# Limpando os campos das Doses, retirando os nulos NaN\n",
    "\n",
    "df['1a_dose'].fillna(0, inplace = True)\n",
    "\n",
    "df['2a_dose'].fillna(0, inplace = True)"
   ]
  },
  {
   "cell_type": "code",
   "execution_count": 16,
   "metadata": {},
   "outputs": [
    {
     "data": {
      "text/plain": [
       "0       2021-02-06 00:00:00+00:00\n",
       "1       2021-03-06 00:00:00+00:00\n",
       "2       2021-04-13 00:00:00+00:00\n",
       "3       2021-03-30 00:00:00+00:00\n",
       "4       2021-03-17 00:00:00+00:00\n",
       "                   ...           \n",
       "50934   2021-05-12 00:00:00+00:00\n",
       "50935   2021-05-11 00:00:00+00:00\n",
       "50936   2021-05-03 00:00:00+00:00\n",
       "50937   2021-04-01 00:00:00+00:00\n",
       "50938   2021-05-11 00:00:00+00:00\n",
       "Name: vacina_dataAplicacao, Length: 50939, dtype: datetime64[ns, UTC]"
      ]
     },
     "execution_count": 16,
     "metadata": {},
     "output_type": "execute_result"
    }
   ],
   "source": [
    "df['vacina_dataAplicacao']"
   ]
  },
  {
   "cell_type": "code",
   "execution_count": 33,
   "metadata": {},
   "outputs": [],
   "source": [
    "df1 = df[['vacina_dataAplicacao', '1a_dose']]"
   ]
  },
  {
   "cell_type": "code",
   "execution_count": 34,
   "metadata": {},
   "outputs": [
    {
     "data": {
      "text/html": [
       "<div>\n",
       "<style scoped>\n",
       "    .dataframe tbody tr th:only-of-type {\n",
       "        vertical-align: middle;\n",
       "    }\n",
       "\n",
       "    .dataframe tbody tr th {\n",
       "        vertical-align: top;\n",
       "    }\n",
       "\n",
       "    .dataframe thead th {\n",
       "        text-align: right;\n",
       "    }\n",
       "</style>\n",
       "<table border=\"1\" class=\"dataframe\">\n",
       "  <thead>\n",
       "    <tr style=\"text-align: right;\">\n",
       "      <th></th>\n",
       "      <th>vacina_dataAplicacao</th>\n",
       "      <th>1a_dose</th>\n",
       "    </tr>\n",
       "  </thead>\n",
       "  <tbody>\n",
       "    <tr>\n",
       "      <th>0</th>\n",
       "      <td>2021-02-06 00:00:00+00:00</td>\n",
       "      <td>1</td>\n",
       "    </tr>\n",
       "    <tr>\n",
       "      <th>1</th>\n",
       "      <td>2021-03-06 00:00:00+00:00</td>\n",
       "      <td>0</td>\n",
       "    </tr>\n",
       "    <tr>\n",
       "      <th>2</th>\n",
       "      <td>2021-04-13 00:00:00+00:00</td>\n",
       "      <td>1</td>\n",
       "    </tr>\n",
       "    <tr>\n",
       "      <th>3</th>\n",
       "      <td>2021-03-30 00:00:00+00:00</td>\n",
       "      <td>1</td>\n",
       "    </tr>\n",
       "    <tr>\n",
       "      <th>4</th>\n",
       "      <td>2021-03-17 00:00:00+00:00</td>\n",
       "      <td>0</td>\n",
       "    </tr>\n",
       "    <tr>\n",
       "      <th>...</th>\n",
       "      <td>...</td>\n",
       "      <td>...</td>\n",
       "    </tr>\n",
       "    <tr>\n",
       "      <th>50934</th>\n",
       "      <td>2021-05-12 00:00:00+00:00</td>\n",
       "      <td>1</td>\n",
       "    </tr>\n",
       "    <tr>\n",
       "      <th>50935</th>\n",
       "      <td>2021-05-11 00:00:00+00:00</td>\n",
       "      <td>0</td>\n",
       "    </tr>\n",
       "    <tr>\n",
       "      <th>50936</th>\n",
       "      <td>2021-05-03 00:00:00+00:00</td>\n",
       "      <td>0</td>\n",
       "    </tr>\n",
       "    <tr>\n",
       "      <th>50937</th>\n",
       "      <td>2021-04-01 00:00:00+00:00</td>\n",
       "      <td>1</td>\n",
       "    </tr>\n",
       "    <tr>\n",
       "      <th>50938</th>\n",
       "      <td>2021-05-11 00:00:00+00:00</td>\n",
       "      <td>1</td>\n",
       "    </tr>\n",
       "  </tbody>\n",
       "</table>\n",
       "<p>50939 rows × 2 columns</p>\n",
       "</div>"
      ],
      "text/plain": [
       "           vacina_dataAplicacao  1a_dose\n",
       "0     2021-02-06 00:00:00+00:00        1\n",
       "1     2021-03-06 00:00:00+00:00        0\n",
       "2     2021-04-13 00:00:00+00:00        1\n",
       "3     2021-03-30 00:00:00+00:00        1\n",
       "4     2021-03-17 00:00:00+00:00        0\n",
       "...                         ...      ...\n",
       "50934 2021-05-12 00:00:00+00:00        1\n",
       "50935 2021-05-11 00:00:00+00:00        0\n",
       "50936 2021-05-03 00:00:00+00:00        0\n",
       "50937 2021-04-01 00:00:00+00:00        1\n",
       "50938 2021-05-11 00:00:00+00:00        1\n",
       "\n",
       "[50939 rows x 2 columns]"
      ]
     },
     "execution_count": 34,
     "metadata": {},
     "output_type": "execute_result"
    }
   ],
   "source": [
    "df1"
   ]
  },
  {
   "cell_type": "code",
   "execution_count": 48,
   "metadata": {},
   "outputs": [],
   "source": [
    "df1.columns = ['ds', 'y']"
   ]
  },
  {
   "cell_type": "code",
   "execution_count": 57,
   "metadata": {},
   "outputs": [
    {
     "ename": "NameError",
     "evalue": "name 'vacinados_uma_dose' is not defined",
     "output_type": "error",
     "traceback": [
      "\u001b[0;31m---------------------------------------------------------------------------\u001b[0m",
      "\u001b[0;31mNameError\u001b[0m                                 Traceback (most recent call last)",
      "\u001b[0;32m<ipython-input-57-02e95b75702a>\u001b[0m in \u001b[0;36m<module>\u001b[0;34m\u001b[0m\n\u001b[0;32m----> 1\u001b[0;31m \u001b[0mprint\u001b[0m\u001b[0;34m(\u001b[0m\u001b[0mvacinados_uma_dose\u001b[0m\u001b[0;34m)\u001b[0m\u001b[0;34m\u001b[0m\u001b[0;34m\u001b[0m\u001b[0m\n\u001b[0m",
      "\u001b[0;31mNameError\u001b[0m: name 'vacinados_uma_dose' is not defined"
     ]
    }
   ],
   "source": []
  },
  {
   "cell_type": "code",
   "execution_count": 55,
   "metadata": {},
   "outputs": [
    {
     "data": {
      "text/html": [
       "<div>\n",
       "<style scoped>\n",
       "    .dataframe tbody tr th:only-of-type {\n",
       "        vertical-align: middle;\n",
       "    }\n",
       "\n",
       "    .dataframe tbody tr th {\n",
       "        vertical-align: top;\n",
       "    }\n",
       "\n",
       "    .dataframe thead th {\n",
       "        text-align: right;\n",
       "    }\n",
       "</style>\n",
       "<table border=\"1\" class=\"dataframe\">\n",
       "  <thead>\n",
       "    <tr style=\"text-align: right;\">\n",
       "      <th></th>\n",
       "      <th>vacina_fabricante_nome</th>\n",
       "      <th>paciente_idade</th>\n",
       "      <th>paciente_id</th>\n",
       "      <th>vacina_dataAplicacao</th>\n",
       "      <th>paciente_endereco_uf</th>\n",
       "      <th>vacina_descricao_dose</th>\n",
       "      <th>1a_dose</th>\n",
       "      <th>2a_dose</th>\n",
       "      <th>unica</th>\n",
       "    </tr>\n",
       "  </thead>\n",
       "  <tbody>\n",
       "    <tr>\n",
       "      <th>0</th>\n",
       "      <td>FUNDACAO BUTANTAN</td>\n",
       "      <td>42</td>\n",
       "      <td>9f1f5fceb5e933b97afd0e8bdc6006b8fb9179a3cbc48e...</td>\n",
       "      <td>2021-02-06 00:00:00+00:00</td>\n",
       "      <td>SE</td>\n",
       "      <td>1a_dose</td>\n",
       "      <td>1</td>\n",
       "      <td>0</td>\n",
       "      <td>0</td>\n",
       "    </tr>\n",
       "    <tr>\n",
       "      <th>1</th>\n",
       "      <td>FUNDACAO BUTANTAN</td>\n",
       "      <td>29</td>\n",
       "      <td>b90fc3d4ba1281a36cae1327bdd74344d68c51bb5e8d39...</td>\n",
       "      <td>2021-03-06 00:00:00+00:00</td>\n",
       "      <td>SE</td>\n",
       "      <td>2a_dose</td>\n",
       "      <td>0</td>\n",
       "      <td>1</td>\n",
       "      <td>0</td>\n",
       "    </tr>\n",
       "    <tr>\n",
       "      <th>2</th>\n",
       "      <td>FUNDACAO OSWALDO CRUZ</td>\n",
       "      <td>61</td>\n",
       "      <td>07a6e404e1acdfcf609b92e52ac0728720ad424e57e32f...</td>\n",
       "      <td>2021-04-13 00:00:00+00:00</td>\n",
       "      <td>SE</td>\n",
       "      <td>1a_dose</td>\n",
       "      <td>1</td>\n",
       "      <td>0</td>\n",
       "      <td>0</td>\n",
       "    </tr>\n",
       "    <tr>\n",
       "      <th>3</th>\n",
       "      <td>FUNDACAO OSWALDO CRUZ</td>\n",
       "      <td>65</td>\n",
       "      <td>ea41ef99d308167dbf1f092c7f47934a829bb48dc13640...</td>\n",
       "      <td>2021-03-30 00:00:00+00:00</td>\n",
       "      <td>BA</td>\n",
       "      <td>1a_dose</td>\n",
       "      <td>1</td>\n",
       "      <td>0</td>\n",
       "      <td>0</td>\n",
       "    </tr>\n",
       "    <tr>\n",
       "      <th>4</th>\n",
       "      <td>FUNDACAO BUTANTAN</td>\n",
       "      <td>80</td>\n",
       "      <td>a4ba488f645733d3800d8e4106eb651c4126a3128ff8b1...</td>\n",
       "      <td>2021-03-17 00:00:00+00:00</td>\n",
       "      <td>PB</td>\n",
       "      <td>2a_dose</td>\n",
       "      <td>0</td>\n",
       "      <td>1</td>\n",
       "      <td>0</td>\n",
       "    </tr>\n",
       "    <tr>\n",
       "      <th>...</th>\n",
       "      <td>...</td>\n",
       "      <td>...</td>\n",
       "      <td>...</td>\n",
       "      <td>...</td>\n",
       "      <td>...</td>\n",
       "      <td>...</td>\n",
       "      <td>...</td>\n",
       "      <td>...</td>\n",
       "      <td>...</td>\n",
       "    </tr>\n",
       "    <tr>\n",
       "      <th>42608</th>\n",
       "      <td>FUNDACAO BUTANTAN</td>\n",
       "      <td>25</td>\n",
       "      <td>a4739d1e7e02526364debc812de42b1e8d0b9f6c065c3b...</td>\n",
       "      <td>2021-02-02 00:00:00+00:00</td>\n",
       "      <td>MG</td>\n",
       "      <td>2a_dose</td>\n",
       "      <td>0</td>\n",
       "      <td>1</td>\n",
       "      <td>0</td>\n",
       "    </tr>\n",
       "    <tr>\n",
       "      <th>43490</th>\n",
       "      <td>FUNDACAO BUTANTAN</td>\n",
       "      <td>25</td>\n",
       "      <td>d777e5d2311116a4ae2d48e88d3f59b3b8fcd9738cdd78...</td>\n",
       "      <td>2021-02-02 00:00:00+00:00</td>\n",
       "      <td>MS</td>\n",
       "      <td>2a_dose</td>\n",
       "      <td>0</td>\n",
       "      <td>1</td>\n",
       "      <td>0</td>\n",
       "    </tr>\n",
       "    <tr>\n",
       "      <th>44533</th>\n",
       "      <td>BUTANTAN - FUNDACAO BUTANTAN</td>\n",
       "      <td>29</td>\n",
       "      <td>6726211e4904bf0fe0f9fd91e1c7f7f10e46ba1525b451...</td>\n",
       "      <td>2021-02-21 00:00:00+00:00</td>\n",
       "      <td>CE</td>\n",
       "      <td>1a_dose</td>\n",
       "      <td>1</td>\n",
       "      <td>0</td>\n",
       "      <td>0</td>\n",
       "    </tr>\n",
       "    <tr>\n",
       "      <th>45049</th>\n",
       "      <td>FUNDACAO BUTANTAN</td>\n",
       "      <td>39</td>\n",
       "      <td>866fe288d91973addeb685dec75241552f2f85b07adcce...</td>\n",
       "      <td>2021-01-29 00:00:00+00:00</td>\n",
       "      <td>PB</td>\n",
       "      <td>2a_dose</td>\n",
       "      <td>0</td>\n",
       "      <td>1</td>\n",
       "      <td>0</td>\n",
       "    </tr>\n",
       "    <tr>\n",
       "      <th>45695</th>\n",
       "      <td>FUNDACAO BUTANTAN</td>\n",
       "      <td>67</td>\n",
       "      <td>1d9688764e3bef6f7ef4cd819eded24bda12ceb497e833...</td>\n",
       "      <td>2021-01-26 00:00:00+00:00</td>\n",
       "      <td>GO</td>\n",
       "      <td>2a_dose</td>\n",
       "      <td>0</td>\n",
       "      <td>1</td>\n",
       "      <td>0</td>\n",
       "    </tr>\n",
       "  </tbody>\n",
       "</table>\n",
       "<p>1117 rows × 9 columns</p>\n",
       "</div>"
      ],
      "text/plain": [
       "             vacina_fabricante_nome  paciente_idade  \\\n",
       "0                 FUNDACAO BUTANTAN              42   \n",
       "1                 FUNDACAO BUTANTAN              29   \n",
       "2             FUNDACAO OSWALDO CRUZ              61   \n",
       "3             FUNDACAO OSWALDO CRUZ              65   \n",
       "4                 FUNDACAO BUTANTAN              80   \n",
       "...                             ...             ...   \n",
       "42608             FUNDACAO BUTANTAN              25   \n",
       "43490             FUNDACAO BUTANTAN              25   \n",
       "44533  BUTANTAN - FUNDACAO BUTANTAN              29   \n",
       "45049             FUNDACAO BUTANTAN              39   \n",
       "45695             FUNDACAO BUTANTAN              67   \n",
       "\n",
       "                                             paciente_id  \\\n",
       "0      9f1f5fceb5e933b97afd0e8bdc6006b8fb9179a3cbc48e...   \n",
       "1      b90fc3d4ba1281a36cae1327bdd74344d68c51bb5e8d39...   \n",
       "2      07a6e404e1acdfcf609b92e52ac0728720ad424e57e32f...   \n",
       "3      ea41ef99d308167dbf1f092c7f47934a829bb48dc13640...   \n",
       "4      a4ba488f645733d3800d8e4106eb651c4126a3128ff8b1...   \n",
       "...                                                  ...   \n",
       "42608  a4739d1e7e02526364debc812de42b1e8d0b9f6c065c3b...   \n",
       "43490  d777e5d2311116a4ae2d48e88d3f59b3b8fcd9738cdd78...   \n",
       "44533  6726211e4904bf0fe0f9fd91e1c7f7f10e46ba1525b451...   \n",
       "45049  866fe288d91973addeb685dec75241552f2f85b07adcce...   \n",
       "45695  1d9688764e3bef6f7ef4cd819eded24bda12ceb497e833...   \n",
       "\n",
       "           vacina_dataAplicacao paciente_endereco_uf vacina_descricao_dose  \\\n",
       "0     2021-02-06 00:00:00+00:00                   SE               1a_dose   \n",
       "1     2021-03-06 00:00:00+00:00                   SE               2a_dose   \n",
       "2     2021-04-13 00:00:00+00:00                   SE               1a_dose   \n",
       "3     2021-03-30 00:00:00+00:00                   BA               1a_dose   \n",
       "4     2021-03-17 00:00:00+00:00                   PB               2a_dose   \n",
       "...                         ...                  ...                   ...   \n",
       "42608 2021-02-02 00:00:00+00:00                   MG               2a_dose   \n",
       "43490 2021-02-02 00:00:00+00:00                   MS               2a_dose   \n",
       "44533 2021-02-21 00:00:00+00:00                   CE               1a_dose   \n",
       "45049 2021-01-29 00:00:00+00:00                   PB               2a_dose   \n",
       "45695 2021-01-26 00:00:00+00:00                   GO               2a_dose   \n",
       "\n",
       "       1a_dose  2a_dose  unica  \n",
       "0            1        0      0  \n",
       "1            0        1      0  \n",
       "2            1        0      0  \n",
       "3            1        0      0  \n",
       "4            0        1      0  \n",
       "...        ...      ...    ...  \n",
       "42608        0        1      0  \n",
       "43490        0        1      0  \n",
       "44533        1        0      0  \n",
       "45049        0        1      0  \n",
       "45695        0        1      0  \n",
       "\n",
       "[1117 rows x 9 columns]"
      ]
     },
     "execution_count": 55,
     "metadata": {},
     "output_type": "execute_result"
    }
   ],
   "source": [
    "df1.head()"
   ]
  },
  {
   "cell_type": "code",
   "execution_count": null,
   "metadata": {},
   "outputs": [],
   "source": []
  },
  {
   "cell_type": "code",
   "execution_count": null,
   "metadata": {},
   "outputs": [],
   "source": []
  },
  {
   "cell_type": "raw",
   "metadata": {},
   "source": [
    "df2 = df.groupby(['vacina_dataAplicacao', '2a_dose'])\n",
    "df2 = df1['2a_dose'].cumsum()\n",
    "df2"
   ]
  },
  {
   "cell_type": "code",
   "execution_count": null,
   "metadata": {},
   "outputs": [],
   "source": []
  }
 ],
 "metadata": {
  "kernelspec": {
   "display_name": "Python 3",
   "language": "python",
   "name": "python3"
  },
  "language_info": {
   "codemirror_mode": {
    "name": "ipython",
    "version": 3
   },
   "file_extension": ".py",
   "mimetype": "text/x-python",
   "name": "python",
   "nbconvert_exporter": "python",
   "pygments_lexer": "ipython3",
   "version": "3.8.5"
  }
 },
 "nbformat": 4,
 "nbformat_minor": 4
}
