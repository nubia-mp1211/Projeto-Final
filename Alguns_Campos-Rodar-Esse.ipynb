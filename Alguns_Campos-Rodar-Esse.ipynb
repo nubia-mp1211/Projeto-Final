{
 "cells": [
  {
   "cell_type": "code",
   "execution_count": 2,
   "metadata": {
    "collapsed": true,
    "jupyter": {
     "outputs_hidden": true,
     "source_hidden": true
    }
   },
   "outputs": [
    {
     "name": "stdout",
     "output_type": "stream",
     "text": [
      "Começando a execução....\n"
     ]
    }
   ],
   "source": [
    "print (\"Começando a execução....\")"
   ]
  },
  {
   "cell_type": "code",
   "execution_count": 3,
   "metadata": {},
   "outputs": [
    {
     "name": "stdout",
     "output_type": "stream",
     "text": [
      "Executando codigo...\n",
    
    
     
     
     ]
    }
   ],
   "source": [
    "import requests \n",
    "import pandas as pd\n",
    "import time\n",
    "from datetime import datetime\n",
    "import csv\n",
    "\n",
    "print(\"Executando codigo...\")\n",
    "\n",
    "# Constant fields to be sure all results rows will be the same\n",
    "# FIELDS = ['vacina_categoria_codigo',\n",
    "#          'vacina_lote',\n",
    "#          'estabelecimento_razaoSocial',\n",
    "#          'estalecimento_noFantasia',\n",
    "#          'paciente_endereco_cep',\n",
    "#          'estabelecimento_uf',\n",
    "#          'sistema_origem',\n",
    "#          'paciente_endereco_nmMunicipio',\n",
    "#          'paciente_racaCor_valor',\n",
    "#          'paciente_dataNascimento',\n",
    "#          'vacina_fabricante_nome',\n",
    "#          'estabelecimento_municipio_nome',\n",
    "#          'paciente_idade',\n",
    "#          'vacina_grupoAtendimento_codigo',\n",
    "#          'vacina_descricao_dose',\n",
    "#          'paciente_nacionalidade_enumNacionalidade',\n",
    "#          'vacina_codigo',\n",
    "#          'estabelecimento_municipio_codigo',\n",
    "#          'paciente_id',\n",
    "#          'vacina_categoria_nome',\n",
    "#          'vacina_dataAplicacao',\n",
    "#          'document_id',\n",
    "#          'paciente_enumSexoBiologico',\n",
    "#          'estabelecimento_valor',\n",
    "#          'paciente_endereco_uf',\n",
    "#          'paciente_endereco_coPais',\n",
    "#          'paciente_endereco_nmPais',\n",
    "#          'paciente_endereco_coIbgeMunicipio',\n",
    "#          'vacina_grupoAtendimento_nome',\n",
    "#          'paciente_racaCor_codigo',\n",
    "#          'vacina_fabricante_referencia']\n",
    "\n",
    "\n",
    "FIELDS = [\n",
    "    # 'vacina_categoria_codigo',\n",
    "    #      'vacina_nome',\n",
    "    #      'estabelecimento_uf',\n",
    "    #      'sistema_origem',\n",
    "    #      'paciente_endereco_nmMunicipio',\n",
    "    #      'paciente_dataNascimento',\n",
    "          'vacina_fabricante_nome',\n",
    "    #      'estabelecimento_municipio_nome',\n",
    "          'paciente_idade',\n",
    "    #      'vacina_descricao_dose',\n",
    "    #      'paciente_nacionalidade_enumNacionalidade',\n",
    "    #      'vacina_codigo',\n",
    "    #      'estabelecimento_municipio_codigo',\n",
    "    #     'paciente_id',\n",
    "          'vacina_categoria_nome',\n",
    "     #     'vacina_dataAplicacao',\n",
    "     #     'document_id',\n",
    "            'paciente_endereco_uf',\n",
    "            'vacina_descricao_dose']\n",
    "     #     'paciente_endereco_coPais',\n",
    "     #     'paciente_endereco_nmPais',\n",
    "     #     'paciente_endereco_coIbgeMunicipio',\n",
    "     #    'vacina_fabricante_referencia']\n",
    "\n",
    "\n",
    "\n",
    "# Function to only get the fields from the hits\n",
    "def get_values(hits, fields):\n",
    "    return [[hit[field] if field in hit.keys() else \"\" for field in fields] for hit in hits]\n",
    "\n",
    "# Function to retry request in case of timeout or error\n",
    "def get_request(url, user, password, body, retries=3):\n",
    "    for i in range(retries):\n",
    "        response = requests.post(url, auth=(user, password), json=request_body).json()\n",
    "        if \"error\" not in response.keys():\n",
    "            return response\n",
    "        else:\n",
    "            print(\"Retrying request\")\n",
    "    return None\n",
    "\n",
    "saving_path = f'vacinas_{datetime.now().strftime(\"%Y-%m-%d-%H%M\")}.csv'\n",
    "\n",
    "with open(saving_path, \"w\") as csv_file: \n",
    "    writer = csv.writer(csv_file, delimiter=';')\n",
    "\n",
    "    # Add column names to csv file\n",
    "    writer.writerow(FIELDS)\n",
    "\n",
    "    ## Start first request\n",
    "    url = \"https://imunizacao-es.saude.gov.br/_search?scroll=1m\"\n",
    "    request_body = {\"size\": 10000}\n",
    "    user = \"imunizacao_public\"\n",
    "    password = \"qlto5t&7r_@+#Tlstigi\"\n",
    "    response = requests.post(url, auth=(user, password), json=request_body).json()\n",
    "\n",
    "    hits = response.get(\"hits\").get(\"hits\")\n",
    "    hits = [hit.get(\"_source\") for hit in hits]\n",
    "    \n",
    "    # Write values to CSV file\n",
    "    writer.writerows(get_values(hits, FIELDS))\n",
    "    scroll_id = response.get(\"_scroll_id\")\n",
    "    counts = len(hits)\n",
    "    while True:\n",
    "        request_body = {\"scroll_id\": scroll_id, \"scroll\": \"1m\"}\n",
    "        url = \"https://imunizacao-es.saude.gov.br/_search/scroll\"\n",
    "        t0 = time.time()\n",
    "        response = get_request(url, user, password, request_body)\n",
    "        t1 = time.time()\n",
    "        request_time = t1 - t0\n",
    "        if response:        \n",
    "            scroll_id = response.get(\"_scroll_id\")\n",
    "            hits = response.get(\"hits\").get(\"hits\")\n",
    "            hits = [hit.get(\"_source\") for hit in hits]\n",
    "            if len(hits)==0:\n",
    "                break\n",
    "            t0 = time.time()\n",
    "            # Write values to CSV file\n",
    "            writer.writerows(get_values(hits, FIELDS))\n",
    "            t1 = time.time()\n",
    "            append_time = t1-t0\n",
    "            counts = counts+len(hits)\n",
    "            # print(f\"hits len: {len(hits)}, total results: {counts}, \n",
    "            #      request time: {request_time:.2f}, append time: {append_time:.2f}\")\n",
    "                 \n",
    "    \n",
    "    \n",
    "            print(f\"hits len: {len(hits)}, total results: {counts}\")\n",
    "        else:\n",
    "            print(\"Request error\")\n",
    "            break\n",
    "print(\"Done\")"
   ]
  },
  {
   "cell_type": "code",
   "execution_count": null,
   "metadata": {},
   "outputs": [],
   "source": [
    "\n",
    "\n",
    "\n",
    "\n",
    "\n",
    "\n",
    "\n",
    "\n",
    "\n",
    "\n"
   ]
  }
 ],
 "metadata": {
  "kernelspec": {
   "display_name": "Python 3",
   "language": "python",
   "name": "python3"
  },
  "language_info": {
   "codemirror_mode": {
    "name": "ipython",
    "version": 3
   },
   "file_extension": ".py",
   "mimetype": "text/x-python",
   "name": "python",
   "nbconvert_exporter": "python",
   "pygments_lexer": "ipython3",
   "version": "3.8.5"
  }
 },
 "nbformat": 4,
 "nbformat_minor": 4
}
