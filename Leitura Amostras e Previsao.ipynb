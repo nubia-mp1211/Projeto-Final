{
 "cells": [
  {
   "cell_type": "code",
   "execution_count": null,
   "metadata": {},
   "outputs": [],
   "source": [
    "# Esse módulo fará a leitura dos arquivos Amostragem de acordo com as datas\n",
    "# dois dias anteriores para fazer a previsão data quando TODOS estarão vacinados!"
   ]
  },
  {
   "cell_type": "code",
   "execution_count": 2,
   "metadata": {},
   "outputs": [
    {
     "name": "stdout",
     "output_type": "stream",
     "text": [
      "Fazendo as leituras dos Arquivos csv ....\n"
     ]
    }
   ],
   "source": [
    "import csv\n",
    "import time\n",
    "import requests \n",
    "import pandas  as pd\n",
    "import seaborn as sns\n",
    "from random   import random\n",
    "from datetime import datetime\n",
    "\n",
    "# Importar bibliotecas para construir gráficos:\n",
    "\n",
    "import seaborn as sns\n",
    "import matplotlib.pyplot as plt\n",
    "sns.set()\n",
    "\n",
    "# Bibliotecas de Algoritmos de Regressão:\n",
    "from sklearn.tree            import DecisionTreeClassifier\n",
    "from catboost                import CatBoostClassifier\n",
    "from sklearn.metrics         import accuracy_score\n",
    "from sklearn.neighbors       import KNeighborsClassifier\n",
    "from sklearn.linear_model    import LogisticRegression\n",
    "from sklearn.metrics         import confusion_matrix, classification_report\n",
    "from sklearn.model_selection import train_test_split, GridSearchCV\n",
    "from sklearn.preprocessing   import StandardScaler\n",
    "from sklearn.ensemble        import RandomForestRegressor, ExtraTreesRegressor\n",
    "\n",
    "sns.set()\n",
    "\n",
    "# Leitura do arquivo de Vacinacao completo selecionando alguns\n",
    "# campos para pesquisa:\n",
    "\n",
    "# Leitura BD_Amostra do dia 06/05/2021:\n",
    "# Amostra_antes ==> DataFrame com data anterior\n",
    "\n",
    "print('Fazendo as leituras dos Arquivos csv ....')\n",
    "\n",
    "Amostra_antes = pd.read_csv(\"BD_Amostra-Alguns-06-05-2021.csv\", sep=\";\")\n",
    "usecols   = ['vacina_fabricante_nome',\n",
    "                 'paciente_idade',\n",
    "                 'paciente_id',\n",
    "                 'vacina_dataAplicacao',\n",
    "                 'paciente_endereco_uf',\n",
    "                 'vacina_descricao_dose']\n",
    "\n",
    "# Leitura do segundo Amostra para comparacao: 08/05/2021:\n",
    "# Amostra_atual ==> DataFrame com data mais recente\n",
    "\n",
    "Amostra_atual = pd.read_csv(\"BD_Amostra-Alguns-08-05-2021.csv\", sep=\";\")\n",
    "usecols   = ['vacina_fabricante_nome',\n",
    "                 'paciente_idade',\n",
    "                 'paciente_id',\n",
    "                 'vacina_dataAplicacao',\n",
    "                 'paciente_endereco_uf',\n",
    "                 'vacina_descricao_dose']\n",
    "\n"
   ]
  },
  {
   "cell_type": "code",
   "execution_count": null,
   "metadata": {},
   "outputs": [],
   "source": []
  },
  {
   "cell_type": "code",
   "execution_count": null,
   "metadata": {},
   "outputs": [],
   "source": [
    "# Preciso tratar a data para fazer previsão: "
   ]
  },
  {
   "cell_type": "markdown",
   "metadata": {},
   "source": [
    "# Modulo: Tratando=Data-Grafico\n",
    "\n",
    "# Preparando o campo \"vacina_dataAplicacao com Data anterior:\n",
    "# para o datetime: formato = \"%Y/%m/%d\""
   ]
  },
  {
   "cell_type": "code",
   "execution_count": 3,
   "metadata": {},
   "outputs": [],
   "source": [
    "Amostra_antes['vacina_dataAplicacao'] = pd.to_datetime(Amostra_antes['vacina_dataAplicacao'], \n",
    "      format = \"%Y-%m-%dT%H:%M:%S\")\n",
    "\n",
    "Amostra_atual['vacina_dataAplicacao'] = pd.to_datetime(Amostra_atual['vacina_dataAplicacao'], \n",
    "      format = \"%Y-%m-%dT%H:%M:%S\")"
   ]
  },
  {
   "cell_type": "code",
   "execution_count": null,
   "metadata": {},
   "outputs": [],
   "source": []
  },
  {
   "cell_type": "code",
   "execution_count": null,
   "metadata": {},
   "outputs": [],
   "source": [
    "#Criar uma coluna com Número 1, apenas para contar o total de cada vacina\n",
    "# para ter dados acumulativos"
   ]
  },
  {
   "cell_type": "code",
   "execution_count": 4,
   "metadata": {},
   "outputs": [],
   "source": [
    "Amostra_antes[\"counter\"] = Amostra_atual[\"counter\"] = 1"
   ]
  },
  {
   "cell_type": "code",
   "execution_count": null,
   "metadata": {},
   "outputs": [],
   "source": [
    "# Criar o Pivot Tsble para acumulado dos dias:"
   ]
  },
  {
   "cell_type": "code",
   "execution_count": 6,
   "metadata": {},
   "outputs": [],
   "source": [
    "# Pivot Test ANTES\n",
    "\n",
    "pivot_test_antes= pd.pivot_table(Amostra_antes, \n",
    "                            index   = \"vacina_dataAplicacao\", \n",
    "                            columns = 'vacina_fabricante_nome',\n",
    "                            values  = \"counter\",\n",
    "                            aggfunc = \"sum\",\n",
    "                            fill_value=0)\n",
    "pivot_test_antes= pivot_test_antes.reset_index()\n",
    "\n",
    "\n",
    "# Pivot Test ATUAL:\n",
    "pivot_test_atual= pd.pivot_table(Amostra_atual, \n",
    "                            index   = \"vacina_dataAplicacao\", \n",
    "                            columns = 'vacina_fabricante_nome',\n",
    "                            values  = \"counter\",\n",
    "                            aggfunc = \"sum\",\n",
    "                            fill_value=0)\n",
    "pivot_test_atual= pivot_test_atual.reset_index()\n",
    "\n",
    "\n"
   ]
  },
  {
   "cell_type": "code",
   "execution_count": null,
   "metadata": {},
   "outputs": [],
   "source": [
    "# Pivot test será criado para ter o total de vacinados entre \n",
    "## 19/01/2021 e 01/05/2021"
   ]
  },
  {
   "cell_type": "code",
   "execution_count": 7,
   "metadata": {},
   "outputs": [],
   "source": [
    "# Pivot Test ANTES:\n",
    "\n",
    "pivot_test_antes = pivot_test_antes.loc[(pivot_test_antes[\"vacina_dataAplicacao\"]>=\"2021-01-01\") &\n",
    "            (pivot_test_antes[\"vacina_dataAplicacao\"]<\"2021-05-01\")].reset_index(drop=True)\n",
    "\n",
    "# Pivot Test ATUAL:\n",
    "\n",
    "pivot_test_atual = pivot_test_atual.loc[(pivot_test_atual[\"vacina_dataAplicacao\"]>=\"2021-01-01\") &\n",
    "            (pivot_test_atual[\"vacina_dataAplicacao\"]<\"2021-05-01\")].reset_index(drop=True)"
   ]
  },
  {
   "cell_type": "code",
   "execution_count": 8,
   "metadata": {},
   "outputs": [],
   "source": [
    "for vacina_fabricante_nome in pivot_test_antes.columns[1:]:\n",
    "    pivot_test_antes[f\"{vacina_fabricante_nome}_acumulado\"] = pivot_test_antes[vacina_fabricante_nome].cumsum()\n",
    "    "
   ]
  },
  {
   "cell_type": "markdown",
   "metadata": {},
   "source": [
    "# Modulo: Primeira-Segunda-Dose\n",
    "\n",
    "# Tratando o campo \"vacina_dataAplicacao\"  para verificar a data de\n",
    "# aplicação da Vacina Primeira Dose e se após um tempo tomou a \n",
    "# Segunda Dose:"
   ]
  },
  {
   "cell_type": "code",
   "execution_count": 10,
   "metadata": {},
   "outputs": [
    {
     "data": {
      "text/plain": [
       "array(['\\xa0\\xa0\\xa0\\xa01ª\\xa0Dose', '\\xa0\\xa0\\xa0\\xa02ª\\xa0Dose'],\n",
       "      dtype=object)"
      ]
     },
     "execution_count": 10,
     "metadata": {},
     "output_type": "execute_result"
    }
   ],
   "source": [
    "Amostra_antes[\"vacina_descricao_dose\"].unique()\n"
   ]
  },
  {
   "cell_type": "code",
   "execution_count": 11,
   "metadata": {},
   "outputs": [
    {
     "data": {
      "text/plain": [
       "array(['\\xa0\\xa0\\xa0\\xa01ª\\xa0Dose', '\\xa0\\xa0\\xa0\\xa02ª\\xa0Dose'],\n",
       "      dtype=object)"
      ]
     },
     "execution_count": 11,
     "metadata": {},
     "output_type": "execute_result"
    }
   ],
   "source": [
    "Amostra_atual[\"vacina_descricao_dose\"].unique()"
   ]
  },
  {
   "cell_type": "code",
   "execution_count": 12,
   "metadata": {},
   "outputs": [],
   "source": [
    "# Fazendo uma limpeza do campo \"vacina_descricao_dose\" para \n",
    "# os dois DataFrames:\n",
    "\n",
    "# 1) Transformando todos as linhas como Minuúsculas\n",
    "# 2) Quando aparecer Null (NaN) substitui-se por \"-\"\n",
    "# 3) Tratando todos os caracteres ASCII \n",
    "\n",
    "Amostra_antes[\"vacina_descricao_dose\"] = (Amostra_antes[\"vacina_descricao_dose\"]\n",
    "                                 .str.lower()\n",
    "                                 .str.normalize(\"NFKD\")\n",
    "                                 .str.lstrip()\n",
    "                                 .str.replace(\" \",\"_\")\n",
    "                                 .str.encode(\"ascii\", errors=\"ignore\")\n",
    "                                 .str.decode(\"utf-8\"))\n",
    "\n",
    "\n",
    "Amostra_atual[\"vacina_descricao_dose\"] = (Amostra_atual[\"vacina_descricao_dose\"]\n",
    "                                 .str.lower()\n",
    "                                 .str.normalize(\"NFKD\")\n",
    "                                 .str.lstrip()\n",
    "                                 .str.replace(\" \",\"_\")\n",
    "                                 .str.encode(\"ascii\", errors=\"ignore\")\n",
    "                                 .str.decode(\"utf-8\"))\n"
   ]
  },
  {
   "cell_type": "code",
   "execution_count": 10,
   "metadata": {},
   "outputs": [
    {
     "data": {
      "text/plain": [
       "<bound method IndexOpsMixin.value_counts of 0        1a_dose\n",
       "1        1a_dose\n",
       "2        2a_dose\n",
       "3        1a_dose\n",
       "4        2a_dose\n",
       "          ...   \n",
       "47645    1a_dose\n",
       "47646    2a_dose\n",
       "47647    1a_dose\n",
       "47648    1a_dose\n",
       "47649    1a_dose\n",
       "Name: vacina_descricao_dose, Length: 47650, dtype: object>"
      ]
     },
     "execution_count": 10,
     "metadata": {},
     "output_type": "execute_result"
    }
   ],
   "source": [
    "Amostra_antes[\"vacina_descricao_dose\"].value_counts"
   ]
  },
  {
   "cell_type": "code",
   "execution_count": 19,
   "metadata": {},
   "outputs": [
    {
     "data": {
      "text/plain": [
       "<bound method IndexOpsMixin.value_counts of 0        1a_dose\n",
       "1        2a_dose\n",
       "2        1a_dose\n",
       "3        1a_dose\n",
       "4        1a_dose\n",
       "          ...   \n",
       "48659    1a_dose\n",
       "48660    1a_dose\n",
       "48661    1a_dose\n",
       "48662    2a_dose\n",
       "48663    1a_dose\n",
       "Name: vacina_descricao_dose, Length: 48664, dtype: object>"
      ]
     },
     "execution_count": 19,
     "metadata": {},
     "output_type": "execute_result"
    }
   ],
   "source": [
    "Amostra_atual[\"vacina_descricao_dose\"].value_counts"
   ]
  },
  {
   "cell_type": "code",
   "execution_count": 13,
   "metadata": {},
   "outputs": [
    {
     "data": {
      "text/plain": [
       "<AxesSubplot:xlabel='vacina_descricao_dose', ylabel='count'>"
      ]
     },
     "execution_count": 13,
     "metadata": {},
     "output_type": "execute_result"
    },
    {
     "data": {
      "image/png": "[encoded data removed]",
      "text/plain": [
       "<Figure size 720x432 with 1 Axes>"
      ]
     },
     "metadata": {},
     "output_type": "display_data"
    }
   ],
   "source": [
    "plt.figure(figsize = (10,6))\n",
    "sns.countplot(data = Amostra_antes, x = \"vacina_descricao_dose\")"
   ]
  },
  {
   "cell_type": "code",
   "execution_count": 15,
   "metadata": {},
   "outputs": [
    {
     "data": {
      "text/plain": [
       "Text(0, 0.5, 'Contagem')"
      ]
     },
     "execution_count": 15,
     "metadata": {},
     "output_type": "execute_result"
    },
    {
     "data": {
      "image/png": "[encoded data removed]",
      "text/plain": [
       "<Figure size 576x720 with 2 Axes>"
      ]
     },
     "metadata": {},
     "output_type": "display_data"
    }
   ],
   "source": [
    "# Dois gráficos comparacao:\n",
    "\n",
    "fig = plt.figure(figsize = (8, 10))\n",
    "\n",
    "# Divide a figura em dois gráficos: lado esquerdo ==> Doses Antes:\n",
    "\n",
    "ax1 = fig.add_subplot(2,2,1)\n",
    "plt.style.use(\"ggplot\")\n",
    "\n",
    "#Amostra_antes[\"vacina_descricao_dose\"].hist(bins = 20, ec = \"k\", alpha = .6, color = \"red\")\n",
    "\n",
    "Amostra_antes['vacina_descricao_dose'].value_counts().plot(kind = 'bar', color = 'green') \n",
    "plt.title(\"Vacinados em 6/Maio/2021\")\n",
    "plt.xlabel(\"Doses da Vacina\")\n",
    "plt.ylabel(\"Contagem\")\n",
    "\n",
    "\n",
    "# Divide a figura em dois gráficos: lado direito ==> Doses Atual:\n",
    "ax2 = fig.add_subplot(2,2,2)\n",
    "plt.style.use(\"ggplot\")\n",
    "\n",
    "# Amostra_atual[\"vacina_descricao_dose\"].hist(bins = 20, ec = \"k\", alpha = .6, color = \"blue\")\n",
    "\n",
    "Amostra_atual['vacina_descricao_dose'].value_counts().plot(kind = 'bar', color = 'yellow') \n",
    "plt.title(\"Vacinados em 8/Maio/2021\")\n",
    "plt.xlabel(\"Doses da Vacina\")\n",
    "plt.ylabel(\"Contagem\")\n",
    "\n",
    "\n"
   ]
  },
  {
   "cell_type": "code",
   "execution_count": 14,
   "metadata": {},
   "outputs": [
    {
     "data": {
      "text/plain": [
       "<AxesSubplot:xlabel='count', ylabel='vacina_descricao_dose'>"
      ]
     },
     "execution_count": 14,
     "metadata": {},
     "output_type": "execute_result"
    },
    {
     "data": {
      "image/png": "[encoded data removed]",
      "text/plain": [
       "<Figure size 720x432 with 1 Axes>"
      ]
     },
     "metadata": {},
     "output_type": "display_data"
    }
   ],
   "source": [
    "# Momento Antes:\n",
    "\n",
    "plt.figure(figsize = (10,6))\n",
    "sns.countplot(data=Amostra_antes, y = \"vacina_descricao_dose\")"
   ]
  },
  {
   "cell_type": "code",
   "execution_count": 40,
   "metadata": {},
   "outputs": [
    {
     "data": {
      "text/plain": [
       "<AxesSubplot:xlabel='count', ylabel='vacina_descricao_dose'>"
      ]
     },
     "execution_count": 40,
     "metadata": {},
     "output_type": "execute_result"
    },
    {
     "data": {
      "image/png": "[encoded data removed]",
      "text/plain": [
       "<Figure size 720x432 with 1 Axes>"
      ]
     },
     "metadata": {},
     "output_type": "display_data"
    }
   ],
   "source": [
    "# Momento Atual:\n",
    "\n",
    "plt.figure(figsize = (10,6))\n",
    "sns.countplot(data=Amostra_atual, y = \"vacina_descricao_dose\")"
   ]
  },
  {
   "cell_type": "code",
   "execution_count": 43,
   "metadata": {},
   "outputs": [
    {
     "data": {
      "text/plain": [
       "<AxesSubplot:xlabel='count', ylabel='vacina_descricao_dose'>"
      ]
     },
     "execution_count": 43,
     "metadata": {},
     "output_type": "execute_result"
    },
    {
     "data": {
      "image/png": "[encoded data removed]",
      "text/plain": [
       "<Figure size 720x432 with 1 Axes>"
      ]
     },
     "metadata": {},
     "output_type": "display_data"
    }
   ],
   "source": [
    "# Momento Antes:\n",
    "\n",
    "\n",
    "plt.figure(figsize = (10,6))\n",
    "sns.countplot(data = Amostra_antes, y = \"vacina_descricao_dose\")\n"
   ]
  },
  {
   "cell_type": "code",
   "execution_count": null,
   "metadata": {},
   "outputs": [],
   "source": [
    "# Construindo o Modelo:"
   ]
  },
  {
   "cell_type": "code",
   "execution_count": null,
   "metadata": {},
   "outputs": [],
   "source": []
  },
  {
   "cell_type": "code",
   "execution_count": 20,
   "metadata": {},
   "outputs": [
    {
     "ename": "ValueError",
     "evalue": "Found input variables with inconsistent numbers of samples: [47650, 288]",
     "output_type": "error",
     "traceback": [
      "\u001b[0;31m---------------------------------------------------------------------------\u001b[0m",
      "\u001b[0;31mValueError\u001b[0m                                Traceback (most recent call last)",
      "\u001b[0;32m<ipython-input-20-1da06d7ad7cc>\u001b[0m in \u001b[0;36m<module>\u001b[0;34m\u001b[0m\n\u001b[1;32m      2\u001b[0m \u001b[0mtarget\u001b[0m \u001b[0;34m=\u001b[0m  \u001b[0;34m'vacina_dataAplicacao'\u001b[0m\u001b[0;34m\u001b[0m\u001b[0;34m\u001b[0m\u001b[0m\n\u001b[1;32m      3\u001b[0m \u001b[0;34m\u001b[0m\u001b[0m\n\u001b[0;32m----> 4\u001b[0;31m X_train, X_test, y_train, y_test = train_test_split(Amostra_antes[feature], pivot_test_antes[target],\n\u001b[0m\u001b[1;32m      5\u001b[0m                 test_size = 2, random_state = 12345)\n",
      "\u001b[0;32m~/opt/anaconda3/lib/python3.8/site-packages/sklearn/model_selection/_split.py\u001b[0m in \u001b[0;36mtrain_test_split\u001b[0;34m(test_size, train_size, random_state, shuffle, stratify, *arrays)\u001b[0m\n\u001b[1;32m   2170\u001b[0m         \u001b[0;32mraise\u001b[0m \u001b[0mValueError\u001b[0m\u001b[0;34m(\u001b[0m\u001b[0;34m\"At least one array required as input\"\u001b[0m\u001b[0;34m)\u001b[0m\u001b[0;34m\u001b[0m\u001b[0;34m\u001b[0m\u001b[0m\n\u001b[1;32m   2171\u001b[0m \u001b[0;34m\u001b[0m\u001b[0m\n\u001b[0;32m-> 2172\u001b[0;31m     \u001b[0marrays\u001b[0m \u001b[0;34m=\u001b[0m \u001b[0mindexable\u001b[0m\u001b[0;34m(\u001b[0m\u001b[0;34m*\u001b[0m\u001b[0marrays\u001b[0m\u001b[0;34m)\u001b[0m\u001b[0;34m\u001b[0m\u001b[0;34m\u001b[0m\u001b[0m\n\u001b[0m\u001b[1;32m   2173\u001b[0m \u001b[0;34m\u001b[0m\u001b[0m\n\u001b[1;32m   2174\u001b[0m     \u001b[0mn_samples\u001b[0m \u001b[0;34m=\u001b[0m \u001b[0m_num_samples\u001b[0m\u001b[0;34m(\u001b[0m\u001b[0marrays\u001b[0m\u001b[0;34m[\u001b[0m\u001b[0;36m0\u001b[0m\u001b[0;34m]\u001b[0m\u001b[0;34m)\u001b[0m\u001b[0;34m\u001b[0m\u001b[0;34m\u001b[0m\u001b[0m\n",
      "\u001b[0;32m~/opt/anaconda3/lib/python3.8/site-packages/sklearn/utils/validation.py\u001b[0m in \u001b[0;36mindexable\u001b[0;34m(*iterables)\u001b[0m\n\u001b[1;32m    297\u001b[0m     \"\"\"\n\u001b[1;32m    298\u001b[0m     \u001b[0mresult\u001b[0m \u001b[0;34m=\u001b[0m \u001b[0;34m[\u001b[0m\u001b[0m_make_indexable\u001b[0m\u001b[0;34m(\u001b[0m\u001b[0mX\u001b[0m\u001b[0;34m)\u001b[0m \u001b[0;32mfor\u001b[0m \u001b[0mX\u001b[0m \u001b[0;32min\u001b[0m \u001b[0miterables\u001b[0m\u001b[0;34m]\u001b[0m\u001b[0;34m\u001b[0m\u001b[0;34m\u001b[0m\u001b[0m\n\u001b[0;32m--> 299\u001b[0;31m     \u001b[0mcheck_consistent_length\u001b[0m\u001b[0;34m(\u001b[0m\u001b[0;34m*\u001b[0m\u001b[0mresult\u001b[0m\u001b[0;34m)\u001b[0m\u001b[0;34m\u001b[0m\u001b[0;34m\u001b[0m\u001b[0m\n\u001b[0m\u001b[1;32m    300\u001b[0m     \u001b[0;32mreturn\u001b[0m \u001b[0mresult\u001b[0m\u001b[0;34m\u001b[0m\u001b[0;34m\u001b[0m\u001b[0m\n\u001b[1;32m    301\u001b[0m \u001b[0;34m\u001b[0m\u001b[0m\n",
      "\u001b[0;32m~/opt/anaconda3/lib/python3.8/site-packages/sklearn/utils/validation.py\u001b[0m in \u001b[0;36mcheck_consistent_length\u001b[0;34m(*arrays)\u001b[0m\n\u001b[1;32m    260\u001b[0m     \u001b[0muniques\u001b[0m \u001b[0;34m=\u001b[0m \u001b[0mnp\u001b[0m\u001b[0;34m.\u001b[0m\u001b[0munique\u001b[0m\u001b[0;34m(\u001b[0m\u001b[0mlengths\u001b[0m\u001b[0;34m)\u001b[0m\u001b[0;34m\u001b[0m\u001b[0;34m\u001b[0m\u001b[0m\n\u001b[1;32m    261\u001b[0m     \u001b[0;32mif\u001b[0m \u001b[0mlen\u001b[0m\u001b[0;34m(\u001b[0m\u001b[0muniques\u001b[0m\u001b[0;34m)\u001b[0m \u001b[0;34m>\u001b[0m \u001b[0;36m1\u001b[0m\u001b[0;34m:\u001b[0m\u001b[0;34m\u001b[0m\u001b[0;34m\u001b[0m\u001b[0m\n\u001b[0;32m--> 262\u001b[0;31m         raise ValueError(\"Found input variables with inconsistent numbers of\"\n\u001b[0m\u001b[1;32m    263\u001b[0m                          \" samples: %r\" % [int(l) for l in lengths])\n\u001b[1;32m    264\u001b[0m \u001b[0;34m\u001b[0m\u001b[0m\n",
      "\u001b[0;31mValueError\u001b[0m: Found input variables with inconsistent numbers of samples: [47650, 288]"
     ]
    }
   ],
   "source": [
    "\n",
    "feature = 'vacina_descricao_dose'\n",
    "target =  'vacina_dataAplicacao'\n",
    "\n",
    "X_train, X_test, y_train, y_test = train_test_split(Amostra_antes[feature], pivot_test_antes[target],\n",
    "                test_size = 2, random_state = 12345)"
   ]
  },
  {
   "cell_type": "code",
   "execution_count": null,
   "metadata": {},
   "outputs": [],
   "source": []
  }
 ],
 "metadata": {
  "kernelspec": {
   "display_name": "Python 3",
   "language": "python",
   "name": "python3"
  },
  "language_info": {
   "codemirror_mode": {
    "name": "ipython",
    "version": 3
   },
   "file_extension": ".py",
   "mimetype": "text/x-python",
   "name": "python",
   "nbconvert_exporter": "python",
   "pygments_lexer": "ipython3",
   "version": "3.8.5"
  }
 },
 "nbformat": 4,
 "nbformat_minor": 4
}
