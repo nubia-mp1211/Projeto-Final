{
 "cells": [
  {
   "cell_type": "markdown",
   "metadata": {},
   "source": [
    "# Este programa faz a limpeza dos nomes Fabricantes de vacinas\n",
    "que aparecem de várias formas digitadas:"
   ]
  },
  {
   "cell_type": "code",
   "execution_count": 2,
   "metadata": {},
   "outputs": [],
   "source": [
    "# Importando as Bibliotecas:\n",
    "\n",
    "import csv\n",
    "import time\n",
    "import requests \n",
    "import pandas as pd\n",
    "from datetime import datetime\n",
    "\n",
    "# Importar bibliotecas para construir gráficos:\n",
    "\n",
    "import matplotlib.pyplot as plt\n",
    "import seaborn as sns\n",
    "sns.set()\n",
    "\n",
    "\n",
    "# Leitura do arquivo de Vacinacao completo selecionando alguns\n",
    "# campos para pesquisa:\n",
    "\n",
    "df = pd.read_csv(\"BD_Amostra-Alguns-26-05-2021.csv\", sep=\";\")\n",
    "usecols = ['vacina_fabricante_nome',\n",
    "                 'paciente_idade',\n",
    "                 'paciente_id',\n",
    "                 'vacina_dataAplicacao',\n",
    "                 'paciente_endereco_uf',\n",
    "                 'vacina_descricao_dose']\n",
    "\n",
    "               "
   ]
  },
  {
   "cell_type": "code",
   "execution_count": 3,
   "metadata": {},
   "outputs": [
    {
     "data": {
      "text/plain": [
       "(61478, 6)"
      ]
     },
     "execution_count": 3,
     "metadata": {},
     "output_type": "execute_result"
    }
   ],
   "source": [
    "df.shape"
   ]
  },
  {
   "cell_type": "code",
   "execution_count": 4,
   "metadata": {},
   "outputs": [
    {
     "data": {
      "text/plain": [
       "0                       FUNDACAO BUTANTAN\n",
       "1                       FUNDACAO BUTANTAN\n",
       "2                   FUNDACAO OSWALDO CRUZ\n",
       "3                       FUNDACAO BUTANTAN\n",
       "4                       FUNDACAO BUTANTAN\n",
       "                       ...               \n",
       "61473                   FUNDACAO BUTANTAN\n",
       "61474               FUNDACAO OSWALDO CRUZ\n",
       "61475        BioNTech/Fosun Pharma/Pfizer\n",
       "61476    University of Oxford/AstraZeneca\n",
       "61477    University of Oxford/AstraZeneca\n",
       "Name: vacina_fabricante_nome, Length: 61478, dtype: object"
      ]
     },
     "execution_count": 4,
     "metadata": {},
     "output_type": "execute_result"
    }
   ],
   "source": [
    "\n",
    "df['vacina_fabricante_nome']"
   ]
  },
  {
   "cell_type": "markdown",
   "metadata": {},
   "source": [
    "# Limpeza do campo \"vacina_fabricante_nome\"  para deixar padronizada\n",
    "\n",
    "O Nome da Vacina Oxford-AstraZeneca e a Fiocruz como foram digitados:\n",
    "\n",
    "        'ASTRA ZENECA /FIOCRUZ', \n",
    "        'ASTRA ZENECA FIO CRUZ', \n",
    "        'ASTRAZENECA',\n",
    "        'ASTRAZENECA AB', \n",
    "        'ASTRAZENECA FARMACEUTICA DO BRASIL LTDA',\n",
    "        'ASTRAZENECA FIO CRUZ', \n",
    "        'ASTRAZENECA/FIOCRUZ', \n",
    "        'ASTRAZENECA/OXFORD',\n",
    "        'ASTRAZENICA', \n",
    "        'ASTRAZENICA/FIOCRUZ', \n",
    "        'AstraZeneca/Fiocruz',\n",
    "        'AstraZeneca/Oxford' \n",
    "        'OXFORD / ASTRA ZENECA', \n",
    "        'OXFORD-ASTRAZENECA', \n",
    "        'OXFORD/ ASTRA ZENECA',\n",
    "        'OXFORD/ ASTRAZENECA', \n",
    "        'OXFORD/ASTRA ZENECA', \n",
    "        'OXFORD/ASTRAZENECA',\n",
    "        'Oxford Astrazeneca', \n",
    "        'Oxford/AstraZeneca',\n",
    "        'OXFORD / ASTRA ZENECA',\n",
    "        'OXFORD-ASTRAZENECA', \n",
    "        'OXFORD/ ASTRA ZENECA',\n",
    "        'OXFORD/ ASTRAZENECA'\n",
    "        'OXFORD/ASTRA ZENECA',\n",
    "        'OXFORD/ASTRAZENECA',\n",
    "        'University of Oxford/AstraZeneca',\n",
    "====>>>\n",
    " Vacina Instituto Butanta \n",
    "        'BUTANTA', \n",
    "        'BUTANTA/CORANAVAC', \n",
    "        'BUTANTAN',\n",
    "        'BUTANTAN - FUNDACAO BUTANTAN'\n",
    "        'Inst. Butantan',\n",
    "        'Instituto Butantan'\n",
    "        \n",
    "        \n",
    "Vacina da Sinovac:\n",
    "\n",
    "       'SINOVAC LIFE SCIENCE CO LTD', \n",
    "       'SINOVAC-BUTANTAN', \n",
    "       'SINOVAC/ BUTANTAN',\n",
    "       'SINOVAC/BUTAANTAN', \n",
    "       'SINOVAC/BUTANTA', \n",
    "       'SINOVAC/BUTANTAN',\n",
    "       'SINOVAC/Butantan', \n",
    "       'SINOVAC/CORONAVAC', \n",
    "       'SINOVAC/butantan', \n",
    "       'Sinovac',\n",
    "       'Sinovac / Butantan', \n",
    "       'Sinovac/Butanta', \n",
    "       'Sinovac/Butantan',\n",
    "       'Sinovac/butantan',\n",
    "       'butantan',\n",
    "       'butantan/ sinovac',\n",
    "       'butantan/sinovac', \n",
    "       'butatan', 'coronavac',\n",
    "       'sinovac/ butantan', \n",
    "       'sinovac/butantam', \n",
    "       'sinovac/butantan'\n",
    "       \n",
    "\n",
    "Vacina Serum:\n",
    "       'SERUM INSTITUTE OF INDIA LTD',\n",
    "       'SERUM INSTITUTE OF INDIA LTD.'\n",
    "\n",
    "Vacina Phizer:     \n",
    "\n",
    "        'BioNTech/Fosun Pharma/Pfizer'\n",
    "        'PFIZER/BIONTECH'\n",
    "        \n",
    "        \n",
    "DESCONHECIDOS:\n",
    "        'IMTRAMUSCULAR', \n",
    "        'INTERVAX LTDA', \n",
    "        'MINISTERIO DA SAUDE',\n",
    "        'Display_of_organization/',\n",
    "        'berna_biotech_korea_corporation'\n",
    "        'intervax_ltda',\n",
    "        'organization/\n",
    "\n",
    "OUTRAS VACINAS:\n",
    "\n",
    "Moderna, Sinopharm/Beijing,  Covaxin\n"
   ]
  },
  {
   "cell_type": "code",
   "execution_count": 5,
   "metadata": {},
   "outputs": [
    {
     "data": {
      "text/plain": [
       "count                 59935\n",
       "unique                   69\n",
       "top       FUNDACAO BUTANTAN\n",
       "freq                  25896\n",
       "Name: vacina_fabricante_nome, dtype: object"
      ]
     },
     "execution_count": 5,
     "metadata": {},
     "output_type": "execute_result"
    }
   ],
   "source": [
    "\n",
    "df[\"vacina_fabricante_nome\"].describe()                    "
   ]
  },
  {
   "cell_type": "code",
   "execution_count": 6,
   "metadata": {},
   "outputs": [],
   "source": [
    "# Continuando a limpeza do campo Vacina_Fabricante_Nome:\n",
    "# 1) Transforma toda coluna letras maiúsculas em minúsculas\n",
    "# 2) Troca espaço em branco por \"_\"\n",
    "# 3) trata os acentos, caracteres especiais e tira acentos \n",
    "\n",
    "# Tratando o fabricante Astrazeneca - Oxford - Fio Cruz\n",
    "\n",
    "df[\"nome_limpo\"] = (df[\"vacina_fabricante_nome\"]\n",
    "                        .str.lower()\n",
    "                        .str.replace(\" \", \"_\")\n",
    "                        .str.normalize(\"NFKD\")\n",
    "                        .str.encode(\"ascii\", errors = \"ignore\")\n",
    "                        .str.decode(\"utf8\")) \n",
    "                                 "
   ]
  },
  {
   "cell_type": "code",
   "execution_count": 8,
   "metadata": {},
   "outputs": [],
   "source": [
    "# Remove as linhas que contém NULLS ==> NA / NaN values,\n",
    "# mas será necessário usar o subset para remover completamente\n",
    "# a linha do DataFrame:\n",
    "\n",
    "df[\"nome_limpo\"] = df[\"nome_limpo\"].fillna(\"-\")\n"
   ]
  },
  {
   "cell_type": "markdown",
   "metadata": {},
   "source": [
    "# Fazendo a limpeza do campo \"vacina_descricao_dose\" que contém os Fabricantes das Vacinas"
   ]
  },
  {
   "cell_type": "code",
   "execution_count": 9,
   "metadata": {},
   "outputs": [
    {
     "name": "stdout",
     "output_type": "stream",
     "text": [
      "Início da análise dos Fabricantes ....\n",
      "Vacina AstraZeneca - OK\n"
     ]
    }
   ],
   "source": [
    "# AstraZeneca/Oxford = Astrazeneca, Universidade Oxford, Oxford, FioCruz:\n",
    "\n",
    "\n",
    "print(\"Início da análise dos Fabricantes ....\")\n",
    "\n",
    "\n",
    "# Tratando da Vacina: ASTRAZENECA:\n",
    "\n",
    "df.loc[df[\"nome_limpo\"].str.contains(\"astrazenica\"), \"nome_limpo\"] = \"astrazeneca\"\n",
    "df.loc[df[\"nome_limpo\"].str.contains(\"astrazeneca/oxford\"), \"nome_limpo\"] = \"astrazeneca\"\n",
    "df.loc[df[\"nome_limpo\"].str.contains(\"oxford\"), \"nome_limpo\"] = \"astrazeneca\"\n",
    "df.loc[df[\"nome_limpo\"].str.contains(\"university_of_oxford/astrazeneca\"), \"nome_limpo\"] = \"astrazeneca\"\n",
    "df.loc[df[\"nome_limpo\"].str.contains('astrazeneca_.fio_cruz'), \"nome_limpo\"] = \"astrazeneca\"\n",
    "df.loc[df[\"nome_limpo\"].str.contains(\"fiocruz\"), \"nome_limpo\"]    = \"astrazeneca\"\n",
    "df.loc[df[\"nome_limpo\"].str.contains('aztrazenica'), \"nome_limpo\"]    = \"astrazeneca\"\n",
    "df.loc[df[\"nome_limpo\"].str.contains('fio_cruz'), \"nome_limpo\"]    = \"astrazeneca\"\n",
    "df.loc[df[\"nome_limpo\"].str.contains('fio_cruz'), \"nome_limpo\"]    = \"astrazeneca\"                          \n",
    "df.loc[df[\"nome_limpo\"].str.contains('aztrazenica'), \"nome_limpo\"]    = \"astrazeneca\"\n",
    "df.loc[df[\"nome_limpo\"].str.contains('astra_zeneca'), \"nome_limpo\"] = \"astrazeneca\"\n",
    "df.loc[df[\"nome_limpo\"].str.contains('fiocuz'), \"nome_limpo\"]    = \"astrazeneca\"\n",
    "df.loc[df[\"nome_limpo\"].str.contains(\"astrazeneca/fiocruz\"), \"nome_limpo\"] = \"astrazeneca\"\n",
    "df.loc[df[\"nome_limpo\"].str.contains(\"astra_zeneca_fio_cruz\"), \"nome_limpo\"] = \"astrazeneca\"\n",
    "df.loc[df[\"nome_limpo\"].str.contains(\"oxford/astra_zeneca\"), \"nome_limpo\"] = \"astrazeneca\"\n",
    "df.loc[df[\"nome_limpo\"].str.contains(\"fundacao_oswaldo_cruz\"), \"nome_limpo\"]   = \"astrazeneca\"\n",
    "df.loc[df[\"nome_limpo\"].str.contains(\"bio-manguinhos\"), \"nome_limpo\"] = \"astrazeneca\"\n",
    "df.loc[df[\"nome_limpo\"].str.contains(\"fiocruz_-_biomanguinhos_\"), \"nome_limpo\"] = \"astrazeneca\"\n",
    "df.loc[df[\"nome_limpo\"].str.contains(\"astrazeneca_farmaceutica_do_brasil_ltda\"), \"nome_limpo\"] = \"astrazeneca\"\n",
    "df.loc[df[\"nome_limpo\"].str.contains('astragenica'), \"nome_limpo\"] = \"astrazeneca\"\n",
    "df.loc[df[\"nome_limpo\"].str.contains('astrazenic'), \"nome_limpo\"] = \"astrazeneca\"\n",
    "df.loc[df[\"nome_limpo\"].str.contains('covid-19-astrazeneca'), \"nome_limpo\"] = \"astrazeneca\"\n",
    "print(\"Vacina AstraZeneca - OK\")                               "
   ]
  },
  {
   "cell_type": "code",
   "execution_count": 16,
   "metadata": {},
   "outputs": [
    {
     "name": "stdout",
     "output_type": "stream",
     "text": [
      "Vacinas da Phizer...OK\n"
     ]
    }
   ],
   "source": [
    "# Limpeza do campo \"vacina_fabricante_nome\" com a Fabricante PHIZER:\n",
    "#\n",
    "df.loc[df[\"nome_limpo\"].str.contains(\"biontech\"), \"nome_limpo\"] = \"pfizer\"\n",
    "df.loc[df[\"nome_limpo\"].str.contains(\"pfizer/biontech\"), \"nome_limpo\"]   = \"pfizer\"\n",
    "df.loc[df[\"nome_limpo\"].str.contains(\"Pfizer\"), \"nome_limpo\"] = \"pfizer\"\n",
    "df.loc[df[\"nome_limpo\"].str.contains(\"phizer\"), \"nome_limpo\"] = \"pfizer\"\n",
    "df.loc[df[\"nome_limpo\"].str.contains(\"biontech/fosun pharma/pfizer\"), \"nome_limpo\"] = \"pfizer\"\n",
    "df.loc[df[\"nome_limpo\"].str.contains(\"biontech/fosun_pharma/pfizer\"), \"nome_limpo\"] = \"pfizer\"\n",
    "df.loc[df[\"nome_limpo\"].str.contains(\"pfizer_manufacturing_belgium_nv_belgiva\"), \"nome_limpo\"] = \"pfizer\"\n",
    "df.loc[df[\"nome_limpo\"].str.contains('pfizer_manufacturing_belgium_nv_-_belgiva'), \"nome_limpo\"] = \"pfizer\"\n",
    "print(\"Vacinas da Phizer...OK\")"
   ]
  },
  {
   "cell_type": "code",
   "execution_count": 11,
   "metadata": {},
   "outputs": [
    {
     "name": "stdout",
     "output_type": "stream",
     "text": [
      "VAcina Sinovac - OK\n"
     ]
    }
   ],
   "source": [
    "# CoronaVac = Sinovac Biotech, Instituto Butantan, Butanta, Butaantan, Fio Cruz, \n",
    "\n",
    "df.loc[df[\"nome_limpo\"].str.contains(\"fundacao_butantan\"), \"nome_limpo\"] = \"Coronavac/Sinovac\"\n",
    "df.loc[df[\"nome_limpo\"].str.contains(\"butaantan\"), \"nome_limpo\"]   = \"Coronavac/Sinovac\"    \n",
    "df.loc[df[\"nome_limpo\"].str.contains('buntantan'), \"nome_limpo\"]   = \"Coronavac/Sinovac\" \n",
    "df.loc[df[\"nome_limpo\"].str.contains(\"butatan\"), \"nome_limpo\"] =  \"Coronavac/Sinovac\"                                    \n",
    "df.loc[df[\"nome_limpo\"].str.contains(\"butantan/sinovac\"), \"nome_limpo\"] = \"Coronavac/Sinovac\"\n",
    "df.loc[df[\"nome_limpo\"].str.contains(\"inst._butantan\"), \"nome_limpo\"] = \"Coronavac/Sinovac\"\n",
    "df.loc[df[\"nome_limpo\"].str.contains(\"sinovac\"), \"nome_limpo\"]    = \"Coronavac/Sinovac\"\n",
    "df.loc[df[\"nome_limpo\"].str.contains(\"coronavac\"), \"nome_limpo\"] = \"Coronavac/Sinovac\"\n",
    "df.loc[df[\"nome_limpo\"].str.contains(\"covid-19_-_coronavac\"), \"nome_limpo\"] = \"Coronavac/Sinovac\"\n",
    "df.loc[df[\"nome_limpo\"].str.contains(\"covid-19 - Coronavac\"), \"nome_limpo\"] = \"Coronavac/Sinovac\"\n",
    "df.loc[df[\"nome_limpo\"].str.contains(\"butantan/_sinovac\"), \"nome_limpo\"] = \"Coronavac/Sinovac\"\n",
    "df.loc[df[\"nome_limpo\"].str.contains(\"sinovac_life_science_co_ltd\"), \"nome_limpo\"] = \"Coronavac/Sinovac\"\n",
    "df.loc[df[\"nome_limpo\"].str.contains(\"sinovac/butantam\"), \"nome_limpo\"] = \"Coronavc/Sinovac\"\n",
    "df.loc[df[\"nome_limpo\"].str.contains(\"butanta/coranavac\"), \"nome-limpo\"] = \"Coronavac/Sinovac\"\n",
    "df.loc[df[\"nome_limpo\"].str.contains(\"astrazeneca_ab\"), \"nome_limpo\"] =  \"Coronavac/Sinovac\"                                                                                         \n",
    "df.loc[df[\"nome_limpo\"].str.contains(\"astrazeneca_fio_cruz\"), \"nome_limpo\"] = \"Coronavac/Sinovac\"                                     \n",
    "df.loc[df[\"nome_limpo\"].str.contains(\"instituto_butantan\"), \"nome_limpo\"] = \"Coronavac/Sinovac\" \n",
    "df.loc[df[\"nome_limpo\"].str.contains(\"butanta\"), \"nome_limpo\"] = \"Coronavac/Sinovac\"  \n",
    "\n",
    "print(\"VAcina Sinovac - OK\")"
   ]
  },
  {
   "cell_type": "code",
   "execution_count": 17,
   "metadata": {},
   "outputs": [
    {
     "name": "stdout",
     "output_type": "stream",
     "text": [
      "Vacina Abbott - Ok\n",
      "Vacina Serum - OK\n",
      "Vacina Chad0x1 - OK\n",
      "Vacina - Janssen - OK\n"
     ]
    }
   ],
   "source": [
    "# Abbott ==> abbott_biologicals_b.v._weesp_-_holanda       \n",
    "\n",
    "df.loc[df[\"nome_limpo\"].str.contains(\"abbot\"), \"nome_limpo\"] = \"abbott\"\n",
    "df.loc[df[\"nome_limpo\"].str.contains('abbott_biologicals_b.v._weesp_-_holanda'), \"nome_limpo\"] = \"abbott\"\n",
    "\n",
    "print(\"Vacina Abbott - Ok\")\n",
    "       \n",
    "# Serum ==> Serum Institute of India\n",
    "                                    \n",
    "df.loc[df[\"nome_limpo\"].str.contains(\"serum\"), \"nome_limpo\"] = \"serum\"\n",
    "df.loc[df[\"nome_limpo\"].str.contains('serum_institute_of_india'), \"nome_limpo\"] = \"serum\"\n",
    "df.loc[df[\"nome_limpo\"].str.contains(\"serum_institute_of_india_ltd.\"), \"nome_limpo\"] = \"serum\"                                    \n",
    "\n",
    "print(\"Vacina Serum - OK\")\n",
    "\n",
    "# Covishield:\n",
    "df.loc[df[\"nome_limpo\"].str.contains(\"covishield\"), \"nome_limpo\"] = \"covishield\" \n",
    "df.loc[df[\"nome_limpo\"].str.contains(\"covid-19_-_covishield\"), \"nome_limpo\"] = \"covishield\"\n",
    "\n",
    "\n",
    "# chadox1:==> ChAdOx1 nCoV-19\n",
    "\n",
    "df.loc[df[\"nome_limpo\"].str.contains(\"covid-19_-_chadox1_ncov-19\"), \"nome_limpo\"] = \"chadox1\"        \n",
    "df.loc[df[\"nome_limpo\"].str.contains(\"chadox\"), \"nome_limpo\"] = \"chadox1\"   \n",
    "\n",
    "print(\"Vacina Chad0x1 - OK\")\n",
    "\n",
    "# Vacina Janssen-Cilag = Jonhson\n",
    "       \n",
    "df.loc[df[\"nome_limpo\"].str.contains(\"janssen\"), \"nome_limpo\"] = \"janssen\"  \n",
    "\n",
    "print(\"Vacina - Janssen - OK\")\n",
    "\n",
    "\n",
    "df.loc[df[\"nome_limpo\"].str.contains('chiron_s.p.a._vaccines'), \"nome_limpo\"] = 'chiron'                                                                    \n",
    "df.loc[df[\"nome_limpo\"].str.contains('behring_gmbh'), \"nome_limpo\"] = 'behring'   \n"
   ]
  },
  {
   "cell_type": "code",
   "execution_count": 18,
   "metadata": {},
   "outputs": [],
   "source": [
    "# Preciso Tratar essas campos 'estranhos' e substituir por \"-\"\n",
    "\n",
    "df.loc[df[\"nome_limpo\"].str.contains(\"wyeth_pharmaceuticals\"), \"nome_limpo\"] = \"-\"\n",
    "df.loc[df[\"nome_limpo\"].str.contains('lg_chemical_investiment_ltd'), \"nome_limpo\"] = \"-\"                                                                       \n",
    "df.loc[df[\"nome_limpo\"].str.contains('intervax_ltda' ), \"nome_limpo\"] = '-'  \n",
    "df.loc[df[\"nome_limpo\"].str.contains('organization/'), \"nome_limpo\"] = \"-\"\n",
    "df.loc[df[\"nome_limpo\"].str.contains('sanofi_pasteur'), \"nome_limpo\"] = \"-\"\n",
    "df.loc[df[\"nome_limpo\"].str.contains('berna_biotech_korea_corporation'), \"nome_limpo\"] = \"-\" \n",
    "df.loc[df[\"nome_limpo\"].str.contains('Display_of_organization/61189445000156'), \"nome_limpo\"] = \"-\"\n",
    "df.loc[df[\"nome_limpo\"].str.contains('Display_of_organization/3378155000135'), \"nome_limpo\"] = \"-\"\n",
    "df.loc[df[\"nome_limpo\"].str.contains('IMTRAMUSCULAR'), \"nome_limpo\"] = \"-\"\n",
    "df.loc[df[\"nome_limpo\"].str.contains('imtramuscular'), \"nome_limpo\"] = \"-\"\n",
    "df.loc[df[\"nome_limpo\"].str.contains('ministerio_da_saude'), \"nome_limpo\"] = \"-\"\n",
    "df.loc[df[\"nome_limpo\"].str.contains('ministerio da saude'), \"nome_limpo\"] = \"-\"\n",
    "                                \n",
    "# Outros:\n",
    "#        'INTERVAX LTDA', \n",
    "#        'MINISTERIO DA SAUDE',\n",
    "#        'Display_of_organization/',\n",
    "#        'berna_biotech_korea_corporation'\n",
    "#        'intervax_ltda',\n",
    " \n",
    "      "
   ]
  },
  {
   "cell_type": "code",
   "execution_count": 19,
   "metadata": {},
   "outputs": [
    {
     "data": {
      "text/plain": [
       "array(['Coronavac/Sinovac', 'astrazeneca', '-', 'serum', 'chadox1',\n",
       "       'pfizer', 'covishield'], dtype=object)"
      ]
     },
     "execution_count": 19,
     "metadata": {},
     "output_type": "execute_result"
    }
   ],
   "source": [
    "\n",
    "df[\"nome_limpo\"].unique()"
   ]
  },
  {
   "cell_type": "markdown",
   "metadata": {},
   "source": [
    "# Agora que o campo \"vacina_fabricante_nome\" está limpo, vamos fazer o gráfico contendo\n",
    "## os nomes dos fabricantes:"
   ]
  },
  {
   "cell_type": "code",
   "execution_count": 22,
   "metadata": {},
   "outputs": [],
   "source": [
    "# Criando um DataFrame test para testar a Datetime\n",
    "\n",
    "test = df\n",
    "\n",
    "test['vacina_dataAplicacao'] = pd.to_datetime(test['vacina_dataAplicacao'], \n",
    "      format = \"%Y-%m-%dT%H:%M:%S\")\n"
   ]
  },
  {
   "cell_type": "markdown",
   "metadata": {},
   "source": [
    "# Criando um Pivot_table onde :\n",
    " ## linhas = datas\n",
    " ## colunas = marca das Vacinas"
   ]
  },
  {
   "cell_type": "code",
   "execution_count": 29,
   "metadata": {},
   "outputs": [],
   "source": [
    "test[\"counters\"] = 1\n",
    "\n",
    "\n",
    "pivot_test = pd.pivot_table(test, \n",
    "                            index = \"vacina_dataAplicacao\", \n",
    "                            columns = \"nome_limpo\",\n",
    "                            values  = \"counters\",\n",
    "                            aggfunc = \"sum\",\n",
    "                            fill_value = 0)\n",
    "\n",
    "pivot_test = pivot_test.reset_index()"
   ]
  },
  {
   "cell_type": "code",
   "execution_count": 14,
   "metadata": {},
   "outputs": [],
   "source": [
    "# Removendo as datas inconsistentes no Banco de Dados:"
   ]
  },
  {
   "cell_type": "code",
   "execution_count": 30,
   "metadata": {},
   "outputs": [],
   "source": [
    "\n",
    "pivot_test = pivot_test.loc[(pivot_test[\"vacina_dataAplicacao\"] >= \"2021-01-19\") & \n",
    "                            (pivot_test[\"vacina_dataAplicacao\"] <  \"2021-05-26\")].reset_index(drop=True)"
   ]
  },
  {
   "cell_type": "code",
   "execution_count": 31,
   "metadata": {},
   "outputs": [
    {
     "data": {
      "text/plain": [
       "nome_limpo\n",
       "-                     3351\n",
       "Coronavac/Sinovac    37725\n",
       "astrazeneca          18384\n",
       "chadox1                 37\n",
       "covishield              19\n",
       "pfizer                 436\n",
       "serum                 1520\n",
       "dtype: int64"
      ]
     },
     "execution_count": 31,
     "metadata": {},
     "output_type": "execute_result"
    }
   ],
   "source": [
    "# pivot_test.sum()\n",
    "\n",
    "pivot_test.sum()\n"
   ]
  },
  {
   "cell_type": "markdown",
   "metadata": {},
   "source": [
    "# Separando os Fabricantes das Vacinas para fazer o Plot:"
   ]
  },
  {
   "cell_type": "code",
   "execution_count": 32,
   "metadata": {},
   "outputs": [],
   "source": [
    "\n",
    "for nome_vacina in pivot_test.columns[1:]:\n",
    "    pivot_test[f\"{nome_vacina}_acumulado\"] = pivot_test[nome_vacina].cumsum()"
   ]
  },
  {
   "cell_type": "markdown",
   "metadata": {},
   "source": [
    "# Fazendo o Plot:"
   ]
  },
  {
   "cell_type": "code",
   "execution_count": 33,
   "metadata": {},
   "outputs": [
    {
     "data": {
      "text/html": [
       "<div>\n",
       "<style scoped>\n",
       "    .dataframe tbody tr th:only-of-type {\n",
       "        vertical-align: middle;\n",
       "    }\n",
       "\n",
       "    .dataframe tbody tr th {\n",
       "        vertical-align: top;\n",
       "    }\n",
       "\n",
       "    .dataframe thead th {\n",
       "        text-align: right;\n",
       "    }\n",
       "</style>\n",
       "<table border=\"1\" class=\"dataframe\">\n",
       "  <thead>\n",
       "    <tr style=\"text-align: right;\">\n",
       "      <th>nome_limpo</th>\n",
       "      <th>vacina_dataAplicacao</th>\n",
       "      <th>-</th>\n",
       "      <th>Coronavac/Sinovac</th>\n",
       "      <th>astrazeneca</th>\n",
       "      <th>chadox1</th>\n",
       "      <th>covishield</th>\n",
       "      <th>pfizer</th>\n",
       "      <th>serum</th>\n",
       "      <th>-_acumulado</th>\n",
       "      <th>Coronavac/Sinovac_acumulado</th>\n",
       "      <th>astrazeneca_acumulado</th>\n",
       "      <th>chadox1_acumulado</th>\n",
       "      <th>covishield_acumulado</th>\n",
       "      <th>pfizer_acumulado</th>\n",
       "      <th>serum_acumulado</th>\n",
       "    </tr>\n",
       "  </thead>\n",
       "  <tbody>\n",
       "    <tr>\n",
       "      <th>0</th>\n",
       "      <td>2021-01-19 00:00:00+00:00</td>\n",
       "      <td>1</td>\n",
       "      <td>63</td>\n",
       "      <td>0</td>\n",
       "      <td>0</td>\n",
       "      <td>0</td>\n",
       "      <td>0</td>\n",
       "      <td>4</td>\n",
       "      <td>1</td>\n",
       "      <td>63</td>\n",
       "      <td>0</td>\n",
       "      <td>0</td>\n",
       "      <td>0</td>\n",
       "      <td>0</td>\n",
       "      <td>4</td>\n",
       "    </tr>\n",
       "    <tr>\n",
       "      <th>1</th>\n",
       "      <td>2021-01-19 03:00:00+00:00</td>\n",
       "      <td>0</td>\n",
       "      <td>1</td>\n",
       "      <td>0</td>\n",
       "      <td>0</td>\n",
       "      <td>0</td>\n",
       "      <td>0</td>\n",
       "      <td>0</td>\n",
       "      <td>1</td>\n",
       "      <td>64</td>\n",
       "      <td>0</td>\n",
       "      <td>0</td>\n",
       "      <td>0</td>\n",
       "      <td>0</td>\n",
       "      <td>4</td>\n",
       "    </tr>\n",
       "    <tr>\n",
       "      <th>2</th>\n",
       "      <td>2021-01-20 00:00:00+00:00</td>\n",
       "      <td>2</td>\n",
       "      <td>338</td>\n",
       "      <td>0</td>\n",
       "      <td>0</td>\n",
       "      <td>0</td>\n",
       "      <td>0</td>\n",
       "      <td>10</td>\n",
       "      <td>3</td>\n",
       "      <td>402</td>\n",
       "      <td>0</td>\n",
       "      <td>0</td>\n",
       "      <td>0</td>\n",
       "      <td>0</td>\n",
       "      <td>14</td>\n",
       "    </tr>\n",
       "    <tr>\n",
       "      <th>3</th>\n",
       "      <td>2021-01-20 03:00:00+00:00</td>\n",
       "      <td>0</td>\n",
       "      <td>3</td>\n",
       "      <td>0</td>\n",
       "      <td>0</td>\n",
       "      <td>0</td>\n",
       "      <td>0</td>\n",
       "      <td>0</td>\n",
       "      <td>3</td>\n",
       "      <td>405</td>\n",
       "      <td>0</td>\n",
       "      <td>0</td>\n",
       "      <td>0</td>\n",
       "      <td>0</td>\n",
       "      <td>14</td>\n",
       "    </tr>\n",
       "    <tr>\n",
       "      <th>4</th>\n",
       "      <td>2021-01-20 12:15:50+00:00</td>\n",
       "      <td>0</td>\n",
       "      <td>1</td>\n",
       "      <td>0</td>\n",
       "      <td>0</td>\n",
       "      <td>0</td>\n",
       "      <td>0</td>\n",
       "      <td>0</td>\n",
       "      <td>3</td>\n",
       "      <td>406</td>\n",
       "      <td>0</td>\n",
       "      <td>0</td>\n",
       "      <td>0</td>\n",
       "      <td>0</td>\n",
       "      <td>14</td>\n",
       "    </tr>\n",
       "    <tr>\n",
       "      <th>...</th>\n",
       "      <td>...</td>\n",
       "      <td>...</td>\n",
       "      <td>...</td>\n",
       "      <td>...</td>\n",
       "      <td>...</td>\n",
       "      <td>...</td>\n",
       "      <td>...</td>\n",
       "      <td>...</td>\n",
       "      <td>...</td>\n",
       "      <td>...</td>\n",
       "      <td>...</td>\n",
       "      <td>...</td>\n",
       "      <td>...</td>\n",
       "      <td>...</td>\n",
       "      <td>...</td>\n",
       "    </tr>\n",
       "    <tr>\n",
       "      <th>158</th>\n",
       "      <td>2021-05-21 00:00:00+00:00</td>\n",
       "      <td>73</td>\n",
       "      <td>129</td>\n",
       "      <td>286</td>\n",
       "      <td>0</td>\n",
       "      <td>0</td>\n",
       "      <td>13</td>\n",
       "      <td>2</td>\n",
       "      <td>3110</td>\n",
       "      <td>37532</td>\n",
       "      <td>17667</td>\n",
       "      <td>37</td>\n",
       "      <td>19</td>\n",
       "      <td>373</td>\n",
       "      <td>1520</td>\n",
       "    </tr>\n",
       "    <tr>\n",
       "      <th>159</th>\n",
       "      <td>2021-05-22 00:00:00+00:00</td>\n",
       "      <td>62</td>\n",
       "      <td>49</td>\n",
       "      <td>202</td>\n",
       "      <td>0</td>\n",
       "      <td>0</td>\n",
       "      <td>13</td>\n",
       "      <td>0</td>\n",
       "      <td>3172</td>\n",
       "      <td>37581</td>\n",
       "      <td>17869</td>\n",
       "      <td>37</td>\n",
       "      <td>19</td>\n",
       "      <td>386</td>\n",
       "      <td>1520</td>\n",
       "    </tr>\n",
       "    <tr>\n",
       "      <th>160</th>\n",
       "      <td>2021-05-23 00:00:00+00:00</td>\n",
       "      <td>8</td>\n",
       "      <td>13</td>\n",
       "      <td>21</td>\n",
       "      <td>0</td>\n",
       "      <td>0</td>\n",
       "      <td>0</td>\n",
       "      <td>0</td>\n",
       "      <td>3180</td>\n",
       "      <td>37594</td>\n",
       "      <td>17890</td>\n",
       "      <td>37</td>\n",
       "      <td>19</td>\n",
       "      <td>386</td>\n",
       "      <td>1520</td>\n",
       "    </tr>\n",
       "    <tr>\n",
       "      <th>161</th>\n",
       "      <td>2021-05-24 00:00:00+00:00</td>\n",
       "      <td>82</td>\n",
       "      <td>73</td>\n",
       "      <td>297</td>\n",
       "      <td>0</td>\n",
       "      <td>0</td>\n",
       "      <td>6</td>\n",
       "      <td>0</td>\n",
       "      <td>3262</td>\n",
       "      <td>37667</td>\n",
       "      <td>18187</td>\n",
       "      <td>37</td>\n",
       "      <td>19</td>\n",
       "      <td>392</td>\n",
       "      <td>1520</td>\n",
       "    </tr>\n",
       "    <tr>\n",
       "      <th>162</th>\n",
       "      <td>2021-05-25 00:00:00+00:00</td>\n",
       "      <td>89</td>\n",
       "      <td>58</td>\n",
       "      <td>197</td>\n",
       "      <td>0</td>\n",
       "      <td>0</td>\n",
       "      <td>44</td>\n",
       "      <td>0</td>\n",
       "      <td>3351</td>\n",
       "      <td>37725</td>\n",
       "      <td>18384</td>\n",
       "      <td>37</td>\n",
       "      <td>19</td>\n",
       "      <td>436</td>\n",
       "      <td>1520</td>\n",
       "    </tr>\n",
       "  </tbody>\n",
       "</table>\n",
       "<p>163 rows × 15 columns</p>\n",
       "</div>"
      ],
      "text/plain": [
       "nome_limpo      vacina_dataAplicacao   -  Coronavac/Sinovac  astrazeneca  \\\n",
       "0          2021-01-19 00:00:00+00:00   1                 63            0   \n",
       "1          2021-01-19 03:00:00+00:00   0                  1            0   \n",
       "2          2021-01-20 00:00:00+00:00   2                338            0   \n",
       "3          2021-01-20 03:00:00+00:00   0                  3            0   \n",
       "4          2021-01-20 12:15:50+00:00   0                  1            0   \n",
       "..                               ...  ..                ...          ...   \n",
       "158        2021-05-21 00:00:00+00:00  73                129          286   \n",
       "159        2021-05-22 00:00:00+00:00  62                 49          202   \n",
       "160        2021-05-23 00:00:00+00:00   8                 13           21   \n",
       "161        2021-05-24 00:00:00+00:00  82                 73          297   \n",
       "162        2021-05-25 00:00:00+00:00  89                 58          197   \n",
       "\n",
       "nome_limpo  chadox1  covishield  pfizer  serum  -_acumulado  \\\n",
       "0                 0           0       0      4            1   \n",
       "1                 0           0       0      0            1   \n",
       "2                 0           0       0     10            3   \n",
       "3                 0           0       0      0            3   \n",
       "4                 0           0       0      0            3   \n",
       "..              ...         ...     ...    ...          ...   \n",
       "158               0           0      13      2         3110   \n",
       "159               0           0      13      0         3172   \n",
       "160               0           0       0      0         3180   \n",
       "161               0           0       6      0         3262   \n",
       "162               0           0      44      0         3351   \n",
       "\n",
       "nome_limpo  Coronavac/Sinovac_acumulado  astrazeneca_acumulado  \\\n",
       "0                                    63                      0   \n",
       "1                                    64                      0   \n",
       "2                                   402                      0   \n",
       "3                                   405                      0   \n",
       "4                                   406                      0   \n",
       "..                                  ...                    ...   \n",
       "158                               37532                  17667   \n",
       "159                               37581                  17869   \n",
       "160                               37594                  17890   \n",
       "161                               37667                  18187   \n",
       "162                               37725                  18384   \n",
       "\n",
       "nome_limpo  chadox1_acumulado  covishield_acumulado  pfizer_acumulado  \\\n",
       "0                           0                     0                 0   \n",
       "1                           0                     0                 0   \n",
       "2                           0                     0                 0   \n",
       "3                           0                     0                 0   \n",
       "4                           0                     0                 0   \n",
       "..                        ...                   ...               ...   \n",
       "158                        37                    19               373   \n",
       "159                        37                    19               386   \n",
       "160                        37                    19               386   \n",
       "161                        37                    19               392   \n",
       "162                        37                    19               436   \n",
       "\n",
       "nome_limpo  serum_acumulado  \n",
       "0                         4  \n",
       "1                         4  \n",
       "2                        14  \n",
       "3                        14  \n",
       "4                        14  \n",
       "..                      ...  \n",
       "158                    1520  \n",
       "159                    1520  \n",
       "160                    1520  \n",
       "161                    1520  \n",
       "162                    1520  \n",
       "\n",
       "[163 rows x 15 columns]"
      ]
     },
     "execution_count": 33,
     "metadata": {},
     "output_type": "execute_result"
    }
   ],
   "source": [
    "pivot_test"
   ]
  },
  {
   "cell_type": "code",
   "execution_count": 34,
   "metadata": {},
   "outputs": [
    {
     "data": {
      "text/plain": [
       "<matplotlib.legend.Legend at 0x7fd4f8c7d940>"
      ]
     },
     "execution_count": 34,
     "metadata": {},
     "output_type": "execute_result"
    },
    {
     "data": {
      "image/png": "[encoded data removed]",
      "text/plain": [
       "<Figure size 720x360 with 1 Axes>"
      ]
     },
     "metadata": {},
     "output_type": "display_data"
    }
   ],
   "source": [
    "columns_to_plot = [w for w in pivot_test.columns if \"acumulado\" in w]\n",
    "\n",
    "(pivot_test\n",
    " .set_index(\"vacina_dataAplicacao\")\n",
    " .loc[:, columns_to_plot]\n",
    " .plot(kind=\"area\", stacked=True, figsize=(10,5), alpha=.5))\n",
    "\n",
    "plt.title('VACINAS APILICADAS NO BRASIL')\n",
    "\n",
    "# Somente tirando a legenda para fora do gráfico\n",
    "plt.legend(loc=\"upper left\", bbox_to_anchor=(1.05, 1))"
   ]
  },
  {
   "cell_type": "code",
   "execution_count": null,
   "metadata": {},
   "outputs": [],
   "source": []
  },
  {
   "cell_type": "code",
   "execution_count": null,
   "metadata": {},
   "outputs": [],
   "source": []
  },
  {
   "cell_type": "code",
   "execution_count": null,
   "metadata": {},
   "outputs": [],
   "source": [
    "    "
   ]
  },
  {
   "cell_type": "code",
   "execution_count": null,
   "metadata": {},
   "outputs": [],
   "source": []
  },
  {
   "cell_type": "code",
   "execution_count": null,
   "metadata": {},
   "outputs": [],
   "source": []
  },
  {
   "cell_type": "code",
   "execution_count": null,
   "metadata": {},
   "outputs": [],
   "source": []
  },
  {
   "cell_type": "code",
   "execution_count": null,
   "metadata": {},
   "outputs": [],
   "source": []
  },
  {
   "cell_type": "code",
   "execution_count": null,
   "metadata": {},
   "outputs": [],
   "source": []
  }
 ],
 "metadata": {
  "kernelspec": {
   "display_name": "Python 3",
   "language": "python",
   "name": "python3"
  },
  "language_info": {
   "codemirror_mode": {
    "name": "ipython",
    "version": 3
   },
   "file_extension": ".py",
   "mimetype": "text/x-python",
   "name": "python",
   "nbconvert_exporter": "python",
   "pygments_lexer": "ipython3",
   "version": "3.8.5"
  }
 },
 "nbformat": 4,
 "nbformat_minor": 4
}
