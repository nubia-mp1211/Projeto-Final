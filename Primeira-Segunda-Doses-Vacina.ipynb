{
 "cells": [
  {
   "cell_type": "markdown",
   "metadata": {},
   "source": [
    "# Este programa faz uma análise do campo \"vacina_descricao_dose\"\n",
    "# para identificar se é a 1. Dose ou já e a 2.Dose da vacina\n",
    "# contra a COVID-19\n"
   ]
  },
  {
   "cell_type": "code",
   "execution_count": 1,
   "metadata": {},
   "outputs": [],
   "source": [
    "# Importar bibliotecas importantes:\n",
    "\n",
    "\n",
    "import csv\n",
    "import time\n",
    "import requests \n",
    "import matplotlib.pyplot as plt\n",
    "import pandas as pd\n",
    "import numpy  as np\n",
    "\n",
    "\n",
    "# Tratando a data de aplicacao da vacina\n",
    "\n",
    "from datetime import datetime\n",
    "\n",
    "# Biblioteca de Plots:\n",
    "import seaborn as sns\n",
    "sns.set()\n",
    "\n",
    "\n",
    "# Leitura do arquivo de Vacinacao completo selecionando alguns\n",
    "# campos para pesquisa:\n",
    "\n",
    "\n",
    "df = pd.read_csv(\"BD_Amostra-Alguns-26-05-2021.csv\", sep=\";\")\n",
    "usecols = ['vacina_fabricante_nome',\n",
    "                 'paciente_idade',\n",
    "                 'paciente_id',\n",
    "                 'vacina_dataAplicacao',\n",
    "                 'paciente_endereco_uf',\n",
    "                 'vacina_descricao_dose']\n",
    "\n",
    "                 \n",
    "\n",
    "                 "
   ]
  },
  {
   "cell_type": "markdown",
   "metadata": {},
   "source": [
    "# Tratando o campo \"vacina_dataAplicacao\"  para verificar a data de\n",
    "## aplicação da Vacina Primeira Dose e se após um tempo tomou a \n",
    "## Segunda Dose:"
   ]
  },
  {
   "cell_type": "code",
   "execution_count": 2,
   "metadata": {},
   "outputs": [
    {
     "data": {
      "text/plain": [
       "array(['\\xa0\\xa0\\xa0\\xa01ª\\xa0Dose', '\\xa0\\xa0\\xa0\\xa02ª\\xa0Dose',\n",
       "       '1ª Dose', '2ª Dose', 'Única'], dtype=object)"
      ]
     },
     "execution_count": 2,
     "metadata": {},
     "output_type": "execute_result"
    }
   ],
   "source": [
    "#Verificar o conteúdo do campo \"vacina_descricao_dose\"\n",
    "\n",
    "df[\"vacina_descricao_dose\"].unique()"
   ]
  },
  {
   "cell_type": "code",
   "execution_count": null,
   "metadata": {},
   "outputs": [],
   "source": []
  },
  {
   "cell_type": "code",
   "execution_count": 3,
   "metadata": {},
   "outputs": [],
   "source": [
    "# Fazendo uma limpeza do campo \"vacina_descricao_dose\":\n",
    "\n",
    "# 1) Transformando todos as linhas como Minuúsculas\n",
    "# 2) Quando aparecer Null (NaN) substitui-se por \"-\"\n",
    "# 3) Tratando todos os caracteres ASCII \n",
    "\n",
    "df[\"vacina_descricao_dose\"] = (df[\"vacina_descricao_dose\"]\n",
    "                                 .str.lower()\n",
    "                                 .str.normalize(\"NFKD\")\n",
    "                                 .str.lstrip()\n",
    "                                 .str.replace(\" \",\"_\")\n",
    "                                 .str.encode(\"ascii\", errors=\"ignore\")\n",
    "                                 .str.decode(\"utf-8\"))\n"
   ]
  },
  {
   "cell_type": "code",
   "execution_count": null,
   "metadata": {},
   "outputs": [],
   "source": []
  },
  {
   "cell_type": "code",
   "execution_count": 4,
   "metadata": {},
   "outputs": [
    {
     "data": {
      "text/plain": [
       "array(['1a_dose', '2a_dose', 'unica'], dtype=object)"
      ]
     },
     "execution_count": 4,
     "metadata": {},
     "output_type": "execute_result"
    }
   ],
   "source": [
    "df[\"vacina_descricao_dose\"].unique()\n"
   ]
  },
  {
   "cell_type": "code",
   "execution_count": 5,
   "metadata": {},
   "outputs": [
    {
     "data": {
      "text/plain": [
       "(61478, 6)"
      ]
     },
     "execution_count": 5,
     "metadata": {},
     "output_type": "execute_result"
    }
   ],
   "source": [
    "df.shape"
   ]
  },
  {
   "cell_type": "code",
   "execution_count": 6,
   "metadata": {},
   "outputs": [
    {
     "data": {
      "text/plain": [
       "1a_dose    42101\n",
       "2a_dose    19376\n",
       "unica          1\n",
       "Name: vacina_descricao_dose, dtype: int64"
      ]
     },
     "execution_count": 6,
     "metadata": {},
     "output_type": "execute_result"
    }
   ],
   "source": [
    "# Mostra a quantidade de vacinados com a 1a_dose e 2a_dose'\n",
    "\n",
    "df[\"vacina_descricao_dose\"].value_counts()\n"
   ]
  },
  {
   "cell_type": "code",
   "execution_count": 7,
   "metadata": {},
   "outputs": [
    {
     "data": {
      "text/plain": [
       "<AxesSubplot:>"
      ]
     },
     "execution_count": 7,
     "metadata": {},
     "output_type": "execute_result"
    },
    {
     "data": {
      "image/png": "[encoded data removed]",
      "text/plain": [
       "<Figure size 432x288 with 1 Axes>"
      ]
     },
     "metadata": {},
     "output_type": "display_data"
    }
   ],
   "source": [
    "df['vacina_descricao_dose'].hist(bins=30)"
   ]
  },
  {
   "cell_type": "markdown",
   "metadata": {},
   "source": [
    "# Criando um Pivot table para calcular pessoas vacinadas\n",
    "## com a 1. dose e 2. dose"
   ]
  },
  {
   "cell_type": "code",
   "execution_count": 8,
   "metadata": {},
   "outputs": [],
   "source": [
    "test = df\n",
    "\n",
    "doses_pivot = pd.pivot_table(data = test,\n",
    "                            index = \"paciente_id\",\n",
    "                            columns = \"vacina_descricao_dose\",\n",
    "                            values = \"vacina_dataAplicacao\",\n",
    "                            aggfunc = \"count\",\n",
    "                            fill_value = np.nan)\n"
   ]
  },
  {
   "cell_type": "code",
   "execution_count": 9,
   "metadata": {},
   "outputs": [
    {
     "name": "stdout",
     "output_type": "stream",
     "text": [
      "Criando o doses_pivot...\n"
     ]
    },
    {
     "data": {
      "text/html": [
       "<div>\n",
       "<style scoped>\n",
       "    .dataframe tbody tr th:only-of-type {\n",
       "        vertical-align: middle;\n",
       "    }\n",
       "\n",
       "    .dataframe tbody tr th {\n",
       "        vertical-align: top;\n",
       "    }\n",
       "\n",
       "    .dataframe thead th {\n",
       "        text-align: right;\n",
       "    }\n",
       "</style>\n",
       "<table border=\"1\" class=\"dataframe\">\n",
       "  <thead>\n",
       "    <tr style=\"text-align: right;\">\n",
       "      <th>vacina_descricao_dose</th>\n",
       "      <th>1a_dose</th>\n",
       "      <th>2a_dose</th>\n",
       "      <th>unica</th>\n",
       "    </tr>\n",
       "    <tr>\n",
       "      <th>paciente_id</th>\n",
       "      <th></th>\n",
       "      <th></th>\n",
       "      <th></th>\n",
       "    </tr>\n",
       "  </thead>\n",
       "  <tbody>\n",
       "    <tr>\n",
       "      <th>109c0ac7533b5538b549cddc3a642c7f7e0501c6e448e2e8b831cec9fc281fe9</th>\n",
       "      <td>1.0</td>\n",
       "      <td>1.0</td>\n",
       "      <td>NaN</td>\n",
       "    </tr>\n",
       "    <tr>\n",
       "      <th>15317ebb6e68cecbc04c113b4863f4d7e578f53027c0dd76c1c78c990da05af4</th>\n",
       "      <td>1.0</td>\n",
       "      <td>1.0</td>\n",
       "      <td>NaN</td>\n",
       "    </tr>\n",
       "    <tr>\n",
       "      <th>2429727e4d07619c4f9558a82bc666ba684c3ef60e2b796ec9fbe95610ca1da9</th>\n",
       "      <td>1.0</td>\n",
       "      <td>1.0</td>\n",
       "      <td>NaN</td>\n",
       "    </tr>\n",
       "    <tr>\n",
       "      <th>28d2f1bbcb30fd0112215342118dca96ceb7f48b4767d4706022869be40022c0</th>\n",
       "      <td>1.0</td>\n",
       "      <td>1.0</td>\n",
       "      <td>NaN</td>\n",
       "    </tr>\n",
       "    <tr>\n",
       "      <th>2b6860c88489fee6dd2d844d307f434cb7ab53125ac36387596afb8ee313fbec</th>\n",
       "      <td>1.0</td>\n",
       "      <td>1.0</td>\n",
       "      <td>NaN</td>\n",
       "    </tr>\n",
       "    <tr>\n",
       "      <th>2d4a5c1e86ccb29469eb0ec5d5eb90db5dfcdd28cb293bcb83b39b20895c4e69</th>\n",
       "      <td>1.0</td>\n",
       "      <td>1.0</td>\n",
       "      <td>NaN</td>\n",
       "    </tr>\n",
       "    <tr>\n",
       "      <th>35f8193639adab66772a08d55c7243aaabfe80d9de3c247a6be8ecfe4b7f7747</th>\n",
       "      <td>1.0</td>\n",
       "      <td>1.0</td>\n",
       "      <td>NaN</td>\n",
       "    </tr>\n",
       "    <tr>\n",
       "      <th>37076edd2dee809de71f96a8b7c695591a79be2e9b9c85bb7392ece735273bcf</th>\n",
       "      <td>1.0</td>\n",
       "      <td>1.0</td>\n",
       "      <td>NaN</td>\n",
       "    </tr>\n",
       "    <tr>\n",
       "      <th>38e50de9ebed1ec12ce43d2484d2922c92c8414236775914ed5bc03ed3835394</th>\n",
       "      <td>1.0</td>\n",
       "      <td>1.0</td>\n",
       "      <td>NaN</td>\n",
       "    </tr>\n",
       "    <tr>\n",
       "      <th>4596b3f44877fd99f333ffc0d268e7c1232baba9268009e6e113697f57924a89</th>\n",
       "      <td>1.0</td>\n",
       "      <td>1.0</td>\n",
       "      <td>NaN</td>\n",
       "    </tr>\n",
       "    <tr>\n",
       "      <th>4a59b462cd8d29c827b94fde9b29cf7981b62e7b4aece49966967df79df4d6f6</th>\n",
       "      <td>1.0</td>\n",
       "      <td>1.0</td>\n",
       "      <td>NaN</td>\n",
       "    </tr>\n",
       "    <tr>\n",
       "      <th>6c62b4b30f72b5dea26d914c5ede09ec6d75e4bbe8f01bac4242a7cdc10f14c3</th>\n",
       "      <td>108.0</td>\n",
       "      <td>91.0</td>\n",
       "      <td>NaN</td>\n",
       "    </tr>\n",
       "    <tr>\n",
       "      <th>72f8db2a512b72835134012cf10d634135e5b6b8388f2791b8281b86e888e4b0</th>\n",
       "      <td>1.0</td>\n",
       "      <td>1.0</td>\n",
       "      <td>NaN</td>\n",
       "    </tr>\n",
       "    <tr>\n",
       "      <th>7b24f29dd39c72fab828aaa4d48b31ac7f21cf7a4719e4fe28744222c66eef13</th>\n",
       "      <td>1.0</td>\n",
       "      <td>1.0</td>\n",
       "      <td>NaN</td>\n",
       "    </tr>\n",
       "    <tr>\n",
       "      <th>a44b57261beefcb0936e7a4e205b3db8d56d7c6f75584d9dd4f43da4551edd38</th>\n",
       "      <td>1.0</td>\n",
       "      <td>1.0</td>\n",
       "      <td>NaN</td>\n",
       "    </tr>\n",
       "    <tr>\n",
       "      <th>ad4fe200e96e1e3d206d2ba3a496288b1be3cc0e552c3a8c42b245e5adb08dae</th>\n",
       "      <td>1.0</td>\n",
       "      <td>1.0</td>\n",
       "      <td>NaN</td>\n",
       "    </tr>\n",
       "    <tr>\n",
       "      <th>b05445436774e2f03e5dbeea8538c9cfc5c6d42a3bfe2574cdc4135636f394b8</th>\n",
       "      <td>1.0</td>\n",
       "      <td>1.0</td>\n",
       "      <td>NaN</td>\n",
       "    </tr>\n",
       "    <tr>\n",
       "      <th>b68ab7ca2d842768b9fe74b07f18458360248718d54cd939a4c7a2c2096b8a4f</th>\n",
       "      <td>1.0</td>\n",
       "      <td>1.0</td>\n",
       "      <td>NaN</td>\n",
       "    </tr>\n",
       "    <tr>\n",
       "      <th>bad17e3165b23c60aab668c56faf1abc2b3745bdfe74c454c41b648b7cd30dae</th>\n",
       "      <td>1.0</td>\n",
       "      <td>1.0</td>\n",
       "      <td>NaN</td>\n",
       "    </tr>\n",
       "    <tr>\n",
       "      <th>e18b22f6b28f1e818d7b4c3075463f6c350ee29bb8292a6ed6318795b6383ee6</th>\n",
       "      <td>1.0</td>\n",
       "      <td>1.0</td>\n",
       "      <td>NaN</td>\n",
       "    </tr>\n",
       "    <tr>\n",
       "      <th>e2bac2f8e9bd31dc258dcce1de4a86464365df6f0c05f235b35b736ab21735ed</th>\n",
       "      <td>1.0</td>\n",
       "      <td>1.0</td>\n",
       "      <td>NaN</td>\n",
       "    </tr>\n",
       "  </tbody>\n",
       "</table>\n",
       "</div>"
      ],
      "text/plain": [
       "vacina_descricao_dose                               1a_dose  2a_dose  unica\n",
       "paciente_id                                                                \n",
       "109c0ac7533b5538b549cddc3a642c7f7e0501c6e448e2e...      1.0      1.0    NaN\n",
       "15317ebb6e68cecbc04c113b4863f4d7e578f53027c0dd7...      1.0      1.0    NaN\n",
       "2429727e4d07619c4f9558a82bc666ba684c3ef60e2b796...      1.0      1.0    NaN\n",
       "28d2f1bbcb30fd0112215342118dca96ceb7f48b4767d47...      1.0      1.0    NaN\n",
       "2b6860c88489fee6dd2d844d307f434cb7ab53125ac3638...      1.0      1.0    NaN\n",
       "2d4a5c1e86ccb29469eb0ec5d5eb90db5dfcdd28cb293bc...      1.0      1.0    NaN\n",
       "35f8193639adab66772a08d55c7243aaabfe80d9de3c247...      1.0      1.0    NaN\n",
       "37076edd2dee809de71f96a8b7c695591a79be2e9b9c85b...      1.0      1.0    NaN\n",
       "38e50de9ebed1ec12ce43d2484d2922c92c841423677591...      1.0      1.0    NaN\n",
       "4596b3f44877fd99f333ffc0d268e7c1232baba9268009e...      1.0      1.0    NaN\n",
       "4a59b462cd8d29c827b94fde9b29cf7981b62e7b4aece49...      1.0      1.0    NaN\n",
       "6c62b4b30f72b5dea26d914c5ede09ec6d75e4bbe8f01ba...    108.0     91.0    NaN\n",
       "72f8db2a512b72835134012cf10d634135e5b6b8388f279...      1.0      1.0    NaN\n",
       "7b24f29dd39c72fab828aaa4d48b31ac7f21cf7a4719e4f...      1.0      1.0    NaN\n",
       "a44b57261beefcb0936e7a4e205b3db8d56d7c6f75584d9...      1.0      1.0    NaN\n",
       "ad4fe200e96e1e3d206d2ba3a496288b1be3cc0e552c3a8...      1.0      1.0    NaN\n",
       "b05445436774e2f03e5dbeea8538c9cfc5c6d42a3bfe257...      1.0      1.0    NaN\n",
       "b68ab7ca2d842768b9fe74b07f18458360248718d54cd93...      1.0      1.0    NaN\n",
       "bad17e3165b23c60aab668c56faf1abc2b3745bdfe74c45...      1.0      1.0    NaN\n",
       "e18b22f6b28f1e818d7b4c3075463f6c350ee29bb8292a6...      1.0      1.0    NaN\n",
       "e2bac2f8e9bd31dc258dcce1de4a86464365df6f0c05f23...      1.0      1.0    NaN"
      ]
     },
     "execution_count": 9,
     "metadata": {},
     "output_type": "execute_result"
    }
   ],
   "source": [
    "#Tomaram primeira e segunda dose:\n",
    "# Aqueles que nao sao nulos para segunda dose e para primeira dose:\n",
    "\n",
    "\n",
    "print(\"Criando o doses_pivot...\")\n",
    "\n",
    "doses_pivot.loc[(~doses_pivot[\"2a_dose\"].isnull()) & \n",
    "                (~doses_pivot[\"1a_dose\"].isnull())]\n"
   ]
  },
  {
   "cell_type": "markdown",
   "metadata": {},
   "source": [
    "# Tomaram primeira e segunda dose:\n",
    "# Aqueles que nao sao nulos para segunda dose e para primeira dose:\n",
    "\n"
   ]
  },
  {
   "cell_type": "code",
   "execution_count": 12,
   "metadata": {},
   "outputs": [
    {
     "data": {
      "text/plain": [
       "<AxesSubplot:title={'center':'Vacinados no Brasil'}, xlabel='vacina_descricao_dose', ylabel='Count'>"
      ]
     },
     "execution_count": 12,
     "metadata": {},
     "output_type": "execute_result"
    },
    {
     "data": {
      "image/png": "[encoded data removed]",
      "text/plain": [
       "<Figure size 720x720 with 1 Axes>"
      ]
     },
     "metadata": {},
     "output_type": "display_data"
    }
   ],
   "source": [
    "fig = plt.figure(figsize = (10,10))\n",
    "\n",
    "\n",
    "plt.title(\"Vacinados no Brasil\")\n",
    "\n",
    "sns.histplot(data=test, x=\"vacina_descricao_dose\", kde=True)"
   ]
  },
  {
   "cell_type": "code",
   "execution_count": 11,
   "metadata": {},
   "outputs": [
    {
     "data": {
      "text/plain": [
       "<AxesSubplot:xlabel='vacina_descricao_dose', ylabel='count'>"
      ]
     },
     "execution_count": 11,
     "metadata": {},
     "output_type": "execute_result"
    },
    {
     "data": {
      "image/png": "[encoded data removed]",
      "text/plain": [
       "<Figure size 720x432 with 1 Axes>"
      ]
     },
     "metadata": {},
     "output_type": "display_data"
    }
   ],
   "source": [
    "plt.figure(figsize = (10,6))\n",
    "sns.countplot(data=test, x = \"vacina_descricao_dose\")"
   ]
  }
 ],
 "metadata": {
  "kernelspec": {
   "display_name": "Python 3",
   "language": "python",
   "name": "python3"
  },
  "language_info": {
   "codemirror_mode": {
    "name": "ipython",
    "version": 3
   },
   "file_extension": ".py",
   "mimetype": "text/x-python",
   "name": "python",
   "nbconvert_exporter": "python",
   "pygments_lexer": "ipython3",
   "version": "3.8.5"
  }
 },
 "nbformat": 4,
 "nbformat_minor": 4
}
