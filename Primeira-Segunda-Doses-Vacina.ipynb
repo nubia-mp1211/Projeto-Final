{
 "cells": [
  {
   "cell_type": "markdown",
   "metadata": {},
   "source": [
    "# Este programa faz uma análise do campo \"vacina_descricao_dose\"\n",
    "# para identificar se é a 1. Dose ou já e a 2.Dose da vacina\n",
    "# contra a COVID-19\n"
   ]
  },
  {
   "cell_type": "code",
   "execution_count": 1,
   "metadata": {},
   "outputs": [],
   "source": [
    "# Importar bibliotecas importantes:\n",
    "\n",
    "import matplotlib.pyplot as plt\n",
    "import pandas as pd\n",
    "import numpy  as np\n",
    "import requests \n",
    "\n",
    "# Tratando a data de aplicacao da vacina\n",
    "\n",
    "import time\n",
    "from datetime import datetime\n",
    "import csv\n",
    "\n",
    "import seaborn as sns\n",
    "sns.set()\n",
    "\n",
    "\n",
    "# Leitura do arquivo de Vacinacao completo selecionando alguns\n",
    "# campos para pesquisa:\n",
    "\n",
    "\n",
    "df = pd.read_csv(\"BD_Vacina_Amostra-06-05-2021.csv\", sep=\";\")\n",
    "usecols = ['vacina_fabricante_nome',\n",
    "                 'paciente_idade',\n",
    "                 'paciente_id',\n",
    "                 'vacina_dataAplicacao',\n",
    "                 'paciente_endereco_uf',\n",
    "                 'vacina_descricao_dose']\n",
    "\n",
    "                 \n",
    "\n",
    "                 "
   ]
  },
  {
   "cell_type": "markdown",
   "metadata": {},
   "source": [
    "# Tratando o campo \"vacina_dataAplicacao\"  para verificar a data de\n",
    "# aplicação da Vacina Primeira Dose e se após um tempo tomou a \n",
    "# Segunda Dose:"
   ]
  },
  {
   "cell_type": "code",
   "execution_count": 2,
   "metadata": {},
   "outputs": [
    {
     "data": {
      "text/plain": [
       "array(['\\xa0\\xa0\\xa0\\xa02ª\\xa0Dose', '\\xa0\\xa0\\xa0\\xa01ª\\xa0Dose'],\n",
       "      dtype=object)"
      ]
     },
     "execution_count": 2,
     "metadata": {},
     "output_type": "execute_result"
    }
   ],
   "source": [
    "#Verificar o conteúdo do campo \"vacina_descricao_dose\"\n",
    "\n",
    "df[\"vacina_descricao_dose\"].unique()"
   ]
  },
  {
   "cell_type": "code",
   "execution_count": null,
   "metadata": {},
   "outputs": [],
   "source": [
    "# Fazendo uma limpeza do campo \"vacina_descricao_dose\"\n",
    "# Cria um campo de \"copia_vacia_dose\"\n"
   ]
  },
  {
   "cell_type": "code",
   "execution_count": null,
   "metadata": {},
   "outputs": [],
   "source": []
  },
  {
   "cell_type": "code",
   "execution_count": 40,
   "metadata": {},
   "outputs": [],
   "source": [
    "# Fazendo uma limpeza do campo \"vacina_descricao_dose\":\n",
    "\n",
    "# 1) Transformando todos as linhas como Minuúsculas\n",
    "# 2) Quando aparecer Null (NaN) substitui-se por \"-\"\n",
    "# 3) Tratando todos os caracteres ASCII \n",
    "\n",
    "df[\"vacina_descricao_dose\"] = (df[\"vacina_descricao_dose\"]\n",
    "                                 .str.lower()\n",
    "                                 .str.normalize(\"NFKD\")\n",
    "                                 .str.lstrip()\n",
    "                                 .str.replace(\" \",\"_\")\n",
    "                                 .str.encode(\"ascii\", errors=\"ignore\")\n",
    "                                 .str.decode(\"utf-8\"))\n"
   ]
  },
  {
   "cell_type": "code",
   "execution_count": null,
   "metadata": {},
   "outputs": [],
   "source": []
  },
  {
   "cell_type": "code",
   "execution_count": 41,
   "metadata": {},
   "outputs": [
    {
     "data": {
      "text/plain": [
       "array(['2a_dose', '1a_dose'], dtype=object)"
      ]
     },
     "execution_count": 41,
     "metadata": {},
     "output_type": "execute_result"
    }
   ],
   "source": [
    "df[\"vacina_descricao_dose\"].unique()\n"
   ]
  },
  {
   "cell_type": "code",
   "execution_count": 38,
   "metadata": {},
   "outputs": [
    {
     "data": {
      "text/plain": [
       "(494, 33)"
      ]
     },
     "execution_count": 38,
     "metadata": {},
     "output_type": "execute_result"
    }
   ],
   "source": [
    "df.shape"
   ]
  },
  {
   "cell_type": "code",
   "execution_count": 42,
   "metadata": {},
   "outputs": [
    {
     "data": {
      "text/plain": [
       "1a_dose    349\n",
       "2a_dose    145\n",
       "Name: vacina_descricao_dose, dtype: int64"
      ]
     },
     "execution_count": 42,
     "metadata": {},
     "output_type": "execute_result"
    }
   ],
   "source": [
    "# Mostra a quantidade de vacinados com a 1a_dose e 2a_dose'\n",
    "\n",
    "df[\"vacina_descricao_dose\"].value_counts()\n"
   ]
  },
  {
   "cell_type": "code",
   "execution_count": 43,
   "metadata": {},
   "outputs": [
    {
     "data": {
      "text/plain": [
       "<AxesSubplot:>"
      ]
     },
     "execution_count": 43,
     "metadata": {},
     "output_type": "execute_result"
    },
    {
     "data": {
      "image/png": "[encoded data removed]",
      "text/plain": [
       "<Figure size 432x288 with 1 Axes>"
      ]
     },
     "metadata": {},
     "output_type": "display_data"
    }
   ],
   "source": [
    "df['vacina_descricao_dose'].hist(bins=30)"
   ]
  },
  {
   "cell_type": "markdown",
   "metadata": {},
   "source": [
    "# Criando um Pivot table para calcular pessoas vacinadas\n",
    "## com a 1. dose e 2. dose"
   ]
  },
  {
   "cell_type": "code",
   "execution_count": 95,
   "metadata": {},
   "outputs": [],
   "source": [
    "test = df\n",
    "\n",
    "doses_pivot = pd.pivot_table(data = test,\n",
    "                            index = \"paciente_id\",\n",
    "                            columns = \"vacina_descricao_dose\",\n",
    "                            values = \"vacina_dataAplicacao\",\n",
    "                            aggfunc = \"count\",\n",
    "                            fill_value = np.nan)\n"
   ]
  },
  {
   "cell_type": "code",
   "execution_count": 96,
   "metadata": {},
   "outputs": [
    {
     "name": "stdout",
     "output_type": "stream",
     "text": [
      "Criando o doses_pivot...\n"
     ]
    },
    {
     "data": {
      "text/html": [
       "<div>\n",
       "<style scoped>\n",
       "    .dataframe tbody tr th:only-of-type {\n",
       "        vertical-align: middle;\n",
       "    }\n",
       "\n",
       "    .dataframe tbody tr th {\n",
       "        vertical-align: top;\n",
       "    }\n",
       "\n",
       "    .dataframe thead th {\n",
       "        text-align: right;\n",
       "    }\n",
       "</style>\n",
       "<table border=\"1\" class=\"dataframe\">\n",
       "  <thead>\n",
       "    <tr style=\"text-align: right;\">\n",
       "      <th>vacina_descricao_dose</th>\n",
       "      <th>1a_dose</th>\n",
       "      <th>2a_dose</th>\n",
       "    </tr>\n",
       "    <tr>\n",
       "      <th>paciente_id</th>\n",
       "      <th></th>\n",
       "      <th></th>\n",
       "    </tr>\n",
       "  </thead>\n",
       "  <tbody>\n",
       "    <tr>\n",
       "      <th>6c62b4b30f72b5dea26d914c5ede09ec6d75e4bbe8f01bac4242a7cdc10f14c3</th>\n",
       "      <td>1.0</td>\n",
       "      <td>1.0</td>\n",
       "    </tr>\n",
       "  </tbody>\n",
       "</table>\n",
       "</div>"
      ],
      "text/plain": [
       "vacina_descricao_dose                               1a_dose  2a_dose\n",
       "paciente_id                                                         \n",
       "6c62b4b30f72b5dea26d914c5ede09ec6d75e4bbe8f01ba...      1.0      1.0"
      ]
     },
     "execution_count": 96,
     "metadata": {},
     "output_type": "execute_result"
    }
   ],
   "source": [
    "#Tomaram primeira e segunda dose:\n",
    "# Aqueles que nao sao nulos para segunda dose e para primeira dose:\n",
    "\n",
    "\n",
    "print(\"Criando o doses_pivot...\")\n",
    "\n",
    "doses_pivot.loc[(~doses_pivot[\"2a_dose\"].isnull()) & \n",
    "                (~doses_pivot[\"1a_dose\"].isnull())]\n"
   ]
  },
  {
   "cell_type": "markdown",
   "metadata": {},
   "source": [
    "# Tomaram primeira e segunda dose:\n",
    "# Aqueles que nao sao nulos para segunda dose e para primeira dose:\n",
    "\n"
   ]
  },
  {
   "cell_type": "code",
   "execution_count": 97,
   "metadata": {},
   "outputs": [
    {
     "data": {
      "text/plain": [
       "<AxesSubplot:title={'center':'Vacinados no Brasil'}, xlabel='vacina_descricao_dose', ylabel='Count'>"
      ]
     },
     "execution_count": 97,
     "metadata": {},
     "output_type": "execute_result"
    },
    {
     "data": {
      "image/png": "[encoded data removed]",
      "text/plain": [
       "<Figure size 576x432 with 1 Axes>"
      ]
     },
     "metadata": {},
     "output_type": "display_data"
    }
   ],
   "source": [
    "fig = plt.figure(figsize = (8,6))\n",
    "\n",
    "\n",
    "plt.title(\"Vacinados no Brasil\")\n",
    "\n",
    "sns.histplot(data=test, x=\"vacina_descricao_dose\", kde=True)\n",
    "\n",
    "\n",
    "\n"
   ]
  },
  {
   "cell_type": "code",
   "execution_count": 77,
   "metadata": {},
   "outputs": [
    {
     "data": {
      "text/plain": [
       "<AxesSubplot:xlabel='vacina_descricao_dose', ylabel='count'>"
      ]
     },
     "execution_count": 77,
     "metadata": {},
     "output_type": "execute_result"
    },
    {
     "data": {
      "image/png": "[encoded data removed]",
      "text/plain": [
       "<Figure size 720x432 with 1 Axes>"
      ]
     },
     "metadata": {},
     "output_type": "display_data"
    }
   ],
   "source": [
    "plt.figure(figsize = (10,6))\n",
    "sns.countplot(data=test, x = \"vacina_descricao_dose\")"
   ]
  },
  {
   "cell_type": "code",
   "execution_count": null,
   "metadata": {},
   "outputs": [],
   "source": []
  },
  {
   "cell_type": "code",
   "execution_count": null,
   "metadata": {},
   "outputs": [],
   "source": []
  },
  {
   "cell_type": "code",
   "execution_count": null,
   "metadata": {},
   "outputs": [],
   "source": []
  },
  {
   "cell_type": "code",
   "execution_count": null,
   "metadata": {},
   "outputs": [],
   "source": []
  },
  {
   "cell_type": "code",
   "execution_count": null,
   "metadata": {},
   "outputs": [],
   "source": []
  },
  {
   "cell_type": "code",
   "execution_count": null,
   "metadata": {},
   "outputs": [],
   "source": []
  }
 ],
 "metadata": {
  "kernelspec": {
   "display_name": "Python 3",
   "language": "python",
   "name": "python3"
  },
  "language_info": {
   "codemirror_mode": {
    "name": "ipython",
    "version": 3
   },
   "file_extension": ".py",
   "mimetype": "text/x-python",
   "name": "python",
   "nbconvert_exporter": "python",
   "pygments_lexer": "ipython3",
   "version": "3.8.5"
  }
 },
 "nbformat": 4,
 "nbformat_minor": 4
}
