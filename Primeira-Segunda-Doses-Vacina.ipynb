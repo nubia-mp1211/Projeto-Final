{
 "cells": [
  {
   "cell_type": "markdown",
   "metadata": {},
   "source": [
    "# Este programa faz uma análise do campo \"vacina_descricao_dose\"\n",
    "# para identificar se é a 1. Dose ou já e a 2.Dose da vacina\n",
    "# contra a COVID-19\n"
   ]
  },
  {
   "cell_type": "code",
   "execution_count": 6,
   "metadata": {},
   "outputs": [],
   "source": [
    "import requests \n",
    "import pandas as pd\n",
    "import time\n",
    "from datetime import datetime\n",
    "import csv\n",
    "\n",
    "# Importar bibliotecas para construir gráficos:\n",
    "\n",
    "import matplotlib.pyplot as plt\n",
    "import seaborn as sns\n",
    "sns.set()\n",
    "\n",
    "\n",
    "# Leitura do arquivo de Vacinacao completo selecionando alguns\n",
    "# campos para pesquisa:\n",
    "\n",
    "df = pd.read_csv(\"vacinas_2021-04-10-1357.csv\", sep=\";\", \n",
    "                 usecols = ['vacina_fabricante_nome',\n",
    "                            'paciente_idade',\n",
    "                            'vacina_dataAplicacao',\n",
    "                            'paciente_endereco_uf',\n",
    "                            'vacina_descricao_dose'])\n",
    "                                       "
   ]
  },
  {
   "cell_type": "markdown",
   "metadata": {},
   "source": [
    "# Após a execução do programa: Rodar-Programa-Alguns-Campos-Vacina\n",
    "para obter o número total de vacinados atualizados!!!\n"
   ]
  },
  {
   "cell_type": "code",
   "execution_count": 8,
   "metadata": {},
   "outputs": [
    {
     "data": {
      "text/plain": [
       "array(['\\xa0\\xa0\\xa0\\xa02ª\\xa0Dose', '\\xa0\\xa0\\xa0\\xa01ª\\xa0Dose',\n",
       "       '\\xa0\\xa0\\xa0\\xa0Dose\\xa0', '\\xa0\\xa0\\xa0\\xa0Única\\xa0'],\n",
       "      dtype=object)"
      ]
     },
     "execution_count": 8,
     "metadata": {},
     "output_type": "execute_result"
    }
   ],
   "source": [
    "#Verificar o conteúdo do campo \"vacina_descricao_dose\"\n",
    "\n",
    "df[\"vacina_descricao_dose\"].unique()"
   ]
  },
  {
   "cell_type": "code",
   "execution_count": 10,
   "metadata": {},
   "outputs": [
    {
     "data": {
      "text/plain": [
       "<bound method IndexOpsMixin.value_counts of 0               2a dose\n",
       "1               2a dose\n",
       "2               1a dose\n",
       "3               1a dose\n",
       "4               1a dose\n",
       "               ...     \n",
       "26434676        2a dose\n",
       "26434677        1a dose\n",
       "26434678        1a dose\n",
       "26434679        1a dose\n",
       "26434680        2a dose\n",
       "Name: copia_vacina_dose, Length: 26434681, dtype: object>"
      ]
     },
     "execution_count": 10,
     "metadata": {},
     "output_type": "execute_result"
    }
   ],
   "source": [
    "# Fazendo uma limpeza do campo \"vacina_descricao_dose\"\n",
    "# Cria um campo de \"copia_vacia_dose\"\n",
    "\n",
    "df[\"copia_vacina_dose\"] = df[\"vacina_descricao_dose\"]\n",
    "df[\"copia_vacina_dose\"] = (df[\"copia_vacina_dose\"]\n",
    "                              .str.lower()\n",
    "                              .str.normalize(\"NFKD\")\n",
    "                              .str.encode(\"ascii\", errors=\"ignore\")\n",
    "                              .str.decode(\"utf-8\"))\n",
    "df[\"copia_vacina_dose\"].value_counts"
   ]
  },
  {
   "cell_type": "code",
   "execution_count": 11,
   "metadata": {},
   "outputs": [
    {
     "data": {
      "text/plain": [
       "array(['    2a dose', '    1a dose', '    dose ', '    unica '],\n",
       "      dtype=object)"
      ]
     },
     "execution_count": 11,
     "metadata": {},
     "output_type": "execute_result"
    }
   ],
   "source": [
    "# Verifica o conteúdo do campo \"vacina_dose\"\n",
    "\n",
    "df[\"copia_vacina_dose\"].unique()"
   ]
  },
  {
   "cell_type": "markdown",
   "metadata": {},
   "source": [
    "# Faz a contagem do campo \"vacina_dose\" no Brasil:\n",
    "1) se foi aplicado somente a 1. Dose, \n",
    "2) se já foram aplicados as duas doses da vacina!!"
   ]
  },
  {
   "cell_type": "code",
   "execution_count": 12,
   "metadata": {},
   "outputs": [
    {
     "name": "stdout",
     "output_type": "stream",
     "text": [
      "As Doses de Vacinas Aplicadas no BRASIL:\n",
      "\n",
      "Total da Primeira dose vacina: 20466857\n",
      "Total da Segunda dose vacina: 5967695\n",
      "Dose Única: 3\n",
      "TOtal de vacinados = 26434552\n"
     ]
    }
   ],
   "source": [
    "\n",
    "Primeira_dose = len(df.loc[(df.copia_vacina_dose == '    1a dose')])\n",
    "Segunda_dose = len(df.loc[(df.copia_vacina_dose == '    2a dose')])\n",
    "Dose_unica = len(df.loc[(df.copia_vacina_dose == '    unica ')])\n",
    "#So_dose = len(df.loc[(df.copia_vacina_dose] )\n",
    "\n",
    "print('As Doses de Vacinas Aplicadas no BRASIL:\\n')\n",
    "print('Total da Primeira dose vacina:', Primeira_dose)\n",
    "print('Total da Segunda dose vacina:', Segunda_dose)\n",
    "print(\"Dose Única:\", Dose_unica)\n",
    "vacinados = Primeira_dose + Segunda_dose\n",
    "print('TOtal de vacinados =', vacinados)"
   ]
  },
  {
   "cell_type": "markdown",
   "metadata": {},
   "source": [
    "# Verificando o campo \"vacina_data_Aplicacao\" para montar gráfico:"
   ]
  },
  {
   "cell_type": "code",
   "execution_count": 27,
   "metadata": {},
   "outputs": [
    {
     "ename": "SyntaxError",
     "evalue": "invalid character in identifier (<ipython-input-27-685c5b4e25d9>, line 4)",
     "output_type": "error",
     "traceback": [
      "\u001b[0;36m  File \u001b[0;32m\"<ipython-input-27-685c5b4e25d9>\"\u001b[0;36m, line \u001b[0;32m4\u001b[0m\n\u001b[0;31m    data_e_hora_em_texto = data_e_hora_atuais.strftime(‘%d/%m/%Y’)\u001b[0m\n\u001b[0m                                                       ^\u001b[0m\n\u001b[0;31mSyntaxError\u001b[0m\u001b[0;31m:\u001b[0m invalid character in identifier\n"
     ]
    }
   ],
   "source": [
    "#df['vacina_dataAplicacao'] = pd.datetime(df['vacina_dataAplicacao'])\n",
    "\n",
    "\n",
    "\n",
    "\n"
   ]
  },
  {
   "cell_type": "code",
   "execution_count": 5,
   "metadata": {},
   "outputs": [
    {
     "ename": "AttributeError",
     "evalue": "'DataFrame' object has no attribute 'Segunda_dose'",
     "output_type": "error",
     "traceback": [
      "\u001b[0;31m---------------------------------------------------------------------------\u001b[0m",
      "\u001b[0;31mAttributeError\u001b[0m                            Traceback (most recent call last)",
      "\u001b[0;32m<ipython-input-5-a83a7949dbc3>\u001b[0m in \u001b[0;36m<module>\u001b[0;34m\u001b[0m\n\u001b[1;32m     11\u001b[0m \u001b[0mplt\u001b[0m\u001b[0;34m.\u001b[0m\u001b[0mxlim\u001b[0m\u001b[0;34m(\u001b[0m\u001b[0;34m-\u001b[0m\u001b[0;36m.5\u001b[0m\u001b[0;34m,\u001b[0m\u001b[0;36m0\u001b[0m\u001b[0;34m)\u001b[0m\u001b[0;34m\u001b[0m\u001b[0;34m\u001b[0m\u001b[0m\n\u001b[1;32m     12\u001b[0m \u001b[0;34m\u001b[0m\u001b[0m\n\u001b[0;32m---> 13\u001b[0;31m \u001b[0mplt\u001b[0m\u001b[0;34m.\u001b[0m\u001b[0mplot\u001b[0m\u001b[0;34m(\u001b[0m\u001b[0mdf\u001b[0m\u001b[0;34m.\u001b[0m\u001b[0mSegunda_dose\u001b[0m\u001b[0;34m)\u001b[0m\u001b[0;34m\u001b[0m\u001b[0;34m\u001b[0m\u001b[0m\n\u001b[0m\u001b[1;32m     14\u001b[0m \u001b[0;34m\u001b[0m\u001b[0m\n\u001b[1;32m     15\u001b[0m \u001b[0;34m\u001b[0m\u001b[0m\n",
      "\u001b[0;32m~/opt/anaconda3/lib/python3.8/site-packages/pandas/core/generic.py\u001b[0m in \u001b[0;36m__getattr__\u001b[0;34m(self, name)\u001b[0m\n\u001b[1;32m   5137\u001b[0m             \u001b[0;32mif\u001b[0m \u001b[0mself\u001b[0m\u001b[0;34m.\u001b[0m\u001b[0m_info_axis\u001b[0m\u001b[0;34m.\u001b[0m\u001b[0m_can_hold_identifiers_and_holds_name\u001b[0m\u001b[0;34m(\u001b[0m\u001b[0mname\u001b[0m\u001b[0;34m)\u001b[0m\u001b[0;34m:\u001b[0m\u001b[0;34m\u001b[0m\u001b[0;34m\u001b[0m\u001b[0m\n\u001b[1;32m   5138\u001b[0m                 \u001b[0;32mreturn\u001b[0m \u001b[0mself\u001b[0m\u001b[0;34m[\u001b[0m\u001b[0mname\u001b[0m\u001b[0;34m]\u001b[0m\u001b[0;34m\u001b[0m\u001b[0;34m\u001b[0m\u001b[0m\n\u001b[0;32m-> 5139\u001b[0;31m             \u001b[0;32mreturn\u001b[0m \u001b[0mobject\u001b[0m\u001b[0;34m.\u001b[0m\u001b[0m__getattribute__\u001b[0m\u001b[0;34m(\u001b[0m\u001b[0mself\u001b[0m\u001b[0;34m,\u001b[0m \u001b[0mname\u001b[0m\u001b[0;34m)\u001b[0m\u001b[0;34m\u001b[0m\u001b[0;34m\u001b[0m\u001b[0m\n\u001b[0m\u001b[1;32m   5140\u001b[0m \u001b[0;34m\u001b[0m\u001b[0m\n\u001b[1;32m   5141\u001b[0m     \u001b[0;32mdef\u001b[0m \u001b[0m__setattr__\u001b[0m\u001b[0;34m(\u001b[0m\u001b[0mself\u001b[0m\u001b[0;34m,\u001b[0m \u001b[0mname\u001b[0m\u001b[0;34m:\u001b[0m \u001b[0mstr\u001b[0m\u001b[0;34m,\u001b[0m \u001b[0mvalue\u001b[0m\u001b[0;34m)\u001b[0m \u001b[0;34m->\u001b[0m \u001b[0;32mNone\u001b[0m\u001b[0;34m:\u001b[0m\u001b[0;34m\u001b[0m\u001b[0;34m\u001b[0m\u001b[0m\n",
      "\u001b[0;31mAttributeError\u001b[0m: 'DataFrame' object has no attribute 'Segunda_dose'"
     ]
    },
    {
     "data": {
      "image/png": "[encoded data removed]",
      "text/plain": [
       "<Figure size 432x288 with 2 Axes>"
      ]
     },
     "metadata": {},
     "output_type": "display_data"
    }
   ],
   "source": [
    "fig = plt.figure()\n",
    "fig.add_subplot(1,2,1)\n",
    "plt.title (\"Primeira Dose\")\n",
    "plt.xlim((0,10))\n",
    "\n",
    "\n",
    "\n",
    "\n",
    "fig.add_subplot(1,2,2)\n",
    "plt.title(\"Segunda Dose\")\n",
    "plt.xlim(-.5,0)\n",
    "\n",
    "plt.plot(df.Segunda_dose)\n",
    "\n",
    "\n",
    "# ===>>> vou buscar outro campo \"vacina_data_aplicacao\""
   ]
  },
  {
   "cell_type": "code",
   "execution_count": null,
   "metadata": {},
   "outputs": [],
   "source": []
  },
  {
   "cell_type": "code",
   "execution_count": null,
   "metadata": {},
   "outputs": [],
   "source": []
  }
 ],
 "metadata": {
  "kernelspec": {
   "display_name": "Python 3",
   "language": "python",
   "name": "python3"
  },
  "language_info": {
   "codemirror_mode": {
    "name": "ipython",
    "version": 3
   },
   "file_extension": ".py",
   "mimetype": "text/x-python",
   "name": "python",
   "nbconvert_exporter": "python",
   "pygments_lexer": "ipython3",
   "version": "3.8.5"
  }
 },
 "nbformat": 4,
 "nbformat_minor": 4
}
