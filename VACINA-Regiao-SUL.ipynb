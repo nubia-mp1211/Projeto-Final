{
 "cells": [
  {
   "cell_type": "code",
   "execution_count": 1,
   "metadata": {},
   "outputs": [],
   "source": [
    "# Importando as bibliotecas necessarias:\n",
    "\n",
    "import requests \n",
    "import pandas as pd\n",
    "import time\n",
    "from datetime import datetime\n",
    "import csv\n",
    "\n",
    "\n",
    "import matplotlib.pyplot as plt\n",
    "import seaborn as sns\n",
    "sns.set()\n",
    "\n",
    "\n",
    "# Leitura do arquivo de VaciNA.csv selecionando alguns\n",
    "# campos para pesquisa:\n",
    "\n",
    "df = pd.read_csv(\"vacinas_2021-04-03-1708.csv\", sep=\";\", \n",
    "             usecols = ['vacina_descricao_dose', 'paciente_idade',\n",
    "                  'vacina_categoria_nome',\n",
    "                  'vacina_fabricante_nome', 'paciente_endereco_uf'])\n",
    "                 \n",
    "                \n"
   ]
  },
  {
   "cell_type": "code",
   "execution_count": 3,
   "metadata": {},
   "outputs": [
    {
     "name": "stdout",
     "output_type": "stream",
     "text": [
      "612371\n"
     ]
    }
   ],
   "source": [
    "# Estados da Região SUL:\n",
    "\n",
    "# (1) Estado de Santa Catarina - SC\n",
    "\n",
    "Santa_Cat = df.loc[(df.paciente_endereco_uf == 'SC')]\n",
    "\n",
    "print(len(Santa_Cat))\n",
    "\n",
    "#df.loc[(df.paciente_endereco_uf == 'SC')].hist(bins=100)"
   ]
  },
  {
   "cell_type": "code",
   "execution_count": 4,
   "metadata": {},
   "outputs": [
    {
     "name": "stdout",
     "output_type": "stream",
     "text": [
      "797983\n"
     ]
    }
   ],
   "source": [
    "# (2) Estado de PARANÁ - PR\n",
    "\n",
    "Parana = df.loc[(df.paciente_endereco_uf == 'PR')]\n",
    "\n",
    "print(len(Parana))\n",
    "#df.loc[(df.paciente_endereco_uf == 'PR')].hist(bins=100)"
   ]
  },
  {
   "cell_type": "code",
   "execution_count": 6,
   "metadata": {},
   "outputs": [
    {
     "name": "stdout",
     "output_type": "stream",
     "text": [
      "1560291\n"
     ]
    }
   ],
   "source": [
    "# (3) Estado de RIO GRAANDE DO SUL\n",
    "\n",
    "Rio_Sul = df.loc[(df.paciente_endereco_uf == 'RS')]\n",
    "\n",
    "print(len(Rio_Sul))\n",
    "\n",
    "#df.loc[(df.paciente_endereco_uf == 'RS')].hist(bins=100)"
   ]
  },
  {
   "cell_type": "code",
   "execution_count": 7,
   "metadata": {},
   "outputs": [
    {
     "name": "stdout",
     "output_type": "stream",
     "text": [
      "Somando total de vacinados .......\n",
      "A soma total da Regiao SUL -------->  2970645\n"
     ]
    }
   ],
   "source": [
    "# Calculando o total de vacinados da Região SUL\n",
    "#\n",
    "\n",
    "\n",
    "print (\"Somando total de vacinados .......\")\n",
    "\n",
    "\n",
    "soma_1 = df.loc[df['paciente_endereco_uf'].isin(['SC', 'PR', 'RS'])]\n",
    "\n",
    "\n",
    "print(\"A soma total da Regiao SUL --------> \", len(soma_1))                             \n",
    "                                       \n",
    "                     \n"
   ]
  },
  {
   "cell_type": "code",
   "execution_count": 14,
   "metadata": {},
   "outputs": [
    {
     "name": "stdout",
     "output_type": "stream",
     "text": [
      "A porcentagem brasileiros vacinadas na Regiao SUL é:  14.012476415094339\n"
     ]
    }
   ],
   "source": [
    "Porcentagem = len(soma_1)/(212000)\n",
    "\n",
    "print('A porcentagem brasileiros vacinadas na Regiao SUL é: ', Porcentagem)\n",
    "              "
   ]
  },
  {
   "cell_type": "code",
   "execution_count": null,
   "metadata": {},
   "outputs": [],
   "source": []
  }
 ],
 "metadata": {
  "kernelspec": {
   "display_name": "Python 3",
   "language": "python",
   "name": "python3"
  },
  "language_info": {
   "codemirror_mode": {
    "name": "ipython",
    "version": 3
   },
   "file_extension": ".py",
   "mimetype": "text/x-python",
   "name": "python",
   "nbconvert_exporter": "python",
   "pygments_lexer": "ipython3",
   "version": "3.8.5"
  }
 },
 "nbformat": 4,
 "nbformat_minor": 4
}
